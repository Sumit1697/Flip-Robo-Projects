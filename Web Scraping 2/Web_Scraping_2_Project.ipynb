{
 "cells": [
  {
   "cell_type": "markdown",
   "metadata": {},
   "source": [
    "### Q1) Write a python program to scrape data for “Data Analyst” Job position in “Bangalore” location. You have to scrape the job-title, job-location, company_name, experience_required. You have to scrape first 10 jobs data."
   ]
  },
  {
   "cell_type": "code",
   "execution_count": 1,
   "metadata": {},
   "outputs": [],
   "source": [
    "import selenium\n",
    "import pandas as pd\n",
    "import numpy as np\n",
    "from selenium import webdriver\n",
    "import time\n",
    "from selenium.webdriver.common.keys import Keys\n",
    "from sklearn.utils import shuffle"
   ]
  },
  {
   "cell_type": "markdown",
   "metadata": {},
   "source": [
    "### Task List "
   ]
  },
  {
   "cell_type": "raw",
   "metadata": {},
   "source": [
    "First get the webpage https://www.naukri.com/\n",
    "2. Enter “Data Analyst” in “Skill,Designations,Companies” field and enter “Bangalore” in “enter the location” field.\n",
    "3. Then click the search button.\n",
    "4. Then scrape the data for the first 10 jobs results you get.\n",
    "5. Finally create a dataframe of the scraped data.\n",
    "Note- All of the above steps have to be done in code. No step is to be done manually."
   ]
  },
  {
   "cell_type": "code",
   "execution_count": 2,
   "metadata": {},
   "outputs": [],
   "source": [
    "driver = webdriver.Chrome('/Users/sumitsantra/Desktop/Chrome Driver/chromedriver')"
   ]
  },
  {
   "cell_type": "code",
   "execution_count": 3,
   "metadata": {},
   "outputs": [],
   "source": [
    "url='https://www.naukri.com/'\n",
    "driver.get(url)"
   ]
  },
  {
   "cell_type": "code",
   "execution_count": 4,
   "metadata": {},
   "outputs": [],
   "source": [
    "search = driver.find_element_by_id('qsb-keyword-sugg')\n",
    "search.send_keys('Data Analyst')"
   ]
  },
  {
   "cell_type": "code",
   "execution_count": 5,
   "metadata": {},
   "outputs": [],
   "source": [
    "loc = driver.find_element_by_id('qsb-location-sugg')\n",
    "loc.send_keys('Bangalore')"
   ]
  },
  {
   "cell_type": "code",
   "execution_count": 6,
   "metadata": {},
   "outputs": [],
   "source": [
    "button = driver.find_element_by_class_name('btn')\n",
    "button.click()\n",
    "time.sleep(10)"
   ]
  },
  {
   "cell_type": "code",
   "execution_count": 7,
   "metadata": {},
   "outputs": [],
   "source": [
    "jobtitle = driver.find_elements_by_xpath(\"//a[@class='title fw500 ellipsis']\")"
   ]
  },
  {
   "cell_type": "code",
   "execution_count": 8,
   "metadata": {},
   "outputs": [],
   "source": [
    "Job_Title = []\n",
    "for i in jobtitle:\n",
    "    Job_Title.append(i.text)"
   ]
  },
  {
   "cell_type": "code",
   "execution_count": 9,
   "metadata": {},
   "outputs": [],
   "source": [
    "company = driver.find_elements_by_xpath(\"//a[@class='subTitle ellipsis fleft']\")"
   ]
  },
  {
   "cell_type": "code",
   "execution_count": 10,
   "metadata": {},
   "outputs": [],
   "source": [
    "Company = []\n",
    "for i in company:\n",
    "    Company.append(i.text)"
   ]
  },
  {
   "cell_type": "code",
   "execution_count": 11,
   "metadata": {},
   "outputs": [],
   "source": [
    "experience = driver.find_elements_by_xpath(\"//li[@class='fleft grey-text br2 placeHolderLi experience']\")\n",
    "Experience = []\n",
    "for i in experience:\n",
    "    Experience.append(i.text)"
   ]
  },
  {
   "cell_type": "code",
   "execution_count": 12,
   "metadata": {},
   "outputs": [],
   "source": [
    "salary = driver.find_elements_by_xpath(\"//li[@class='fleft grey-text br2 placeHolderLi salary']\")\n",
    "Salary = []\n",
    "for i in salary:\n",
    "    Salary.append(i.text)"
   ]
  },
  {
   "cell_type": "code",
   "execution_count": 13,
   "metadata": {},
   "outputs": [],
   "source": [
    "location = driver.find_elements_by_xpath(\"//li[@class='fleft grey-text br2 placeHolderLi location']\")\n",
    "Location = []\n",
    "for i in location:\n",
    "    Location.append(i.text)"
   ]
  },
  {
   "cell_type": "code",
   "execution_count": 14,
   "metadata": {},
   "outputs": [],
   "source": [
    "posted = driver.find_elements_by_xpath(\"//div[@class='type br2 fleft grey']\")\n",
    "Posted = []\n",
    "for i in posted:\n",
    "    Posted.append(i.text)"
   ]
  },
  {
   "cell_type": "code",
   "execution_count": 15,
   "metadata": {},
   "outputs": [],
   "source": [
    "description = driver.find_elements_by_xpath(\"//ul[@class='tags has-description']\")\n",
    "Description = []\n",
    "for i in description:\n",
    "    Description.append(i.text)"
   ]
  },
  {
   "cell_type": "code",
   "execution_count": 16,
   "metadata": {},
   "outputs": [],
   "source": [
    "New = []\n",
    "for i in Description:\n",
    "    a = i.replace('\\n',',')\n",
    "    New.append(a)"
   ]
  },
  {
   "cell_type": "code",
   "execution_count": 17,
   "metadata": {},
   "outputs": [],
   "source": [
    "Required = []\n",
    "for i in Description:\n",
    "    a = i.replace('\\n', ',')\n",
    "    Required.append(a)"
   ]
  },
  {
   "cell_type": "code",
   "execution_count": 18,
   "metadata": {},
   "outputs": [],
   "source": [
    "Data_Analyst = {\n",
    "    'Job Title':Job_Title,\n",
    "    'Company Name':Company,\n",
    "    'Experience':Experience,\n",
    "    'Salary':Salary,\n",
    "    'Location':Location,\n",
    "    'Posted':Posted,\n",
    "    'Decription':New\n",
    "}"
   ]
  },
  {
   "cell_type": "code",
   "execution_count": 19,
   "metadata": {},
   "outputs": [],
   "source": [
    "Data_Analyst_Bangalore = pd.DataFrame.from_dict(Data_Analyst, orient='index')"
   ]
  },
  {
   "cell_type": "code",
   "execution_count": 20,
   "metadata": {},
   "outputs": [
    {
     "data": {
      "text/html": [
       "<div>\n",
       "<style scoped>\n",
       "    .dataframe tbody tr th:only-of-type {\n",
       "        vertical-align: middle;\n",
       "    }\n",
       "\n",
       "    .dataframe tbody tr th {\n",
       "        vertical-align: top;\n",
       "    }\n",
       "\n",
       "    .dataframe thead th {\n",
       "        text-align: right;\n",
       "    }\n",
       "</style>\n",
       "<table border=\"1\" class=\"dataframe\">\n",
       "  <thead>\n",
       "    <tr style=\"text-align: right;\">\n",
       "      <th></th>\n",
       "      <th>0</th>\n",
       "      <th>1</th>\n",
       "      <th>2</th>\n",
       "      <th>3</th>\n",
       "      <th>4</th>\n",
       "      <th>5</th>\n",
       "      <th>6</th>\n",
       "      <th>7</th>\n",
       "      <th>8</th>\n",
       "      <th>9</th>\n",
       "      <th>10</th>\n",
       "      <th>11</th>\n",
       "      <th>12</th>\n",
       "      <th>13</th>\n",
       "      <th>14</th>\n",
       "      <th>15</th>\n",
       "      <th>16</th>\n",
       "      <th>17</th>\n",
       "      <th>18</th>\n",
       "      <th>19</th>\n",
       "    </tr>\n",
       "  </thead>\n",
       "  <tbody>\n",
       "    <tr>\n",
       "      <th>Job Title</th>\n",
       "      <td>Data Scientist / Data Analyst -Business Analyst</td>\n",
       "      <td>Data Analyst</td>\n",
       "      <td>Hiring For Data Analyst/ MIS Reporting Analyst...</td>\n",
       "      <td>DA - Urgent Opening For Data Analyst BFSI Doma...</td>\n",
       "      <td>Data Analyst - Informatica MDM</td>\n",
       "      <td>Assistant Vice President - MIS &amp; Reporting ( B...</td>\n",
       "      <td>Data Analyst</td>\n",
       "      <td>Data Analyst</td>\n",
       "      <td>Data Analyst</td>\n",
       "      <td>Data Analyst</td>\n",
       "      <td>Data Analyst</td>\n",
       "      <td>Data Analyst</td>\n",
       "      <td>Senior/Regular Business Analyst / Data Analyst</td>\n",
       "      <td>Data Analyst</td>\n",
       "      <td>Hiring For Data Analyst @ Flipkart on Contract</td>\n",
       "      <td>Senior Data Analyst</td>\n",
       "      <td>Data Analyst</td>\n",
       "      <td>Cybersecurity Data Analyst</td>\n",
       "      <td>Business Data Analyst - MIS &amp; Reporting</td>\n",
       "      <td>Data Analyst / Business Analyst -</td>\n",
       "    </tr>\n",
       "    <tr>\n",
       "      <th>Company Name</th>\n",
       "      <td>Inflexion Analytix Private Limited</td>\n",
       "      <td>Applied Materials</td>\n",
       "      <td>PHARMACEUTICAL RESEARCH ASSOCIATES INDIA Pvt Ltd</td>\n",
       "      <td>Tata Consultancy Services Ltd.</td>\n",
       "      <td>Shell India Markets Private Limited</td>\n",
       "      <td>INTERTRUSTVITEOS CORPORATE AND FUND SERVICES P...</td>\n",
       "      <td>Myntra Designs Pvt. Ltd.</td>\n",
       "      <td>Myntra Designs Pvt. Ltd.</td>\n",
       "      <td>Myntra Designs Pvt. Ltd.</td>\n",
       "      <td>Myntra Designs Pvt. Ltd.</td>\n",
       "      <td>Myntra Designs Pvt. Ltd.</td>\n",
       "      <td>SA Tech Software (I) Pvt. Ltd.</td>\n",
       "      <td>Luxoft</td>\n",
       "      <td>Flipkart Internet Private Limited</td>\n",
       "      <td>Flipkart Internet Private Limited</td>\n",
       "      <td>Flipkart Internet Private Limited</td>\n",
       "      <td>IBM India Pvt. Limited</td>\n",
       "      <td>Huawei Technologies India Pvt Ltd</td>\n",
       "      <td>INTERTRUST GROUP</td>\n",
       "      <td>LatentView Analytics Private Limited</td>\n",
       "    </tr>\n",
       "    <tr>\n",
       "      <th>Experience</th>\n",
       "      <td>0-3 Yrs</td>\n",
       "      <td>7-10 Yrs</td>\n",
       "      <td>2-4 Yrs</td>\n",
       "      <td>4-9 Yrs</td>\n",
       "      <td>6-9 Yrs</td>\n",
       "      <td>12-18 Yrs</td>\n",
       "      <td>3-6 Yrs</td>\n",
       "      <td>3-6 Yrs</td>\n",
       "      <td>4-9 Yrs</td>\n",
       "      <td>4-8 Yrs</td>\n",
       "      <td>3-6 Yrs</td>\n",
       "      <td>1-3 Yrs</td>\n",
       "      <td>3-6 Yrs</td>\n",
       "      <td>1-3 Yrs</td>\n",
       "      <td>2-6 Yrs</td>\n",
       "      <td>2-5 Yrs</td>\n",
       "      <td>5-10 Yrs</td>\n",
       "      <td>5-8 Yrs</td>\n",
       "      <td>3-8 Yrs</td>\n",
       "      <td>1-5 Yrs</td>\n",
       "    </tr>\n",
       "    <tr>\n",
       "      <th>Salary</th>\n",
       "      <td>3,50,000 - 4,50,000 PA.</td>\n",
       "      <td>Not disclosed</td>\n",
       "      <td>Not disclosed</td>\n",
       "      <td>Not disclosed</td>\n",
       "      <td>Not disclosed</td>\n",
       "      <td>Not disclosed</td>\n",
       "      <td>Not disclosed</td>\n",
       "      <td>Not disclosed</td>\n",
       "      <td>Not disclosed</td>\n",
       "      <td>Not disclosed</td>\n",
       "      <td>Not disclosed</td>\n",
       "      <td>Not disclosed</td>\n",
       "      <td>Not disclosed</td>\n",
       "      <td>Not disclosed</td>\n",
       "      <td>Not disclosed</td>\n",
       "      <td>Not disclosed</td>\n",
       "      <td>Not disclosed</td>\n",
       "      <td>Not disclosed</td>\n",
       "      <td>Not disclosed</td>\n",
       "      <td>Not disclosed</td>\n",
       "    </tr>\n",
       "    <tr>\n",
       "      <th>Location</th>\n",
       "      <td>Mumbai, Hyderabad/Secunderabad, Pune, Gurgaon/...</td>\n",
       "      <td>Bangalore/Bengaluru</td>\n",
       "      <td>Bangalore/Bengaluru</td>\n",
       "      <td>Kolkata, Hyderabad/Secunderabad, Pune, Ahmedab...</td>\n",
       "      <td>Bangalore/Bengaluru</td>\n",
       "      <td>Mumbai, Bangalore/Bengaluru</td>\n",
       "      <td>Bangalore/Bengaluru</td>\n",
       "      <td>Bangalore/Bengaluru</td>\n",
       "      <td>Bangalore/Bengaluru</td>\n",
       "      <td>Bangalore/Bengaluru</td>\n",
       "      <td>Bangalore/Bengaluru</td>\n",
       "      <td>Kolkata, Pune, Chennai, Bangalore/Bengaluru, D...</td>\n",
       "      <td>Bangalore/Bengaluru</td>\n",
       "      <td>Bangalore/Bengaluru</td>\n",
       "      <td>Bangalore/Bengaluru</td>\n",
       "      <td>Bangalore/Bengaluru</td>\n",
       "      <td>Bangalore/Bengaluru</td>\n",
       "      <td>Bangalore/Bengaluru</td>\n",
       "      <td>Mumbai, Bangalore/Bengaluru</td>\n",
       "      <td>Chennai, Bangalore/Bengaluru</td>\n",
       "    </tr>\n",
       "    <tr>\n",
       "      <th>Posted</th>\n",
       "      <td>8 DAYS AGO</td>\n",
       "      <td>15 DAYS AGO</td>\n",
       "      <td>7 DAYS AGO</td>\n",
       "      <td>15 DAYS AGO</td>\n",
       "      <td>6 DAYS AGO</td>\n",
       "      <td>10 DAYS AGO</td>\n",
       "      <td>13 DAYS AGO</td>\n",
       "      <td>12 DAYS AGO</td>\n",
       "      <td>13 DAYS AGO</td>\n",
       "      <td>13 DAYS AGO</td>\n",
       "      <td>14 DAYS AGO</td>\n",
       "      <td>7 DAYS AGO</td>\n",
       "      <td>11 DAYS AGO</td>\n",
       "      <td>13 DAYS AGO</td>\n",
       "      <td>6 DAYS AGO</td>\n",
       "      <td>2 DAYS AGO</td>\n",
       "      <td>11 DAYS AGO</td>\n",
       "      <td>None</td>\n",
       "      <td>None</td>\n",
       "      <td>None</td>\n",
       "    </tr>\n",
       "    <tr>\n",
       "      <th>Decription</th>\n",
       "      <td>Business Intelligence,Artificial Intelligence,...</td>\n",
       "      <td>Real Time Analysis,Data Management,Data Analys...</td>\n",
       "      <td>Business Intelligence Reporting,Excel Powerpoi...</td>\n",
       "      <td>Banking,Data Collection,Data Quality,Loan Orig...</td>\n",
       "      <td>Data Quality,Oracle SQL,Configuration,Web Tech...</td>\n",
       "      <td>Data Engineering,SQL Server,Data Visualization...</td>\n",
       "      <td>R,Excel,Data Analysis,Tableau,Data Analytics,S...</td>\n",
       "      <td>R,Excel,Data Analysis,Business Insights,Tablea...</td>\n",
       "      <td>Excel,Data Engineering,Data Analysis,Business ...</td>\n",
       "      <td>R,Excel,Data Analysis,Business Insights,Tablea...</td>\n",
       "      <td>R,Excel,Data visualization,Data Analysis,Busin...</td>\n",
       "      <td>analytical,Excel,analytics,Word,PowerPoint,con...</td>\n",
       "      <td>analytics,Agile Methodology,Retail,Data valida...</td>\n",
       "      <td>R,Hive,Excel,Big Data,Data Analysis,Tableau,Da...</td>\n",
       "      <td>Data Analysis,Advanced Excel,SQL,Power Bi,Repo...</td>\n",
       "      <td>Excel,Power Bi,Web Technologies,Data Analysis,...</td>\n",
       "      <td>Business Intelligence,Data Reconciliation,Scru...</td>\n",
       "      <td>Java,Cnn,Algorithms,Application Security,Big D...</td>\n",
       "      <td>SQL Server,Tableau,ETL,Spotfire,Data Engineeri...</td>\n",
       "      <td>Predictive Modeling,Data analyst,Business Anal...</td>\n",
       "    </tr>\n",
       "  </tbody>\n",
       "</table>\n",
       "</div>"
      ],
      "text/plain": [
       "                                                              0  \\\n",
       "Job Title       Data Scientist / Data Analyst -Business Analyst   \n",
       "Company Name                 Inflexion Analytix Private Limited   \n",
       "Experience                                              0-3 Yrs   \n",
       "Salary                                  3,50,000 - 4,50,000 PA.   \n",
       "Location      Mumbai, Hyderabad/Secunderabad, Pune, Gurgaon/...   \n",
       "Posted                                               8 DAYS AGO   \n",
       "Decription    Business Intelligence,Artificial Intelligence,...   \n",
       "\n",
       "                                                              1  \\\n",
       "Job Title                                          Data Analyst   \n",
       "Company Name                                  Applied Materials   \n",
       "Experience                                             7-10 Yrs   \n",
       "Salary                                            Not disclosed   \n",
       "Location                                    Bangalore/Bengaluru   \n",
       "Posted                                              15 DAYS AGO   \n",
       "Decription    Real Time Analysis,Data Management,Data Analys...   \n",
       "\n",
       "                                                              2  \\\n",
       "Job Title     Hiring For Data Analyst/ MIS Reporting Analyst...   \n",
       "Company Name   PHARMACEUTICAL RESEARCH ASSOCIATES INDIA Pvt Ltd   \n",
       "Experience                                              2-4 Yrs   \n",
       "Salary                                            Not disclosed   \n",
       "Location                                    Bangalore/Bengaluru   \n",
       "Posted                                               7 DAYS AGO   \n",
       "Decription    Business Intelligence Reporting,Excel Powerpoi...   \n",
       "\n",
       "                                                              3  \\\n",
       "Job Title     DA - Urgent Opening For Data Analyst BFSI Doma...   \n",
       "Company Name                     Tata Consultancy Services Ltd.   \n",
       "Experience                                              4-9 Yrs   \n",
       "Salary                                            Not disclosed   \n",
       "Location      Kolkata, Hyderabad/Secunderabad, Pune, Ahmedab...   \n",
       "Posted                                              15 DAYS AGO   \n",
       "Decription    Banking,Data Collection,Data Quality,Loan Orig...   \n",
       "\n",
       "                                                              4  \\\n",
       "Job Title                        Data Analyst - Informatica MDM   \n",
       "Company Name                Shell India Markets Private Limited   \n",
       "Experience                                              6-9 Yrs   \n",
       "Salary                                            Not disclosed   \n",
       "Location                                    Bangalore/Bengaluru   \n",
       "Posted                                               6 DAYS AGO   \n",
       "Decription    Data Quality,Oracle SQL,Configuration,Web Tech...   \n",
       "\n",
       "                                                              5  \\\n",
       "Job Title     Assistant Vice President - MIS & Reporting ( B...   \n",
       "Company Name  INTERTRUSTVITEOS CORPORATE AND FUND SERVICES P...   \n",
       "Experience                                            12-18 Yrs   \n",
       "Salary                                            Not disclosed   \n",
       "Location                            Mumbai, Bangalore/Bengaluru   \n",
       "Posted                                              10 DAYS AGO   \n",
       "Decription    Data Engineering,SQL Server,Data Visualization...   \n",
       "\n",
       "                                                              6  \\\n",
       "Job Title                                          Data Analyst   \n",
       "Company Name                           Myntra Designs Pvt. Ltd.   \n",
       "Experience                                              3-6 Yrs   \n",
       "Salary                                            Not disclosed   \n",
       "Location                                    Bangalore/Bengaluru   \n",
       "Posted                                              13 DAYS AGO   \n",
       "Decription    R,Excel,Data Analysis,Tableau,Data Analytics,S...   \n",
       "\n",
       "                                                              7  \\\n",
       "Job Title                                          Data Analyst   \n",
       "Company Name                           Myntra Designs Pvt. Ltd.   \n",
       "Experience                                              3-6 Yrs   \n",
       "Salary                                            Not disclosed   \n",
       "Location                                    Bangalore/Bengaluru   \n",
       "Posted                                              12 DAYS AGO   \n",
       "Decription    R,Excel,Data Analysis,Business Insights,Tablea...   \n",
       "\n",
       "                                                              8  \\\n",
       "Job Title                                          Data Analyst   \n",
       "Company Name                           Myntra Designs Pvt. Ltd.   \n",
       "Experience                                              4-9 Yrs   \n",
       "Salary                                            Not disclosed   \n",
       "Location                                    Bangalore/Bengaluru   \n",
       "Posted                                              13 DAYS AGO   \n",
       "Decription    Excel,Data Engineering,Data Analysis,Business ...   \n",
       "\n",
       "                                                              9  \\\n",
       "Job Title                                          Data Analyst   \n",
       "Company Name                           Myntra Designs Pvt. Ltd.   \n",
       "Experience                                              4-8 Yrs   \n",
       "Salary                                            Not disclosed   \n",
       "Location                                    Bangalore/Bengaluru   \n",
       "Posted                                              13 DAYS AGO   \n",
       "Decription    R,Excel,Data Analysis,Business Insights,Tablea...   \n",
       "\n",
       "                                                             10  \\\n",
       "Job Title                                          Data Analyst   \n",
       "Company Name                           Myntra Designs Pvt. Ltd.   \n",
       "Experience                                              3-6 Yrs   \n",
       "Salary                                            Not disclosed   \n",
       "Location                                    Bangalore/Bengaluru   \n",
       "Posted                                              14 DAYS AGO   \n",
       "Decription    R,Excel,Data visualization,Data Analysis,Busin...   \n",
       "\n",
       "                                                             11  \\\n",
       "Job Title                                          Data Analyst   \n",
       "Company Name                     SA Tech Software (I) Pvt. Ltd.   \n",
       "Experience                                              1-3 Yrs   \n",
       "Salary                                            Not disclosed   \n",
       "Location      Kolkata, Pune, Chennai, Bangalore/Bengaluru, D...   \n",
       "Posted                                               7 DAYS AGO   \n",
       "Decription    analytical,Excel,analytics,Word,PowerPoint,con...   \n",
       "\n",
       "                                                             12  \\\n",
       "Job Title        Senior/Regular Business Analyst / Data Analyst   \n",
       "Company Name                                             Luxoft   \n",
       "Experience                                              3-6 Yrs   \n",
       "Salary                                            Not disclosed   \n",
       "Location                                    Bangalore/Bengaluru   \n",
       "Posted                                              11 DAYS AGO   \n",
       "Decription    analytics,Agile Methodology,Retail,Data valida...   \n",
       "\n",
       "                                                             13  \\\n",
       "Job Title                                          Data Analyst   \n",
       "Company Name                  Flipkart Internet Private Limited   \n",
       "Experience                                              1-3 Yrs   \n",
       "Salary                                            Not disclosed   \n",
       "Location                                    Bangalore/Bengaluru   \n",
       "Posted                                              13 DAYS AGO   \n",
       "Decription    R,Hive,Excel,Big Data,Data Analysis,Tableau,Da...   \n",
       "\n",
       "                                                             14  \\\n",
       "Job Title        Hiring For Data Analyst @ Flipkart on Contract   \n",
       "Company Name                  Flipkart Internet Private Limited   \n",
       "Experience                                              2-6 Yrs   \n",
       "Salary                                            Not disclosed   \n",
       "Location                                    Bangalore/Bengaluru   \n",
       "Posted                                               6 DAYS AGO   \n",
       "Decription    Data Analysis,Advanced Excel,SQL,Power Bi,Repo...   \n",
       "\n",
       "                                                             15  \\\n",
       "Job Title                                   Senior Data Analyst   \n",
       "Company Name                  Flipkart Internet Private Limited   \n",
       "Experience                                              2-5 Yrs   \n",
       "Salary                                            Not disclosed   \n",
       "Location                                    Bangalore/Bengaluru   \n",
       "Posted                                               2 DAYS AGO   \n",
       "Decription    Excel,Power Bi,Web Technologies,Data Analysis,...   \n",
       "\n",
       "                                                             16  \\\n",
       "Job Title                                          Data Analyst   \n",
       "Company Name                             IBM India Pvt. Limited   \n",
       "Experience                                             5-10 Yrs   \n",
       "Salary                                            Not disclosed   \n",
       "Location                                    Bangalore/Bengaluru   \n",
       "Posted                                              11 DAYS AGO   \n",
       "Decription    Business Intelligence,Data Reconciliation,Scru...   \n",
       "\n",
       "                                                             17  \\\n",
       "Job Title                            Cybersecurity Data Analyst   \n",
       "Company Name                  Huawei Technologies India Pvt Ltd   \n",
       "Experience                                              5-8 Yrs   \n",
       "Salary                                            Not disclosed   \n",
       "Location                                    Bangalore/Bengaluru   \n",
       "Posted                                                     None   \n",
       "Decription    Java,Cnn,Algorithms,Application Security,Big D...   \n",
       "\n",
       "                                                             18  \\\n",
       "Job Title               Business Data Analyst - MIS & Reporting   \n",
       "Company Name                                   INTERTRUST GROUP   \n",
       "Experience                                              3-8 Yrs   \n",
       "Salary                                            Not disclosed   \n",
       "Location                            Mumbai, Bangalore/Bengaluru   \n",
       "Posted                                                     None   \n",
       "Decription    SQL Server,Tableau,ETL,Spotfire,Data Engineeri...   \n",
       "\n",
       "                                                             19  \n",
       "Job Title                     Data Analyst / Business Analyst -  \n",
       "Company Name               LatentView Analytics Private Limited  \n",
       "Experience                                              1-5 Yrs  \n",
       "Salary                                            Not disclosed  \n",
       "Location                           Chennai, Bangalore/Bengaluru  \n",
       "Posted                                                     None  \n",
       "Decription    Predictive Modeling,Data analyst,Business Anal...  "
      ]
     },
     "execution_count": 20,
     "metadata": {},
     "output_type": "execute_result"
    }
   ],
   "source": [
    "Data_Analyst_Bangalore"
   ]
  },
  {
   "cell_type": "code",
   "execution_count": 21,
   "metadata": {},
   "outputs": [],
   "source": [
    "Data_Analyst_Bangalore = Data_Analyst_Bangalore.transpose()"
   ]
  },
  {
   "cell_type": "code",
   "execution_count": 22,
   "metadata": {},
   "outputs": [],
   "source": [
    "Data_Analyst_Bangalore.index = Data_Analyst_Bangalore.index + 1"
   ]
  },
  {
   "cell_type": "code",
   "execution_count": 23,
   "metadata": {},
   "outputs": [],
   "source": [
    "Top10DataAnalystJob = Data_Analyst_Bangalore[:10]"
   ]
  },
  {
   "cell_type": "code",
   "execution_count": 24,
   "metadata": {},
   "outputs": [],
   "source": [
    "Top10DataAnalystJob.to_csv('Top_10_Data_Analyst_Jobs_at_Bangalore.csv', encoding='utf-8', header='Data Analyst Jobs Bangalore')"
   ]
  },
  {
   "cell_type": "markdown",
   "metadata": {},
   "source": [
    "### Q3) Write a python program to scrape data for “Data Scientist” Job position in “Bangalore” location. You have to scrape the job-title, job-location, company_name, full job-description. You have to scrape first 10 jobs data."
   ]
  },
  {
   "cell_type": "markdown",
   "metadata": {},
   "source": [
    "### Task"
   ]
  },
  {
   "cell_type": "raw",
   "metadata": {},
   "source": [
    "1. first get the webpage https://www.naukri.com/\n",
    "2. Enter “Data Scientist” in “Skill,Designations,Companies” field and enter “Bangalore” in “enter the location” field.\n",
    "3. Then click the search button.\n",
    "4. Then scrape the data for the first 10 jobs results you get. 5. Finally create a dataframe of the scraped data."
   ]
  },
  {
   "cell_type": "code",
   "execution_count": 25,
   "metadata": {},
   "outputs": [],
   "source": [
    "url='https://www.naukri.com/'\n",
    "driver.get(url)"
   ]
  },
  {
   "cell_type": "code",
   "execution_count": 26,
   "metadata": {},
   "outputs": [],
   "source": [
    "search = driver.find_element_by_id('qsb-keyword-sugg')\n",
    "search.send_keys('Data Scientist')"
   ]
  },
  {
   "cell_type": "code",
   "execution_count": 27,
   "metadata": {},
   "outputs": [],
   "source": [
    "loc = driver.find_element_by_id('qsb-location-sugg')\n",
    "loc.send_keys('Bangalore')"
   ]
  },
  {
   "cell_type": "code",
   "execution_count": 28,
   "metadata": {},
   "outputs": [],
   "source": [
    "button = driver.find_element_by_class_name('btn')\n",
    "button.click()\n",
    "time.sleep(10)"
   ]
  },
  {
   "cell_type": "code",
   "execution_count": 29,
   "metadata": {},
   "outputs": [],
   "source": [
    "jobtitle = driver.find_elements_by_xpath(\"//a[@class='title fw500 ellipsis']\")\n",
    "Job_Title = []\n",
    "for i in jobtitle:\n",
    "    Job_Title.append(i.text)"
   ]
  },
  {
   "cell_type": "code",
   "execution_count": 30,
   "metadata": {},
   "outputs": [],
   "source": [
    "company = driver.find_elements_by_xpath(\"//a[@class='subTitle ellipsis fleft']\")\n",
    "Company = []\n",
    "for i in company:\n",
    "    Company.append(i.text)"
   ]
  },
  {
   "cell_type": "code",
   "execution_count": 31,
   "metadata": {},
   "outputs": [],
   "source": [
    "experience = driver.find_elements_by_xpath(\"//li[@class='fleft grey-text br2 placeHolderLi experience']\")\n",
    "Experience = []\n",
    "for i in experience:\n",
    "    Experience.append(i.text)"
   ]
  },
  {
   "cell_type": "code",
   "execution_count": 32,
   "metadata": {},
   "outputs": [],
   "source": [
    "salary = driver.find_elements_by_xpath(\"//li[@class='fleft grey-text br2 placeHolderLi salary']\")\n",
    "Salary = []\n",
    "for i in salary:\n",
    "    Salary.append(i.text)"
   ]
  },
  {
   "cell_type": "code",
   "execution_count": 33,
   "metadata": {},
   "outputs": [],
   "source": [
    "location = driver.find_elements_by_xpath(\"//li[@class='fleft grey-text br2 placeHolderLi location']\")\n",
    "Location = []\n",
    "for i in location:\n",
    "    Location.append(i.text)"
   ]
  },
  {
   "cell_type": "code",
   "execution_count": 34,
   "metadata": {},
   "outputs": [],
   "source": [
    "posted = driver.find_elements_by_xpath(\"//div[@class='type br2 fleft grey']\")\n",
    "Posted = []\n",
    "for i in posted:\n",
    "    Posted.append(i.text)"
   ]
  },
  {
   "cell_type": "code",
   "execution_count": 35,
   "metadata": {},
   "outputs": [],
   "source": [
    "description = driver.find_elements_by_xpath(\"//ul[@class='tags has-description']\")\n",
    "Description = []\n",
    "for i in description:\n",
    "    Description.append(i.text)"
   ]
  },
  {
   "cell_type": "code",
   "execution_count": 36,
   "metadata": {},
   "outputs": [],
   "source": [
    "New = []\n",
    "for i in Description:\n",
    "    a = i.replace('\\n',',')\n",
    "    New.append(a)"
   ]
  },
  {
   "cell_type": "code",
   "execution_count": 37,
   "metadata": {},
   "outputs": [],
   "source": [
    "Required = []\n",
    "for i in Description:\n",
    "    a = i.replace('\\n', ',')\n",
    "    Required.append(a)"
   ]
  },
  {
   "cell_type": "code",
   "execution_count": 38,
   "metadata": {},
   "outputs": [],
   "source": [
    "Data_Scientist = {\n",
    "    'Job Title':Job_Title,\n",
    "    'Company Name':Company,\n",
    "    'Experience':Experience,\n",
    "    'Salary':Salary,\n",
    "    'Location':Location,\n",
    "    'Posted':Posted,\n",
    "    'Decription':New\n",
    "}"
   ]
  },
  {
   "cell_type": "code",
   "execution_count": 39,
   "metadata": {},
   "outputs": [],
   "source": [
    "Data_Scientist_Bangalore = pd.DataFrame.from_dict(Data_Scientist, orient='index')"
   ]
  },
  {
   "cell_type": "code",
   "execution_count": 40,
   "metadata": {},
   "outputs": [],
   "source": [
    "Data_Scientist_Bangalore = Data_Scientist_Bangalore.transpose()"
   ]
  },
  {
   "cell_type": "code",
   "execution_count": 41,
   "metadata": {},
   "outputs": [],
   "source": [
    "Data_Scientist_Bangalore.index = Data_Scientist_Bangalore.index + 1"
   ]
  },
  {
   "cell_type": "code",
   "execution_count": 42,
   "metadata": {},
   "outputs": [],
   "source": [
    "Top10DataScientistJob = Data_Scientist_Bangalore[:10]"
   ]
  },
  {
   "cell_type": "code",
   "execution_count": 43,
   "metadata": {},
   "outputs": [],
   "source": [
    "Top10DataScientistJob.to_csv('Top_10_Data_Scientist_Jobs_at_Bangalore.csv', encoding='utf-8', header='Data Scientist Jobs Bangalore')"
   ]
  },
  {
   "cell_type": "markdown",
   "metadata": {},
   "source": [
    "### 2.Please note that you have to scrape full job description. For that you may have to open each job separately as shown below"
   ]
  },
  {
   "cell_type": "code",
   "execution_count": 44,
   "metadata": {},
   "outputs": [],
   "source": [
    "url='https://www.naukri.com/'\n",
    "driver.get(url)\n",
    "time.sleep(2)"
   ]
  },
  {
   "cell_type": "code",
   "execution_count": 45,
   "metadata": {},
   "outputs": [],
   "source": [
    "search = driver.find_element_by_id('qsb-keyword-sugg')\n",
    "search.send_keys('Data Scientist')"
   ]
  },
  {
   "cell_type": "code",
   "execution_count": 46,
   "metadata": {},
   "outputs": [],
   "source": [
    "loc = driver.find_element_by_id('qsb-location-sugg')\n",
    "loc.send_keys('Bangalore')"
   ]
  },
  {
   "cell_type": "code",
   "execution_count": 47,
   "metadata": {},
   "outputs": [],
   "source": [
    "button = driver.find_element_by_class_name('btn')\n",
    "button.click()\n",
    "time.sleep(5)"
   ]
  },
  {
   "cell_type": "code",
   "execution_count": 48,
   "metadata": {},
   "outputs": [],
   "source": [
    "link = driver.find_elements_by_xpath(\"//a[@class='title fw500 ellipsis']\")\n",
    "Link = []\n",
    "for i in link:\n",
    "    a = i.get_attribute('href')\n",
    "    Link.append(a)"
   ]
  },
  {
   "cell_type": "code",
   "execution_count": 49,
   "metadata": {},
   "outputs": [],
   "source": [
    "company = driver.find_elements_by_xpath(\"//a[@class='subTitle ellipsis fleft']\")\n",
    "Company = []\n",
    "for i in company:\n",
    "    Company.append(i.text)"
   ]
  },
  {
   "cell_type": "code",
   "execution_count": 50,
   "metadata": {},
   "outputs": [],
   "source": [
    "Description = []\n",
    "for i in Link:\n",
    "    driver.get(i)\n",
    "    time.sleep(2)\n",
    "    desc = driver.find_elements_by_xpath(\"//div[@class='dang-inner-html']\")\n",
    "    for i in desc:\n",
    "        Description.append(i.text)"
   ]
  },
  {
   "cell_type": "code",
   "execution_count": 51,
   "metadata": {},
   "outputs": [],
   "source": [
    "Clean = []\n",
    "for i in Description:\n",
    "    Clean.append(i.replace('\\n', ' '))"
   ]
  },
  {
   "cell_type": "code",
   "execution_count": 52,
   "metadata": {},
   "outputs": [],
   "source": [
    "Top10JobDescription = {\n",
    "    'Company Name':Company,\n",
    "    'Job Description':Clean\n",
    "}"
   ]
  },
  {
   "cell_type": "code",
   "execution_count": 53,
   "metadata": {},
   "outputs": [],
   "source": [
    "Top10JobDescription = pd.DataFrame.from_dict(Top10JobDescription, orient='index')"
   ]
  },
  {
   "cell_type": "code",
   "execution_count": 54,
   "metadata": {},
   "outputs": [],
   "source": [
    "Top10JobDescription = Top10JobDescription.transpose()"
   ]
  },
  {
   "cell_type": "code",
   "execution_count": 55,
   "metadata": {},
   "outputs": [],
   "source": [
    "Top10JobDescription = Top10JobDescription[:10]"
   ]
  },
  {
   "cell_type": "code",
   "execution_count": 56,
   "metadata": {},
   "outputs": [],
   "source": [
    "Top10JobDescription.index = Top10JobDescription.index + 1"
   ]
  },
  {
   "cell_type": "code",
   "execution_count": 57,
   "metadata": {},
   "outputs": [],
   "source": [
    "Top10JobDescription.to_csv(\"Top_10_Job_Description.csv\", encoding='utf-8', header='Top 10 Job Description')"
   ]
  },
  {
   "cell_type": "markdown",
   "metadata": {},
   "source": [
    "### Q3) In this question you have to scrape data using the filters available on the webpage as shown below:"
   ]
  },
  {
   "cell_type": "markdown",
   "metadata": {},
   "source": [
    "### Task"
   ]
  },
  {
   "cell_type": "raw",
   "metadata": {},
   "source": [
    "You have to use the location and salary filter.\n",
    "You have to scrape data for “Data Scientist” designation for first 10 job results.\n",
    "You have to scrape the job-title, job-location, company_name, experience_required.\n",
    "The location filter to be used is “Delhi/NCR”\n",
    "The salary filter to be used is “3-6” lakhs\n",
    "The task will be done as shown in the below steps:\n",
    "1. first get the webpage https://www.naukri.com/\n",
    "2. Enter “Data Scientist” in “Skill,Designations,Companies” field .\n",
    "3. Then click the search button.\n",
    "4. Then apply the location filter and salary filter by checking the respective boxes\n",
    "4. Then scrape the data for the first 10 jobs results you get.\n",
    "5. Finally create a dataframe of the scraped data."
   ]
  },
  {
   "cell_type": "code",
   "execution_count": 58,
   "metadata": {},
   "outputs": [],
   "source": [
    "driver.get('https://www.naukri.com/')"
   ]
  },
  {
   "cell_type": "code",
   "execution_count": 59,
   "metadata": {},
   "outputs": [],
   "source": [
    "search = driver.find_element_by_id('qsb-keyword-sugg')\n",
    "search.send_keys('Data Scientist')"
   ]
  },
  {
   "cell_type": "code",
   "execution_count": 60,
   "metadata": {},
   "outputs": [],
   "source": [
    "button = driver.find_element_by_class_name('btn')\n",
    "button.click()\n",
    "time.sleep(5)"
   ]
  },
  {
   "cell_type": "code",
   "execution_count": 61,
   "metadata": {},
   "outputs": [],
   "source": [
    "location = driver.find_elements_by_xpath(\"//span[@class='ellipsis fleft']\")\n",
    "location[1].click()\n",
    "time.sleep(2)"
   ]
  },
  {
   "cell_type": "code",
   "execution_count": 62,
   "metadata": {},
   "outputs": [],
   "source": [
    "salary = driver.find_elements_by_xpath(\"//span[@class='ellipsis fleft']\")\n",
    "salary[5].click()\n",
    "time.sleep(2)"
   ]
  },
  {
   "cell_type": "code",
   "execution_count": 63,
   "metadata": {},
   "outputs": [],
   "source": [
    "jobtitle = driver.find_elements_by_xpath(\"//a[@class='title fw500 ellipsis']\")\n",
    "Job_Title = []\n",
    "for i in jobtitle:\n",
    "    Job_Title.append(i.text)"
   ]
  },
  {
   "cell_type": "code",
   "execution_count": 64,
   "metadata": {},
   "outputs": [],
   "source": [
    "company = driver.find_elements_by_xpath(\"//a[@class='subTitle ellipsis fleft']\")\n",
    "Company = []\n",
    "for i in company:\n",
    "    Company.append(i.text)"
   ]
  },
  {
   "cell_type": "code",
   "execution_count": 65,
   "metadata": {},
   "outputs": [],
   "source": [
    "experience = driver.find_elements_by_xpath(\"//li[@class='fleft grey-text br2 placeHolderLi experience']\")\n",
    "Experience = []\n",
    "for i in experience:\n",
    "    Experience.append(i.text)"
   ]
  },
  {
   "cell_type": "code",
   "execution_count": 66,
   "metadata": {},
   "outputs": [],
   "source": [
    "salary = driver.find_elements_by_xpath(\"//li[@class='fleft grey-text br2 placeHolderLi salary']\")\n",
    "Salary = []\n",
    "for i in salary:\n",
    "    Salary.append(i.text)"
   ]
  },
  {
   "cell_type": "code",
   "execution_count": 67,
   "metadata": {},
   "outputs": [],
   "source": [
    "location = driver.find_elements_by_xpath(\"//li[@class='fleft grey-text br2 placeHolderLi location']\")\n",
    "Location = []\n",
    "for i in location:\n",
    "    Location.append(i.text)"
   ]
  },
  {
   "cell_type": "code",
   "execution_count": 68,
   "metadata": {},
   "outputs": [],
   "source": [
    "posted = driver.find_elements_by_xpath(\"//div[@class='type br2 fleft grey']\")\n",
    "Posted = []\n",
    "for i in posted:\n",
    "    Posted.append(i.text)"
   ]
  },
  {
   "cell_type": "code",
   "execution_count": 69,
   "metadata": {},
   "outputs": [],
   "source": [
    "Top10ByFilter = {\n",
    "    'Company Name':Company,\n",
    "    'Experience Required':Experience,\n",
    "    'Salary':Salary,\n",
    "    'Location':Location,\n",
    "    'Posted':Posted\n",
    "}"
   ]
  },
  {
   "cell_type": "code",
   "execution_count": 70,
   "metadata": {},
   "outputs": [],
   "source": [
    "Top10ComapniesInDelhiNCR = pd.DataFrame.from_dict(Top10ByFilter, orient='index')"
   ]
  },
  {
   "cell_type": "code",
   "execution_count": 71,
   "metadata": {},
   "outputs": [
    {
     "data": {
      "text/html": [
       "<div>\n",
       "<style scoped>\n",
       "    .dataframe tbody tr th:only-of-type {\n",
       "        vertical-align: middle;\n",
       "    }\n",
       "\n",
       "    .dataframe tbody tr th {\n",
       "        vertical-align: top;\n",
       "    }\n",
       "\n",
       "    .dataframe thead th {\n",
       "        text-align: right;\n",
       "    }\n",
       "</style>\n",
       "<table border=\"1\" class=\"dataframe\">\n",
       "  <thead>\n",
       "    <tr style=\"text-align: right;\">\n",
       "      <th></th>\n",
       "      <th>0</th>\n",
       "      <th>1</th>\n",
       "      <th>2</th>\n",
       "      <th>3</th>\n",
       "      <th>4</th>\n",
       "      <th>5</th>\n",
       "      <th>6</th>\n",
       "      <th>7</th>\n",
       "      <th>8</th>\n",
       "      <th>9</th>\n",
       "      <th>10</th>\n",
       "      <th>11</th>\n",
       "      <th>12</th>\n",
       "      <th>13</th>\n",
       "      <th>14</th>\n",
       "      <th>15</th>\n",
       "      <th>16</th>\n",
       "      <th>17</th>\n",
       "      <th>18</th>\n",
       "      <th>19</th>\n",
       "    </tr>\n",
       "  </thead>\n",
       "  <tbody>\n",
       "    <tr>\n",
       "      <th>Company Name</th>\n",
       "      <td>Inflexion Analytix Private Limited</td>\n",
       "      <td>Wipro</td>\n",
       "      <td>Ravgins International Pvt. Ltd.</td>\n",
       "      <td>NEC CORPORATION INDIA PRIVATE LIMITED</td>\n",
       "      <td>Mobikwik</td>\n",
       "      <td>CRESCENDO GLOBAL LEADERSHIP HIRING INDIA PRIVA...</td>\n",
       "      <td>CRESCENDO GLOBAL LEADERSHIP HIRING INDIA PRIVA...</td>\n",
       "      <td>Optum Global Solutions (India) Private Limited</td>\n",
       "      <td>NEC CORPORATION INDIA PRIVATE LIMITED</td>\n",
       "      <td>IBM India Pvt. Limited</td>\n",
       "      <td>Cloudstrats Technologies Private Limited</td>\n",
       "      <td>Country Veggie</td>\n",
       "      <td>Zenatix Solutions Private Limited</td>\n",
       "      <td>iNICU</td>\n",
       "      <td>BlackBuck</td>\n",
       "      <td>Delhivery</td>\n",
       "      <td>Sentieo</td>\n",
       "      <td>Mahajan Imaging</td>\n",
       "      <td>Mahajan Imaging</td>\n",
       "      <td>VBPO India Pvt Ltd.</td>\n",
       "    </tr>\n",
       "    <tr>\n",
       "      <th>Experience Required</th>\n",
       "      <td>0-3 Yrs</td>\n",
       "      <td>2-5 Yrs</td>\n",
       "      <td>3-5 Yrs</td>\n",
       "      <td>3-7 Yrs</td>\n",
       "      <td>3-5 Yrs</td>\n",
       "      <td>3-6 Yrs</td>\n",
       "      <td>3-6 Yrs</td>\n",
       "      <td>3-5 Yrs</td>\n",
       "      <td>3-8 Yrs</td>\n",
       "      <td>4-9 Yrs</td>\n",
       "      <td>5-8 Yrs</td>\n",
       "      <td>1-3 Yrs</td>\n",
       "      <td>5-10 Yrs</td>\n",
       "      <td>1-5 Yrs</td>\n",
       "      <td>3-7 Yrs</td>\n",
       "      <td>1-3 Yrs</td>\n",
       "      <td>2-7 Yrs</td>\n",
       "      <td>2-6 Yrs</td>\n",
       "      <td>2-6 Yrs</td>\n",
       "      <td>3-6 Yrs</td>\n",
       "    </tr>\n",
       "    <tr>\n",
       "      <th>Salary</th>\n",
       "      <td>3,50,000 - 4,50,000 PA.</td>\n",
       "      <td>3,50,000 - 6,50,000 PA.</td>\n",
       "      <td>5,00,000 - 6,00,000 PA.</td>\n",
       "      <td>50,000 - 3,00,000 PA.</td>\n",
       "      <td>Not disclosed</td>\n",
       "      <td>5,00,000 - 9,00,000 PA.</td>\n",
       "      <td>5,00,000 - 8,00,000 PA.</td>\n",
       "      <td>Not disclosed</td>\n",
       "      <td>4,00,000 - 9,00,000 PA.</td>\n",
       "      <td>Not disclosed</td>\n",
       "      <td>Not disclosed</td>\n",
       "      <td>Not disclosed</td>\n",
       "      <td>5,00,000 - 14,00,000 PA.</td>\n",
       "      <td>Not disclosed</td>\n",
       "      <td>Not disclosed</td>\n",
       "      <td>Not disclosed</td>\n",
       "      <td>Not disclosed</td>\n",
       "      <td>Not disclosed</td>\n",
       "      <td>Not disclosed</td>\n",
       "      <td>Not disclosed</td>\n",
       "    </tr>\n",
       "    <tr>\n",
       "      <th>Location</th>\n",
       "      <td>Mumbai, Hyderabad/Secunderabad, Pune, Gurgaon/...</td>\n",
       "      <td>Noida, Gurgaon/Gurugram</td>\n",
       "      <td>Bangalore/Bengaluru, Delhi / NCR, Mumbai (All ...</td>\n",
       "      <td>Noida, Bangalore/Bengaluru</td>\n",
       "      <td>New Delhi, Gurgaon/Gurugram, Delhi / NCR</td>\n",
       "      <td>Gurgaon/Gurugram, Delhi / NCR</td>\n",
       "      <td>Gurgaon/Gurugram, Delhi / NCR</td>\n",
       "      <td>Noida</td>\n",
       "      <td>Noida, Bangalore/Bengaluru</td>\n",
       "      <td>Noida, Hyderabad/Secunderabad, Bangalore/Benga...</td>\n",
       "      <td>Bangalore/Bengaluru, Delhi / NCR, Mumbai (All ...</td>\n",
       "      <td>Bharuch, Jaipur, Bhopal, Mumbai, Jhansi, Nagpu...</td>\n",
       "      <td>Gurgaon/Gurugram</td>\n",
       "      <td>Delhi</td>\n",
       "      <td>Gurgaon/Gurugram, Bangalore/Bengaluru</td>\n",
       "      <td>Gurgaon/Gurugram</td>\n",
       "      <td>Delhi</td>\n",
       "      <td>New Delhi</td>\n",
       "      <td>Delhi</td>\n",
       "      <td>Mumbai, Delhi / NCR</td>\n",
       "    </tr>\n",
       "    <tr>\n",
       "      <th>Posted</th>\n",
       "      <td>8 DAYS AGO</td>\n",
       "      <td>4 DAYS AGO</td>\n",
       "      <td>14 DAYS AGO</td>\n",
       "      <td>12 DAYS AGO</td>\n",
       "      <td>10 DAYS AGO</td>\n",
       "      <td>10 DAYS AGO</td>\n",
       "      <td>6 DAYS AGO</td>\n",
       "      <td>14 DAYS AGO</td>\n",
       "      <td>18 DAYS AGO</td>\n",
       "      <td>15 DAYS AGO</td>\n",
       "      <td>30+ DAYS AGO</td>\n",
       "      <td>21 DAYS AGO</td>\n",
       "      <td>30+ DAYS AGO</td>\n",
       "      <td>30+ DAYS AGO</td>\n",
       "      <td>30+ DAYS AGO</td>\n",
       "      <td>30+ DAYS AGO</td>\n",
       "      <td>30+ DAYS AGO</td>\n",
       "      <td>30+ DAYS AGO</td>\n",
       "      <td>12 DAYS AGO</td>\n",
       "      <td>None</td>\n",
       "    </tr>\n",
       "  </tbody>\n",
       "</table>\n",
       "</div>"
      ],
      "text/plain": [
       "                                                                     0  \\\n",
       "Company Name                        Inflexion Analytix Private Limited   \n",
       "Experience Required                                            0-3 Yrs   \n",
       "Salary                                         3,50,000 - 4,50,000 PA.   \n",
       "Location             Mumbai, Hyderabad/Secunderabad, Pune, Gurgaon/...   \n",
       "Posted                                                      8 DAYS AGO   \n",
       "\n",
       "                                           1  \\\n",
       "Company Name                           Wipro   \n",
       "Experience Required                  2-5 Yrs   \n",
       "Salary               3,50,000 - 6,50,000 PA.   \n",
       "Location             Noida, Gurgaon/Gurugram   \n",
       "Posted                            4 DAYS AGO   \n",
       "\n",
       "                                                                     2  \\\n",
       "Company Name                           Ravgins International Pvt. Ltd.   \n",
       "Experience Required                                            3-5 Yrs   \n",
       "Salary                                         5,00,000 - 6,00,000 PA.   \n",
       "Location             Bangalore/Bengaluru, Delhi / NCR, Mumbai (All ...   \n",
       "Posted                                                     14 DAYS AGO   \n",
       "\n",
       "                                                         3  \\\n",
       "Company Name         NEC CORPORATION INDIA PRIVATE LIMITED   \n",
       "Experience Required                                3-7 Yrs   \n",
       "Salary                               50,000 - 3,00,000 PA.   \n",
       "Location                        Noida, Bangalore/Bengaluru   \n",
       "Posted                                         12 DAYS AGO   \n",
       "\n",
       "                                                            4  \\\n",
       "Company Name                                         Mobikwik   \n",
       "Experience Required                                   3-5 Yrs   \n",
       "Salary                                          Not disclosed   \n",
       "Location             New Delhi, Gurgaon/Gurugram, Delhi / NCR   \n",
       "Posted                                            10 DAYS AGO   \n",
       "\n",
       "                                                                     5  \\\n",
       "Company Name         CRESCENDO GLOBAL LEADERSHIP HIRING INDIA PRIVA...   \n",
       "Experience Required                                            3-6 Yrs   \n",
       "Salary                                         5,00,000 - 9,00,000 PA.   \n",
       "Location                                 Gurgaon/Gurugram, Delhi / NCR   \n",
       "Posted                                                     10 DAYS AGO   \n",
       "\n",
       "                                                                     6  \\\n",
       "Company Name         CRESCENDO GLOBAL LEADERSHIP HIRING INDIA PRIVA...   \n",
       "Experience Required                                            3-6 Yrs   \n",
       "Salary                                         5,00,000 - 8,00,000 PA.   \n",
       "Location                                 Gurgaon/Gurugram, Delhi / NCR   \n",
       "Posted                                                      6 DAYS AGO   \n",
       "\n",
       "                                                                  7  \\\n",
       "Company Name         Optum Global Solutions (India) Private Limited   \n",
       "Experience Required                                         3-5 Yrs   \n",
       "Salary                                                Not disclosed   \n",
       "Location                                                      Noida   \n",
       "Posted                                                  14 DAYS AGO   \n",
       "\n",
       "                                                         8  \\\n",
       "Company Name         NEC CORPORATION INDIA PRIVATE LIMITED   \n",
       "Experience Required                                3-8 Yrs   \n",
       "Salary                             4,00,000 - 9,00,000 PA.   \n",
       "Location                        Noida, Bangalore/Bengaluru   \n",
       "Posted                                         18 DAYS AGO   \n",
       "\n",
       "                                                                     9  \\\n",
       "Company Name                                    IBM India Pvt. Limited   \n",
       "Experience Required                                            4-9 Yrs   \n",
       "Salary                                                   Not disclosed   \n",
       "Location             Noida, Hyderabad/Secunderabad, Bangalore/Benga...   \n",
       "Posted                                                     15 DAYS AGO   \n",
       "\n",
       "                                                                    10  \\\n",
       "Company Name                  Cloudstrats Technologies Private Limited   \n",
       "Experience Required                                            5-8 Yrs   \n",
       "Salary                                                   Not disclosed   \n",
       "Location             Bangalore/Bengaluru, Delhi / NCR, Mumbai (All ...   \n",
       "Posted                                                    30+ DAYS AGO   \n",
       "\n",
       "                                                                    11  \\\n",
       "Company Name                                            Country Veggie   \n",
       "Experience Required                                            1-3 Yrs   \n",
       "Salary                                                   Not disclosed   \n",
       "Location             Bharuch, Jaipur, Bhopal, Mumbai, Jhansi, Nagpu...   \n",
       "Posted                                                     21 DAYS AGO   \n",
       "\n",
       "                                                    12             13  \\\n",
       "Company Name         Zenatix Solutions Private Limited          iNICU   \n",
       "Experience Required                           5-10 Yrs        1-5 Yrs   \n",
       "Salary                        5,00,000 - 14,00,000 PA.  Not disclosed   \n",
       "Location                              Gurgaon/Gurugram          Delhi   \n",
       "Posted                                    30+ DAYS AGO   30+ DAYS AGO   \n",
       "\n",
       "                                                        14                15  \\\n",
       "Company Name                                     BlackBuck         Delhivery   \n",
       "Experience Required                                3-7 Yrs           1-3 Yrs   \n",
       "Salary                                       Not disclosed     Not disclosed   \n",
       "Location             Gurgaon/Gurugram, Bangalore/Bengaluru  Gurgaon/Gurugram   \n",
       "Posted                                        30+ DAYS AGO      30+ DAYS AGO   \n",
       "\n",
       "                                16               17               18  \\\n",
       "Company Name               Sentieo  Mahajan Imaging  Mahajan Imaging   \n",
       "Experience Required        2-7 Yrs          2-6 Yrs          2-6 Yrs   \n",
       "Salary               Not disclosed    Not disclosed    Not disclosed   \n",
       "Location                     Delhi        New Delhi            Delhi   \n",
       "Posted                30+ DAYS AGO     30+ DAYS AGO      12 DAYS AGO   \n",
       "\n",
       "                                      19  \n",
       "Company Name         VBPO India Pvt Ltd.  \n",
       "Experience Required              3-6 Yrs  \n",
       "Salary                     Not disclosed  \n",
       "Location             Mumbai, Delhi / NCR  \n",
       "Posted                              None  "
      ]
     },
     "execution_count": 71,
     "metadata": {},
     "output_type": "execute_result"
    }
   ],
   "source": [
    "Top10ComapniesInDelhiNCR"
   ]
  },
  {
   "cell_type": "code",
   "execution_count": 72,
   "metadata": {},
   "outputs": [],
   "source": [
    "Top10ComapniesInDelhiNCR = Top10ComapniesInDelhiNCR.transpose()"
   ]
  },
  {
   "cell_type": "code",
   "execution_count": 73,
   "metadata": {},
   "outputs": [],
   "source": [
    "Top10ComapniesInDelhiNCR.index = Top10ComapniesInDelhiNCR.index + 1"
   ]
  },
  {
   "cell_type": "code",
   "execution_count": 74,
   "metadata": {},
   "outputs": [],
   "source": [
    "Top10ComapniesInDelhiNCR = Top10ComapniesInDelhiNCR[:10]"
   ]
  },
  {
   "cell_type": "code",
   "execution_count": 75,
   "metadata": {},
   "outputs": [],
   "source": [
    "Top10ComapniesInDelhiNCR.to_csv('Top_10_Companies_In_Delhi_NCR_with_3-6L_Package.csv', encoding='utf-8', header='Top 10 Companies in Delhi/NCR with 3-6L Package.')"
   ]
  },
  {
   "cell_type": "markdown",
   "metadata": {},
   "source": [
    "### Q4)  Write a python program to scrape data for first 10 job results for Data scientist Designation in Noida location. You have to scrape company_name, No. of days ago when job was posted, Rating of the company."
   ]
  },
  {
   "cell_type": "markdown",
   "metadata": {},
   "source": [
    "### Task"
   ]
  },
  {
   "cell_type": "raw",
   "metadata": {},
   "source": [
    "1. first get the webpage https://www.glassdoor.co.in/index.htm\n",
    "2. Enter “Data Scientist” in “Job Title,Keyword,Company” field and enter “Noida” in “location” field.\n",
    "3. Then scrape the data for the first 10 jobs results you get in the above shown page.\n",
    "4. Finally create a dataframe of the scraped data."
   ]
  },
  {
   "cell_type": "code",
   "execution_count": 76,
   "metadata": {},
   "outputs": [],
   "source": [
    "driver.get('https://www.glassdoor.co.in/index.htm')"
   ]
  },
  {
   "cell_type": "code",
   "execution_count": 77,
   "metadata": {},
   "outputs": [],
   "source": [
    "btn = driver.find_element_by_xpath(\"//button[@class='d-none d-lg-block p-0 LockedHomeHeaderStyles__signInButton']\")\n",
    "btn.click()"
   ]
  },
  {
   "cell_type": "markdown",
   "metadata": {},
   "source": [
    "## please use email as : nashvinayamart@gmail.com\n",
    "## Please use Password as : Nash@123456"
   ]
  },
  {
   "cell_type": "code",
   "execution_count": 78,
   "metadata": {},
   "outputs": [
    {
     "name": "stdout",
     "output_type": "stream",
     "text": [
      "Please Enter Your Email Address: nashvinayamart@gmail.com\n",
      "Please Enter Your Password: Nash@123456\n"
     ]
    }
   ],
   "source": [
    "email = driver.find_element_by_xpath(\"//input[@id='userEmail']\")\n",
    "password = driver.find_element_by_xpath(\"//input[@id='userPassword']\")\n",
    "Email = input(\"Please Enter Your Email Address: \")\n",
    "Password = input(\"Please Enter Your Password: \")\n",
    "email.send_keys(Email)\n",
    "password.send_keys(Password)"
   ]
  },
  {
   "cell_type": "code",
   "execution_count": 79,
   "metadata": {},
   "outputs": [],
   "source": [
    "btn = driver.find_element_by_xpath(\"//button[@class='gd-ui-button minWidthBtn css-8i7bc2']\")\n",
    "btn.click()\n",
    "time.sleep(5)"
   ]
  },
  {
   "cell_type": "markdown",
   "metadata": {},
   "source": [
    "## Please use any Job role and location according to you"
   ]
  },
  {
   "cell_type": "code",
   "execution_count": 80,
   "metadata": {},
   "outputs": [
    {
     "name": "stdout",
     "output_type": "stream",
     "text": [
      "Enter Your Preferred Job Search: Data Scientist\n",
      "Please Enter Job Location: Noida\n"
     ]
    }
   ],
   "source": [
    "job = driver.find_element_by_xpath(\"//input[@id='sc.keyword']\")\n",
    "job.clear()\n",
    "Job = input(\"Enter Your Preferred Job Search: \")\n",
    "job.send_keys(Job)\n",
    "loc = driver.find_element_by_xpath(\"//input[@id='sc.location']\")\n",
    "Loc = input(\"Please Enter Job Location: \")\n",
    "loc.send_keys(Keys.COMMAND + 'a')\n",
    "loc.send_keys(Loc)"
   ]
  },
  {
   "cell_type": "code",
   "execution_count": 81,
   "metadata": {},
   "outputs": [],
   "source": [
    "btn = driver.find_element_by_xpath(\"//button[@class='gd-ui-button ml-std col-auto SearchStyles__newSearchButton css-iixdfr']\")\n",
    "btn.click()\n",
    "time.sleep(5)"
   ]
  },
  {
   "cell_type": "code",
   "execution_count": 82,
   "metadata": {},
   "outputs": [],
   "source": [
    "companyname = driver.find_elements_by_xpath(\"//div[@class='d-flex justify-content-between align-items-start']/a/span\")\n",
    "CompanyName = []\n",
    "for i in companyname:\n",
    "    CompanyName.append(i.text)"
   ]
  },
  {
   "cell_type": "code",
   "execution_count": 83,
   "metadata": {},
   "outputs": [],
   "source": [
    "job = driver.find_elements_by_xpath(\"//a[@class='jobLink css-1rd3saf eigr9kq2']/span\")\n",
    "Job = []\n",
    "for i in job:\n",
    "    Job.append(i.text)"
   ]
  },
  {
   "cell_type": "code",
   "execution_count": 84,
   "metadata": {},
   "outputs": [],
   "source": [
    "loc = driver.find_elements_by_xpath(\"//div[@class='d-flex flex-wrap css-11d3uq0 e1rrn5ka2']/span\")\n",
    "Loc = []\n",
    "for i in loc:\n",
    "    Loc.append(i.text)"
   ]
  },
  {
   "cell_type": "code",
   "execution_count": 85,
   "metadata": {},
   "outputs": [],
   "source": [
    "rating = driver.find_elements_by_xpath(\"//span[@class='css-19pjha7 e1cjmv6j1']\")\n",
    "Rating = []\n",
    "for i in rating:\n",
    "    Rating.append(i.text)"
   ]
  },
  {
   "cell_type": "code",
   "execution_count": 86,
   "metadata": {},
   "outputs": [],
   "source": [
    "posted = driver.find_elements_by_xpath(\"//div[@class='d-flex align-items-end pl-std css-mi55ob']\")\n",
    "Posted = []\n",
    "for i in posted:\n",
    "    Posted.append(i.text)"
   ]
  },
  {
   "cell_type": "code",
   "execution_count": 87,
   "metadata": {},
   "outputs": [],
   "source": [
    "salary = driver.find_elements_by_xpath(\"//span[@class='css-1imh2hq e1wijj242']\")\n",
    "Salary = []\n",
    "for i in salary:\n",
    "    Salary.append(i.text)"
   ]
  },
  {
   "cell_type": "code",
   "execution_count": 88,
   "metadata": {},
   "outputs": [],
   "source": [
    "data = {\n",
    "    'Comapny Name': CompanyName,\n",
    "    'Job Role': Job,\n",
    "    'Location':Location,\n",
    "    'Company Rating': Rating,\n",
    "    'Job Posted On': Posted,\n",
    "    'Salary': Salary\n",
    "}"
   ]
  },
  {
   "cell_type": "code",
   "execution_count": 89,
   "metadata": {},
   "outputs": [],
   "source": [
    "Glassdoor = pd.DataFrame.from_dict(data, orient='index')"
   ]
  },
  {
   "cell_type": "code",
   "execution_count": 90,
   "metadata": {},
   "outputs": [],
   "source": [
    "Glassdoor = Glassdoor.transpose()"
   ]
  },
  {
   "cell_type": "code",
   "execution_count": 91,
   "metadata": {},
   "outputs": [],
   "source": [
    "Glassdoor.index = Glassdoor.index + 1"
   ]
  },
  {
   "cell_type": "code",
   "execution_count": 92,
   "metadata": {},
   "outputs": [],
   "source": [
    "GlassdoorTop10 = Glassdoor[:10]"
   ]
  },
  {
   "cell_type": "code",
   "execution_count": 93,
   "metadata": {},
   "outputs": [],
   "source": [
    "GlassdoorTop10.to_csv('GlassdoorTop10.csv', encoding='utf-8', header='Glassdoor Top 10 Jobs')"
   ]
  },
  {
   "cell_type": "markdown",
   "metadata": {},
   "source": [
    "### Q5) Write a python program to scrape the salary data for Data Scientist designation in Noida location."
   ]
  },
  {
   "cell_type": "markdown",
   "metadata": {},
   "source": [
    "### Task"
   ]
  },
  {
   "cell_type": "raw",
   "metadata": {},
   "source": [
    "1. first get the webpage https://www.glassdoor.co.in/Salaries/index.htm \n",
    "2. Enter “Data Scientist” in Job title field and “Noida” in location field. 3. Click the search button.\n",
    "4. After that you will land on the below page\n",
    "5. Scrape data for first 10 companies. Scrape the min salary, max salary, company name, Average salary and rating of the company.\n",
    "6.Store the data in a dataframe."
   ]
  },
  {
   "cell_type": "code",
   "execution_count": 94,
   "metadata": {},
   "outputs": [],
   "source": [
    "driver.get('https://www.glassdoor.co.in/Salaries/index.htm')"
   ]
  },
  {
   "cell_type": "code",
   "execution_count": 95,
   "metadata": {},
   "outputs": [],
   "source": [
    "job = driver.find_element_by_xpath(\"//input[@id='KeywordSearch']\")\n",
    "job.send_keys(\"Data Scientist\")"
   ]
  },
  {
   "cell_type": "code",
   "execution_count": 96,
   "metadata": {},
   "outputs": [],
   "source": [
    "loc = driver.find_element_by_xpath(\"//input[@id='LocationSearch']\")\n",
    "loc.clear()\n",
    "loc.send_keys('Noida')"
   ]
  },
  {
   "cell_type": "code",
   "execution_count": 97,
   "metadata": {},
   "outputs": [],
   "source": [
    "btn = driver.find_element_by_xpath(\"//button[@id='HeroSearchButton']\")\n",
    "btn.click()\n",
    "time.sleep(5)"
   ]
  },
  {
   "cell_type": "code",
   "execution_count": 98,
   "metadata": {},
   "outputs": [],
   "source": [
    "company=driver.find_elements_by_xpath(\"//div[@class='col-md-6']/div[1]/div[2]/p[2]\")\n",
    "Company=[]\n",
    "for i in company:\n",
    "    Company.append(i.text)"
   ]
  },
  {
   "cell_type": "code",
   "execution_count": 99,
   "metadata": {},
   "outputs": [],
   "source": [
    "min = driver.find_elements_by_xpath(\"//div[@class='common__RangeBarStyle__values d-flex justify-content-between ']/span[1]\")\n",
    "Min = []\n",
    "for i in min:\n",
    "    Min.append(i.text)"
   ]
  },
  {
   "cell_type": "code",
   "execution_count": 100,
   "metadata": {},
   "outputs": [],
   "source": [
    "max = driver.find_elements_by_xpath(\"//div[@class='common__RangeBarStyle__values d-flex justify-content-between ']/span[2]\")\n",
    "Max = []\n",
    "for i in max:\n",
    "    Max.append(i.text)"
   ]
  },
  {
   "cell_type": "code",
   "execution_count": 101,
   "metadata": {},
   "outputs": [],
   "source": [
    "average = driver.find_elements_by_xpath(\"//div[@class='col-2 d-none d-md-flex flex-row justify-content-end']/strong\")\n",
    "Average = []\n",
    "for i in average:\n",
    "    Average.append(i.text)"
   ]
  },
  {
   "cell_type": "code",
   "execution_count": 102,
   "metadata": {},
   "outputs": [],
   "source": [
    "img = driver.find_elements_by_xpath(\"//div[@class='undefined mr-sm']/a/span/img\")\n",
    "Img = []\n",
    "for i in img:\n",
    "    Img.append(i.get_attribute('src'))"
   ]
  },
  {
   "cell_type": "code",
   "execution_count": 103,
   "metadata": {},
   "outputs": [],
   "source": [
    "data = {\n",
    "    'Company Name':Company,\n",
    "    'Minimum Salary': Min,\n",
    "    'Maximum Salary': Max,\n",
    "    'Average Salary': Average,\n",
    "    'Company Image Url': Img\n",
    "}"
   ]
  },
  {
   "cell_type": "code",
   "execution_count": 104,
   "metadata": {},
   "outputs": [],
   "source": [
    "Top10Salaries = pd.DataFrame.from_dict(data, orient='index')\n",
    "Top10Salaries = Top10Salaries.transpose()\n",
    "Top10Salaries = Top10Salaries[:10]\n",
    "Top10Salaries.index = Top10Salaries.index+1"
   ]
  },
  {
   "cell_type": "code",
   "execution_count": 105,
   "metadata": {},
   "outputs": [],
   "source": [
    "Top10Salaries.to_csv(\"Top10Salaties.csv\", encoding='utf-8', header='Top 10 Comapnies with Salaries')"
   ]
  },
  {
   "cell_type": "markdown",
   "metadata": {},
   "source": [
    "### Q6) Scrape data of first 100 sunglasses listings on flipkart.com. You have to scrape four attributes:"
   ]
  },
  {
   "cell_type": "markdown",
   "metadata": {},
   "source": [
    "### Task"
   ]
  },
  {
   "cell_type": "raw",
   "metadata": {},
   "source": [
    "1. Brand\n",
    "2. Product Description\n",
    "3. Price\n",
    "4. Discount %"
   ]
  },
  {
   "cell_type": "raw",
   "metadata": {},
   "source": [
    "To scrape the data you have to go through following steps: 1. Go to flipkart webpage by url https://www.flipkart.com/\n",
    "2. Enter “sunglasses” in the search field where “search for products, brands and more” is written and click the search icon\n",
    "3. after that you will reach to a webpage having a lot of sunglasses. From this page you can scrap the required data as usual.\n",
    "4. after scraping data from the first page, go to the “Next” Button at the bottom of the page , then click on it\n",
    "5. Now scrape data from this page as usual\n",
    "6. repeat this until you get data for 100 sunglasses."
   ]
  },
  {
   "cell_type": "code",
   "execution_count": 106,
   "metadata": {},
   "outputs": [],
   "source": [
    "driver.get(\"https://www.flipkart.com/\")"
   ]
  },
  {
   "cell_type": "code",
   "execution_count": 107,
   "metadata": {},
   "outputs": [],
   "source": [
    "close = driver.find_element_by_xpath(\"//div[@class='_2QfC02']/button\")\n",
    "close.click()"
   ]
  },
  {
   "cell_type": "code",
   "execution_count": 108,
   "metadata": {},
   "outputs": [],
   "source": [
    "def Search():\n",
    "    driver.get(\"https://www.flipkart.com/\")\n",
    "    search = driver.find_element_by_xpath(\"//div[@class='_3OO5Xc']/input\")\n",
    "    search.send_keys(Keys.COMMAND + 'a' + Keys.DELETE)\n",
    "    Search = input(\"Please Enter the Product Name: \")\n",
    "    search.send_keys(Search)\n",
    "    btn = driver.find_element_by_xpath(\"//button[@class='L0Z3Pu']\")\n",
    "    btn.click()"
   ]
  },
  {
   "cell_type": "code",
   "execution_count": 109,
   "metadata": {},
   "outputs": [],
   "source": [
    "def finding():\n",
    "    num = int(input(\"Please enter the number of page you want to scrape: \"))\n",
    "    num = num + 1\n",
    "    for i in range(1,num):\n",
    "        driver.get(url+\"&page={}\".format(i))\n",
    "        link = driver.find_elements_by_xpath(\"//div[@class='_2B099V']/a[1]\")\n",
    "        for j in link:\n",
    "            Link.append(j.get_attribute('href'))"
   ]
  },
  {
   "cell_type": "code",
   "execution_count": 110,
   "metadata": {},
   "outputs": [],
   "source": [
    "def Iterate():\n",
    "    for k in Link:\n",
    "            driver.get(k)\n",
    "            time.sleep(5)\n",
    "            company = driver.find_elements_by_xpath(\"//h1[@class='yhB1nd']/span[1]\")\n",
    "            description = driver.find_elements_by_xpath(\"//h1[@class='yhB1nd']/span[2]\")\n",
    "            price = driver.find_elements_by_xpath(\"//div[@class='_25b18c']/div[1]\")\n",
    "            discount = driver.find_elements_by_xpath(\"//div[@class='_3Ay6Sb _31Dcoz pZkvcx']/span\")\n",
    "            rating = driver.find_elements_by_xpath(\"//div[@class='_3LWZlK _3uSWvT']\")\n",
    "            for l in company:\n",
    "                Company.append(l.text)\n",
    "            for m in description:\n",
    "                Description.append(m.text)\n",
    "            for n in price:\n",
    "                Price.append(n.text)\n",
    "            for o in discount:\n",
    "                Discount.append(o.text)\n",
    "            for p in rating:\n",
    "                Rating.append(p.text)"
   ]
  },
  {
   "cell_type": "code",
   "execution_count": 111,
   "metadata": {},
   "outputs": [],
   "source": [
    "Company = []\n",
    "Description = []\n",
    "Rating = []\n",
    "Price = []\n",
    "Discount = []\n",
    "Link = []"
   ]
  },
  {
   "cell_type": "code",
   "execution_count": 112,
   "metadata": {},
   "outputs": [
    {
     "name": "stdout",
     "output_type": "stream",
     "text": [
      "Please Enter the Product Name: Sunglasses\n"
     ]
    }
   ],
   "source": [
    "Search()"
   ]
  },
  {
   "cell_type": "code",
   "execution_count": 113,
   "metadata": {},
   "outputs": [],
   "source": [
    "url = 'https://www.flipkart.com/search?q=Sunglasses&otracker=search&otracker1=search&marketplace=FLIPKART&as-show=on&as=off'"
   ]
  },
  {
   "cell_type": "code",
   "execution_count": 114,
   "metadata": {},
   "outputs": [
    {
     "name": "stdout",
     "output_type": "stream",
     "text": [
      "Please enter the number of page you want to scrape: 5\n"
     ]
    }
   ],
   "source": [
    "finding()"
   ]
  },
  {
   "cell_type": "code",
   "execution_count": 115,
   "metadata": {},
   "outputs": [],
   "source": [
    "Iterate()"
   ]
  },
  {
   "cell_type": "code",
   "execution_count": 116,
   "metadata": {},
   "outputs": [],
   "source": [
    "data = {\n",
    "    'Brand':Company,\n",
    "    'Description':Description,\n",
    "    'Rating':Rating,\n",
    "    'Price':Price,\n",
    "    'Discount':Discount\n",
    "}"
   ]
  },
  {
   "cell_type": "code",
   "execution_count": 117,
   "metadata": {},
   "outputs": [],
   "source": [
    "Top100Sunglasses = pd.DataFrame.from_dict(data, orient='index')\n",
    "Top100Sunglasses = Top100Sunglasses.transpose()\n",
    "Top100Sunglasses.index = Top100Sunglasses.index + 1\n",
    "Top100Sunglasses.dropna(inplace = True)\n",
    "Top100Sunglasses = Top100Sunglasses[:100]"
   ]
  },
  {
   "cell_type": "code",
   "execution_count": 118,
   "metadata": {},
   "outputs": [],
   "source": [
    "Top100Sunglasses.to_csv(\"Top100Sunglasses.csv\", encoding='utf-8', header = 'Top 100 Sunglasses')"
   ]
  },
  {
   "cell_type": "markdown",
   "metadata": {},
   "source": [
    "### Q7) Scrape 100 reviews data from flipkart.com for iphone11 phone. You have to go the link: https://www.flipkart.com/apple-iphone-11-black-64-gb-includes-earpods-power- adapter/p/itm0f37c2240b217pid=MOBFKCTSVZAXUHGR&lid=LSTMOBFKC TSVZAXUHGREPBFGI&marketplace."
   ]
  },
  {
   "cell_type": "markdown",
   "metadata": {},
   "source": [
    "### Task"
   ]
  },
  {
   "cell_type": "raw",
   "metadata": {},
   "source": [
    "1. Rating\n",
    "2. Review_summary\n",
    "3. Full review\n",
    "You have to scrape this data for first 100 reviews."
   ]
  },
  {
   "cell_type": "markdown",
   "metadata": {},
   "source": [
    "Please Use this link when asked https://www.flipkart.com/apple-iphone-11-black-64-gb-includes-earpods-power-adapter/product-reviews/itm0f37c2240b217?pid=MOBFKCTSVZAXUHGR&lid=LSTMOBFKCTSVZAXUHGREPBFGI&marketplace=FLIPKART"
   ]
  },
  {
   "cell_type": "code",
   "execution_count": 119,
   "metadata": {},
   "outputs": [],
   "source": [
    "Rating = []\n",
    "Summary = []\n",
    "Review = []\n",
    "Reviewa = []"
   ]
  },
  {
   "cell_type": "code",
   "execution_count": 120,
   "metadata": {},
   "outputs": [],
   "source": [
    "def hasxpath(xpath):\n",
    "    try:\n",
    "        driver.find_element_by_xpath(xpath)\n",
    "        return True\n",
    "    except:\n",
    "        return False"
   ]
  },
  {
   "cell_type": "code",
   "execution_count": 121,
   "metadata": {},
   "outputs": [],
   "source": [
    "def flip():\n",
    "    url = input(\"Enter the url for the reviews: \")\n",
    "    time.sleep(2)\n",
    "    for i in range(1,15):\n",
    "        driver.get(url+'&page={}'.format(i))\n",
    "        time.sleep(10)\n",
    "        rating = driver.find_elements_by_xpath(\"//div[@class='_3LWZlK _1BLPMq']\")\n",
    "        summary = driver.find_elements_by_xpath(\"//div[@class='row']//p[@class='_2-N8zT']\")\n",
    "        if hasxpath(\"//span[@class='_1BWGvX']/span\") == True:\n",
    "            btn = driver.find_elements_by_xpath(\"//span[@class='_1BWGvX']\")\n",
    "            for j in btn:\n",
    "                j.click()\n",
    "                time.sleep(5)\n",
    "                review = driver.find_elements_by_xpath(\"//div['row']//div[@class='t-ZTKy']/div/div\")\n",
    "            for k in rating:\n",
    "                Rating.append(k.text)\n",
    "            for l in summary:\n",
    "                Summary.append(l.text)\n",
    "            for m in review:\n",
    "                Review.append(m.text)"
   ]
  },
  {
   "cell_type": "code",
   "execution_count": 122,
   "metadata": {},
   "outputs": [
    {
     "name": "stdout",
     "output_type": "stream",
     "text": [
      "Enter the url for the reviews: https://www.flipkart.com/apple-iphone-11-black-64-gb-includes-earpods-power-adapter/product-reviews/itm0f37c2240b217?pid=MOBFKCTSVZAXUHGR&lid=LSTMOBFKCTSVZAXUHGREPBFGI&marketplace=FLIPKART\n"
     ]
    }
   ],
   "source": [
    "flip()"
   ]
  },
  {
   "cell_type": "code",
   "execution_count": 123,
   "metadata": {},
   "outputs": [],
   "source": [
    "Converted = []"
   ]
  },
  {
   "cell_type": "code",
   "execution_count": 124,
   "metadata": {},
   "outputs": [],
   "source": [
    "for i in Review:\n",
    "    Converted.append(i.replace('\\n',' '))"
   ]
  },
  {
   "cell_type": "code",
   "execution_count": 125,
   "metadata": {},
   "outputs": [],
   "source": [
    "Data = {\n",
    "    'Rating':Rating,\n",
    "    'Summary': Summary,\n",
    "    'Review': Converted\n",
    "}"
   ]
  },
  {
   "cell_type": "code",
   "execution_count": 126,
   "metadata": {},
   "outputs": [],
   "source": [
    "Top100ReviewsIphone11 = pd.DataFrame.from_dict(Data, orient='index')"
   ]
  },
  {
   "cell_type": "code",
   "execution_count": 127,
   "metadata": {},
   "outputs": [],
   "source": [
    "Top100ReviewsIphone11 = Top100ReviewsIphone11.transpose()\n",
    "Top100ReviewsIphone11.index = Top100ReviewsIphone11.index + 1\n",
    "Top100ReviewsIphone11 = Top100ReviewsIphone11[:100]"
   ]
  },
  {
   "cell_type": "code",
   "execution_count": 128,
   "metadata": {},
   "outputs": [],
   "source": [
    "Top100ReviewsIphone11.dropna(inplace = True)"
   ]
  },
  {
   "cell_type": "code",
   "execution_count": 129,
   "metadata": {},
   "outputs": [],
   "source": [
    "Top100ReviewsIphone11.to_csv(\"Top100ReviewsIphone11.csv\", encoding='utf-8', header='Iphone 11 100 Reviews')"
   ]
  },
  {
   "cell_type": "markdown",
   "metadata": {},
   "source": [
    "### Q8) Scrape data for first 100 sneakers you find when you visit flipkart.com and search for “sneakers” in the search field."
   ]
  },
  {
   "cell_type": "markdown",
   "metadata": {},
   "source": [
    "### Task"
   ]
  },
  {
   "cell_type": "markdown",
   "metadata": {},
   "source": [
    "### Please enter the url you have on the url bar for Sneakers it is https://www.flipkart.com/search?q=Sneakers&otracker=search&otracker1=search&marketplace=FLIPKART&as-show=on&as=off"
   ]
  },
  {
   "cell_type": "raw",
   "metadata": {},
   "source": [
    "1. Brand\n",
    "2. Product Description\n",
    "3. Price\n",
    "4. discount %"
   ]
  },
  {
   "cell_type": "code",
   "execution_count": 130,
   "metadata": {},
   "outputs": [],
   "source": [
    "Company = []\n",
    "Description = []\n",
    "Rating = []\n",
    "Price = []\n",
    "Discount = []\n",
    "Link = []"
   ]
  },
  {
   "cell_type": "code",
   "execution_count": 131,
   "metadata": {},
   "outputs": [
    {
     "name": "stdout",
     "output_type": "stream",
     "text": [
      "Please Enter the Product Name: Sneakers\n"
     ]
    }
   ],
   "source": [
    "Search()"
   ]
  },
  {
   "cell_type": "code",
   "execution_count": 132,
   "metadata": {},
   "outputs": [],
   "source": [
    "url = driver.current_url"
   ]
  },
  {
   "cell_type": "code",
   "execution_count": 133,
   "metadata": {},
   "outputs": [
    {
     "name": "stdout",
     "output_type": "stream",
     "text": [
      "Please enter the number of page you want to scrape: 6\n"
     ]
    }
   ],
   "source": [
    "finding()\n",
    "Iterate()"
   ]
  },
  {
   "cell_type": "code",
   "execution_count": 134,
   "metadata": {},
   "outputs": [],
   "source": [
    "data = {\n",
    "    'Brand': Company,\n",
    "    'Description':Description,\n",
    "    'Price':Price,\n",
    "    'Discount':Discount,\n",
    "    'Rating':Rating\n",
    "}"
   ]
  },
  {
   "cell_type": "code",
   "execution_count": 135,
   "metadata": {},
   "outputs": [],
   "source": [
    "Top100Sneakers = pd.DataFrame.from_dict(data, orient = 'index')"
   ]
  },
  {
   "cell_type": "code",
   "execution_count": 136,
   "metadata": {},
   "outputs": [],
   "source": [
    "Top100Sneakers = Top100Sneakers.transpose()"
   ]
  },
  {
   "cell_type": "code",
   "execution_count": 137,
   "metadata": {},
   "outputs": [],
   "source": [
    "Top100Sneakers.index = Top100Sneakers.index + 1"
   ]
  },
  {
   "cell_type": "code",
   "execution_count": 138,
   "metadata": {},
   "outputs": [],
   "source": [
    "Top100Sneakers = Top100Sneakers[:100]"
   ]
  },
  {
   "cell_type": "code",
   "execution_count": 139,
   "metadata": {},
   "outputs": [],
   "source": [
    "Top100Sneakers.dropna(inplace = True)"
   ]
  },
  {
   "cell_type": "code",
   "execution_count": 140,
   "metadata": {},
   "outputs": [],
   "source": [
    "Top100Sneakers.to_csv(\"Top100Sneakers.csv\", encoding='utf-8', header='Top 100 Sneakers')"
   ]
  },
  {
   "cell_type": "markdown",
   "metadata": {},
   "source": [
    "### Go to the link - https://www.myntra.com/shoes\n",
    "### Set Price filter to “Rs. 6649 to Rs. 13099” , Color filter to “Black”, as shown in the below image"
   ]
  },
  {
   "cell_type": "markdown",
   "metadata": {},
   "source": [
    "### Task"
   ]
  },
  {
   "cell_type": "raw",
   "metadata": {},
   "source": [
    "Set Price filter to “Rs. 6649 to Rs. 13099” , Color filter to “Black”, as shown in the below image\n",
    "And then scrape First 100 shoes data you get. The data should include “Brand” of the shoes , Short Shoe description, price of the shoe as shown in the below image.\n",
    "Please note that applying the filter and scraping the data , everything should be done through code only and there should not be any manual step."
   ]
  },
  {
   "cell_type": "code",
   "execution_count": 141,
   "metadata": {},
   "outputs": [],
   "source": [
    "driver.get(\"https://www.myntra.com/shoes\")"
   ]
  },
  {
   "cell_type": "code",
   "execution_count": 142,
   "metadata": {},
   "outputs": [],
   "source": [
    "a = driver.find_element_by_xpath(\"//div[@class='vertical-filters-filters']/ul/li//label[@class='common-customCheckbox']//span[@class='colour-label colour-colorDisplay'][1]\")\n",
    "driver.execute_script(\"arguments[0].click()\", a)\n",
    "time.sleep(5)"
   ]
  },
  {
   "cell_type": "code",
   "execution_count": 143,
   "metadata": {},
   "outputs": [],
   "source": [
    "time.sleep(5)"
   ]
  },
  {
   "cell_type": "code",
   "execution_count": 144,
   "metadata": {},
   "outputs": [],
   "source": [
    "ele = driver.find_element_by_xpath(\"//div[@class='vertical-filters-filters']/ul/li[2]/label//input[@class='price-input']\")\n",
    "driver.execute_script(\"arguments[0].click()\", ele)"
   ]
  },
  {
   "cell_type": "code",
   "execution_count": 145,
   "metadata": {},
   "outputs": [],
   "source": [
    "Brand = []\n",
    "Description = []\n",
    "Price = []"
   ]
  },
  {
   "cell_type": "code",
   "execution_count": 146,
   "metadata": {},
   "outputs": [],
   "source": [
    "for i in range(1,7):\n",
    "    driver.get(\"https://www.myntra.com/shoes?f=Color%3ABlack_36454f&p={}&plaEnabled=false&rf=Price%3A6657.0_13105.0_6657.0%20TO%2013105.0\".format(i))\n",
    "    brand = driver.find_elements_by_xpath(\"//div[@class='product-productMetaInfo']/h3\")\n",
    "    description = driver.find_elements_by_xpath(\"//div[@class='product-productMetaInfo']/h4\")\n",
    "    price = driver.find_elements_by_xpath(\"//span[@class='product-discountedPrice']\")\n",
    "    for i in brand:\n",
    "        Brand.append(i.text)\n",
    "    for j in description:\n",
    "        Description.append(j.text)\n",
    "    for k in price:\n",
    "        Price.append(k.text)"
   ]
  },
  {
   "cell_type": "code",
   "execution_count": 147,
   "metadata": {},
   "outputs": [],
   "source": [
    "data = {\n",
    "    'Brand Name':Brand,\n",
    "    'Description':Description,\n",
    "    'Price':Price\n",
    "}"
   ]
  },
  {
   "cell_type": "code",
   "execution_count": 148,
   "metadata": {},
   "outputs": [],
   "source": [
    "Top100Shoes = pd.DataFrame.from_dict(data, orient = 'index')\n",
    "Top100Shoes = Top100Shoes.transpose()\n",
    "Top100Shoes.index = Top100Shoes.index + 1\n",
    "Top100Shoes = Top100Shoes[:100]"
   ]
  },
  {
   "cell_type": "code",
   "execution_count": 149,
   "metadata": {},
   "outputs": [],
   "source": [
    "Top100Shoes.to_csv(\"Top100Shoes.csv\", encoding=  'utf-8', header ='Top 100 Shoes with Filters')"
   ]
  },
  {
   "cell_type": "markdown",
   "metadata": {},
   "source": [
    "### Q10) Go to webpage https://www.amazon.in/\n",
    "### Enter “Laptop” in the search field and then click the search icon.\n",
    "### Then set CPU Type filter to “Intel Core i7” and “Intel Core i9” as shown in the below image:"
   ]
  },
  {
   "cell_type": "markdown",
   "metadata": {},
   "source": [
    "### Task"
   ]
  },
  {
   "cell_type": "raw",
   "metadata": {},
   "source": [
    "After setting the filters scrape first 10 laptops data. You have to scrape 3 attributes for each laptop:\n",
    "1. title\n",
    "2. Ratings\n",
    "3. Price"
   ]
  },
  {
   "cell_type": "code",
   "execution_count": 150,
   "metadata": {},
   "outputs": [],
   "source": [
    "driver.get(\"https://www.amazon.in/\")"
   ]
  },
  {
   "cell_type": "code",
   "execution_count": 151,
   "metadata": {},
   "outputs": [
    {
     "name": "stdout",
     "output_type": "stream",
     "text": [
      "Please Enter the product name: laptop\n"
     ]
    }
   ],
   "source": [
    "search = driver.find_element_by_xpath(\"//div[@class='nav-search-field ']/input\")\n",
    "Search = input(\"Please Enter the product name: \")\n",
    "search.clear()\n",
    "search.send_keys(Search)\n",
    "btn = driver.find_element_by_xpath(\"//div[@class='nav-right']/div/span\")\n",
    "btn.click()"
   ]
  },
  {
   "cell_type": "code",
   "execution_count": 152,
   "metadata": {},
   "outputs": [],
   "source": [
    "i5 = driver.find_element_by_xpath(\"//li[@id='p_n_feature_thirteen_browse-bin/12598162031']/span/a/div\")\n",
    "i5.click()"
   ]
  },
  {
   "cell_type": "code",
   "execution_count": 153,
   "metadata": {},
   "outputs": [],
   "source": [
    "Name = []\n",
    "Ratings = []\n",
    "Price = []"
   ]
  },
  {
   "cell_type": "code",
   "execution_count": 154,
   "metadata": {},
   "outputs": [],
   "source": [
    "name = driver.find_elements_by_xpath(\"//div[@class='a-section a-spacing-none']/h2\")\n",
    "ratings = driver.find_elements_by_xpath(\"//span[@class='a-size-base']\")\n",
    "price = driver.find_elements_by_xpath(\"//span[@class='a-price-whole']\")\n",
    "for i in name:\n",
    "    Name.append(i.text)\n",
    "for j in ratings:\n",
    "    Ratings.append(j.text)\n",
    "for k in price:\n",
    "    Price.append(k.text)"
   ]
  },
  {
   "cell_type": "code",
   "execution_count": 155,
   "metadata": {},
   "outputs": [],
   "source": [
    "data = {\n",
    "    'Brand':Name,\n",
    "    'Ratings':Ratings,\n",
    "    'Price':Price\n",
    "}"
   ]
  },
  {
   "cell_type": "code",
   "execution_count": 156,
   "metadata": {},
   "outputs": [],
   "source": [
    "i5Laptop = pd.DataFrame.from_dict(data, orient = 'index')\n",
    "i5laptop = i5Laptop.transpose()\n",
    "i5laptop.index = i5laptop.index + 1\n",
    "Top10i5laptop = i5laptop[:10]"
   ]
  },
  {
   "cell_type": "code",
   "execution_count": 157,
   "metadata": {},
   "outputs": [],
   "source": [
    "driver.get(\"https://www.amazon.in/\")"
   ]
  },
  {
   "cell_type": "code",
   "execution_count": 158,
   "metadata": {},
   "outputs": [
    {
     "name": "stdout",
     "output_type": "stream",
     "text": [
      "Please Enter the product name: Laptop\n"
     ]
    }
   ],
   "source": [
    "search = driver.find_element_by_xpath(\"//div[@class='nav-search-field ']/input\")\n",
    "Search = input(\"Please Enter the product name: \")\n",
    "search.clear()\n",
    "search.send_keys(Search)\n",
    "btn = driver.find_element_by_xpath(\"//div[@class='nav-right']/div/span\")\n",
    "btn.click()\n",
    "time.sleep(5)"
   ]
  },
  {
   "cell_type": "code",
   "execution_count": 159,
   "metadata": {},
   "outputs": [],
   "source": [
    "i7 = driver.find_element_by_xpath(\"//li[@id='p_n_feature_thirteen_browse-bin/12598163031']/span/a/div\")\n",
    "i7.click()"
   ]
  },
  {
   "cell_type": "code",
   "execution_count": 160,
   "metadata": {},
   "outputs": [],
   "source": [
    "Name = []\n",
    "Ratings = []\n",
    "Price = []"
   ]
  },
  {
   "cell_type": "code",
   "execution_count": 161,
   "metadata": {},
   "outputs": [],
   "source": [
    "name = driver.find_elements_by_xpath(\"//div[@class='a-section a-spacing-none']/h2\")\n",
    "ratings = driver.find_elements_by_xpath(\"//span[@class='a-size-base']\")\n",
    "price = driver.find_elements_by_xpath(\"//span[@class='a-price-whole']\")\n",
    "for i in name:\n",
    "    Name.append(i.text)\n",
    "for j in ratings:\n",
    "    Ratings.append(j.text)\n",
    "for k in price:\n",
    "    Price.append(k.text)"
   ]
  },
  {
   "cell_type": "code",
   "execution_count": 162,
   "metadata": {},
   "outputs": [],
   "source": [
    "data = {\n",
    "    'Brand':Name,\n",
    "    'Ratings':Ratings,\n",
    "    'Price':Price\n",
    "}"
   ]
  },
  {
   "cell_type": "code",
   "execution_count": 163,
   "metadata": {},
   "outputs": [],
   "source": [
    "i7laptop = pd.DataFrame.from_dict(data, orient = 'index')"
   ]
  },
  {
   "cell_type": "code",
   "execution_count": 164,
   "metadata": {},
   "outputs": [],
   "source": [
    "i7laptop = i7laptop.transpose()\n",
    "i7laptop.index =i7laptop.index + 1"
   ]
  },
  {
   "cell_type": "code",
   "execution_count": 165,
   "metadata": {},
   "outputs": [],
   "source": [
    "Top10i7Laptop = i7laptop[:10]"
   ]
  },
  {
   "cell_type": "code",
   "execution_count": 166,
   "metadata": {},
   "outputs": [],
   "source": [
    "Top10Laptops = pd.concat([Top10i5laptop, Top10i7Laptop])"
   ]
  },
  {
   "cell_type": "code",
   "execution_count": 167,
   "metadata": {},
   "outputs": [],
   "source": [
    "Top10Laptops = shuffle(Top10Laptops).reset_index()"
   ]
  },
  {
   "cell_type": "code",
   "execution_count": 168,
   "metadata": {},
   "outputs": [],
   "source": [
    "Top10Laptops.drop('index', 1, inplace = True)"
   ]
  },
  {
   "cell_type": "code",
   "execution_count": 169,
   "metadata": {},
   "outputs": [],
   "source": [
    "Top10Laptops = Top10Laptops[:10]"
   ]
  },
  {
   "cell_type": "code",
   "execution_count": 170,
   "metadata": {},
   "outputs": [],
   "source": [
    "Top10Laptops.index = Top10Laptops.index + 1"
   ]
  },
  {
   "cell_type": "code",
   "execution_count": 171,
   "metadata": {},
   "outputs": [],
   "source": [
    "Top10Laptops.to_csv(\"Top10Laptops.csv\", encoding = 'utf-8', header='Top 10 Laptops')"
   ]
  },
  {
   "cell_type": "code",
   "execution_count": 172,
   "metadata": {},
   "outputs": [],
   "source": [
    "driver.quit()"
   ]
  }
 ],
 "metadata": {
  "kernelspec": {
   "display_name": "Python 3",
   "language": "python",
   "name": "python3"
  },
  "language_info": {
   "codemirror_mode": {
    "name": "ipython",
    "version": 3
   },
   "file_extension": ".py",
   "mimetype": "text/x-python",
   "name": "python",
   "nbconvert_exporter": "python",
   "pygments_lexer": "ipython3",
   "version": "3.8.3"
  }
 },
 "nbformat": 4,
 "nbformat_minor": 4
}
