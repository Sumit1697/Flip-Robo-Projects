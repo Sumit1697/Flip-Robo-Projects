{
 "cells": [
  {
   "cell_type": "code",
   "execution_count": 1,
   "id": "dd5e8ca8",
   "metadata": {},
   "outputs": [],
   "source": [
    "import pandas as pd\n",
    "from selenium import webdriver\n",
    "from selenium.common.exceptions import *\n",
    "from selenium.webdriver.common.action_chains import ActionChains\n",
    "import time\n",
    "import numpy as np"
   ]
  },
  {
   "cell_type": "code",
   "execution_count": 2,
   "id": "42d663de",
   "metadata": {},
   "outputs": [],
   "source": [
    "driver = webdriver.Chrome(\"S:\\chromedriver_win32\\chromedriver.exe\")\n",
    "driver.maximize_window()"
   ]
  },
  {
   "cell_type": "code",
   "execution_count": 3,
   "id": "d6ba779f",
   "metadata": {},
   "outputs": [],
   "source": [
    "driver.get(\"https://en.wikipedia.org/wiki/List_of_most-viewed_YouTube_videos\")"
   ]
  },
  {
   "cell_type": "markdown",
   "id": "4c6ea89b",
   "metadata": {},
   "source": [
    "### Q1) Scrape the details of most viewed videos on YouTube from Wikipedia: Url= https://en.wikipedia.org/wiki/List_of_most-viewed_YouTube_videos \n",
    "\n",
    "### You need to find following details:\n",
    "\n",
    "#### A) Rank\n",
    "#### B) Name\n",
    "#### C) Artist\n",
    "#### D) Upload date\n",
    "#### E) Views"
   ]
  },
  {
   "cell_type": "code",
   "execution_count": 4,
   "id": "0f49623b",
   "metadata": {},
   "outputs": [],
   "source": [
    "Rank = []\n",
    "Name = []\n",
    "Artist = []\n",
    "Date = []\n",
    "Views = []"
   ]
  },
  {
   "cell_type": "code",
   "execution_count": 5,
   "id": "e800c460",
   "metadata": {},
   "outputs": [],
   "source": [
    "try:\n",
    "    rank = driver.find_elements_by_xpath(\"//table[@class='wikitable sortable jquery-tablesorter']/tbody/tr/td[1]\")\n",
    "    name = driver.find_elements_by_xpath(\"//table[@class='wikitable sortable jquery-tablesorter']/tbody/tr/td[2]\")\n",
    "    artist = driver.find_elements_by_xpath(\"//table[@class='wikitable sortable jquery-tablesorter']/tbody/tr/td[3]\")\n",
    "    views = driver.find_elements_by_xpath(\"//table[@class='wikitable sortable jquery-tablesorter']/tbody/tr/td[4]\")\n",
    "    date = driver.find_elements_by_xpath(\"//table[@class='wikitable sortable jquery-tablesorter']/tbody/tr/td[5]\")\n",
    "except:\n",
    "    pass"
   ]
  },
  {
   "cell_type": "code",
   "execution_count": 6,
   "id": "aeb47d8e",
   "metadata": {},
   "outputs": [],
   "source": [
    "for i in rank:\n",
    "    Rank.append(i.text)"
   ]
  },
  {
   "cell_type": "code",
   "execution_count": 7,
   "id": "45ac9fce",
   "metadata": {},
   "outputs": [],
   "source": [
    "for i in name:\n",
    "    Name.append(i.text)"
   ]
  },
  {
   "cell_type": "code",
   "execution_count": 8,
   "id": "af303877",
   "metadata": {},
   "outputs": [],
   "source": [
    "for i in artist:\n",
    "    Artist.append(i.text)"
   ]
  },
  {
   "cell_type": "code",
   "execution_count": 9,
   "id": "0b799d83",
   "metadata": {},
   "outputs": [],
   "source": [
    "for i in date:\n",
    "    Date.append(i.text)"
   ]
  },
  {
   "cell_type": "code",
   "execution_count": 10,
   "id": "a6078da5",
   "metadata": {},
   "outputs": [],
   "source": [
    "for i in views:\n",
    "    Views.append(i.text)"
   ]
  },
  {
   "cell_type": "code",
   "execution_count": 11,
   "id": "207f89de",
   "metadata": {},
   "outputs": [],
   "source": [
    "data = {\n",
    "    'Rank' : Rank,\n",
    "    'Name' : Name,\n",
    "    'Artist': Artist,\n",
    "    'Date' : Date,\n",
    "    'Views in billions' : Views\n",
    "}"
   ]
  },
  {
   "cell_type": "code",
   "execution_count": 12,
   "id": "1dafb0b5",
   "metadata": {},
   "outputs": [],
   "source": [
    "MostViewsVideosOnYoutube = pd.DataFrame.from_dict(data, orient='index').transpose()[:30]"
   ]
  },
  {
   "cell_type": "code",
   "execution_count": 13,
   "id": "98211c24",
   "metadata": {},
   "outputs": [],
   "source": [
    "MostViewsVideosOnYoutube.to_csv(\"MostViewsVideosOnYoutube.csv\", encoding='utf-8', header='Most Viewed Video on Youtube')"
   ]
  },
  {
   "cell_type": "markdown",
   "id": "f326f34f",
   "metadata": {},
   "source": [
    "### Scrape the details team India’s international fixtures from bcci.tv. Url = https://www.bcci.tv/.\n",
    "\n",
    "### You need to find following details\n",
    "\n",
    "#### A) Match title (I.e. 1st ODI)\n",
    "\n",
    "#### B) Series\n",
    "\n",
    "####  C) Place\n",
    "\n",
    "#### D) Date \n",
    "\n",
    "#### E) Time\n",
    "\n",
    "### Note: - From bcci.tv home page you have reach to the international fixture page through code."
   ]
  },
  {
   "cell_type": "code",
   "execution_count": 14,
   "id": "ac9fc15f",
   "metadata": {},
   "outputs": [],
   "source": [
    "driver.get(\"https://www.bcci.tv/\")"
   ]
  },
  {
   "cell_type": "code",
   "execution_count": 15,
   "id": "bb48c6b3",
   "metadata": {},
   "outputs": [],
   "source": [
    "action = ActionChains(driver)"
   ]
  },
  {
   "cell_type": "code",
   "execution_count": 16,
   "id": "9b82e422",
   "metadata": {},
   "outputs": [],
   "source": [
    "menu = driver.find_element_by_xpath(\"//div[@class='navigation__drop-down drop-down drop-down--reveal-on-hover']\")\n",
    "action.move_to_element(menu).perform()"
   ]
  },
  {
   "cell_type": "code",
   "execution_count": 17,
   "id": "233f32d5",
   "metadata": {},
   "outputs": [],
   "source": [
    "fixture = driver.find_element_by_xpath(\"//div[@class='navigation__drop-down drop-down drop-down--reveal-on-hover']/div/ul/li[1]\")\n",
    "fixture.click()\n",
    "time.sleep(4)"
   ]
  },
  {
   "cell_type": "code",
   "execution_count": 18,
   "id": "957cb1d8",
   "metadata": {},
   "outputs": [],
   "source": [
    "try:\n",
    "    title = driver.find_elements_by_xpath(\"//div[@class='fixture__description u-unskewed-text']/p/strong\")\n",
    "    series = driver.find_elements_by_xpath(\"//div[@class='fixture__format-strip']/span[2]\")\n",
    "    place = driver.find_elements_by_xpath(\"//div[@class='fixture__description u-unskewed-text']/p/span\")\n",
    "    month =  driver.find_elements_by_xpath(\"//div[@class='fixture__date-details']/span[1]\")\n",
    "    date = driver.find_elements_by_xpath(\"//span[@class='fixture__date']\")\n",
    "    time = driver.find_elements_by_xpath(\"//div[@class='fixture__date-details']/span[2]\")\n",
    "except:\n",
    "    pass"
   ]
  },
  {
   "cell_type": "code",
   "execution_count": 19,
   "id": "213dd737",
   "metadata": {},
   "outputs": [],
   "source": [
    "Title = []\n",
    "Series = []\n",
    "Place  =[]\n",
    "Month = []\n",
    "Date = []\n",
    "Time = []"
   ]
  },
  {
   "cell_type": "code",
   "execution_count": 20,
   "id": "c7678ee5",
   "metadata": {},
   "outputs": [],
   "source": [
    "for i in title:\n",
    "    Title.append(i.text)"
   ]
  },
  {
   "cell_type": "code",
   "execution_count": 21,
   "id": "ecd955e7",
   "metadata": {},
   "outputs": [],
   "source": [
    "for i in series:\n",
    "    Series.append(i.text)"
   ]
  },
  {
   "cell_type": "code",
   "execution_count": 22,
   "id": "3012dae7",
   "metadata": {},
   "outputs": [],
   "source": [
    "for i in place:\n",
    "    Place.append(i.text)"
   ]
  },
  {
   "cell_type": "code",
   "execution_count": 23,
   "id": "f224ab68",
   "metadata": {},
   "outputs": [],
   "source": [
    "for i in month:\n",
    "    Month.append(i.text)"
   ]
  },
  {
   "cell_type": "code",
   "execution_count": 24,
   "id": "f04942ae",
   "metadata": {},
   "outputs": [],
   "source": [
    "for i in date:\n",
    "    Date.append(i.text)"
   ]
  },
  {
   "cell_type": "code",
   "execution_count": 25,
   "id": "23968b22",
   "metadata": {},
   "outputs": [],
   "source": [
    "for i in time:\n",
    "    Time.append(i.text)"
   ]
  },
  {
   "cell_type": "code",
   "execution_count": 26,
   "id": "27a86d52",
   "metadata": {},
   "outputs": [],
   "source": [
    "data  = {\n",
    "    'Match Title': Title,\n",
    "    'Series Name': Series,\n",
    "    'Place':Place,\n",
    "    'Month': Month,\n",
    "    'Date':Date,\n",
    "    'Time':Time\n",
    "}"
   ]
  },
  {
   "cell_type": "code",
   "execution_count": 27,
   "id": "a3a49c35",
   "metadata": {},
   "outputs": [],
   "source": [
    "IndiasMatches = pd.DataFrame.from_dict(data, orient='index').transpose()"
   ]
  },
  {
   "cell_type": "code",
   "execution_count": 28,
   "id": "073b77b6",
   "metadata": {},
   "outputs": [],
   "source": [
    "IndiasMatches.to_csv(\"IndiasMatches.csv\", encoding='utf-8', header='''India's International Matches''')"
   ]
  },
  {
   "cell_type": "markdown",
   "id": "99938467",
   "metadata": {},
   "source": [
    "###  Q3) Scrape the details of selenium exception from guru99.com.\n",
    "\n",
    "### Url = https://www.guru99.com/ You need to find following details:\n",
    "\n",
    "#### A) Name\n",
    "\n",
    "#### B) Description\n",
    "\n",
    "### Note: - From guru99 home page you have to reach to selenium exception handling page through code"
   ]
  },
  {
   "cell_type": "code",
   "execution_count": 29,
   "id": "b02466c6",
   "metadata": {},
   "outputs": [],
   "source": [
    "driver.get(\"https://www.guru99.com/\")"
   ]
  },
  {
   "cell_type": "code",
   "execution_count": 30,
   "id": "ab55f999",
   "metadata": {},
   "outputs": [],
   "source": [
    "sele = driver.find_element_by_xpath(\"//ul[@id='java_technologies']/li[3]\")\n",
    "sele.click()"
   ]
  },
  {
   "cell_type": "code",
   "execution_count": 31,
   "id": "25b86f7e",
   "metadata": {},
   "outputs": [],
   "source": [
    "exception = driver.find_element_by_xpath(\"//table[@class='table'][5]/tbody/tr[34]/td/a\")\n",
    "exception.click()"
   ]
  },
  {
   "cell_type": "code",
   "execution_count": 32,
   "id": "67138c3f",
   "metadata": {},
   "outputs": [],
   "source": [
    "try:\n",
    "    name = driver.find_elements_by_xpath(\"//table[@class='table table-striped']/tbody/tr/td[1]\")\n",
    "    description = driver.find_elements_by_xpath(\"//table[@class='table table-striped']/tbody/tr/td[2]\")\n",
    "except:\n",
    "    pass"
   ]
  },
  {
   "cell_type": "code",
   "execution_count": 33,
   "id": "847ad4ff",
   "metadata": {},
   "outputs": [],
   "source": [
    "Name = []\n",
    "Description = []"
   ]
  },
  {
   "cell_type": "code",
   "execution_count": 34,
   "id": "f22bc47b",
   "metadata": {},
   "outputs": [],
   "source": [
    "for i in name:\n",
    "    Name.append(i.text)"
   ]
  },
  {
   "cell_type": "code",
   "execution_count": 35,
   "id": "53d3c084",
   "metadata": {},
   "outputs": [],
   "source": [
    "for i in description:\n",
    "    Description.append(i.text)"
   ]
  },
  {
   "cell_type": "code",
   "execution_count": 36,
   "id": "802afe7a",
   "metadata": {},
   "outputs": [],
   "source": [
    "data = {\n",
    "    'Name': Name[1:],\n",
    "    'Description': Description[1:]\n",
    "}"
   ]
  },
  {
   "cell_type": "code",
   "execution_count": 37,
   "id": "cfcb782b",
   "metadata": {},
   "outputs": [],
   "source": [
    "SeleniumExceptions = pd.DataFrame.from_dict(data)"
   ]
  },
  {
   "cell_type": "code",
   "execution_count": 38,
   "id": "408fb8be",
   "metadata": {},
   "outputs": [],
   "source": [
    "SeleniumExceptions.to_csv(\"Selenium Exceptions\", encoding='utf-8')"
   ]
  },
  {
   "cell_type": "markdown",
   "id": "a128ae7a",
   "metadata": {},
   "source": [
    "### Q4) Scrape the details of State-wise GDP of India from statisticstime.com.\n",
    "### Url = http://statisticstimes.com/\n",
    "### You have to find following details:\n",
    "#### A) Rank\n",
    "\n",
    "#### B) State\n",
    "\n",
    "#### C) GSDP(18-19)\n",
    "\n",
    "#### D) GSDP(17-18)\n",
    "\n",
    "#### E) Share(2017)\n",
    "\n",
    "#### F) GDP($ billion)\n",
    "\n",
    "### Note: - From statisticstimes home page you have to reach to economy page through code. "
   ]
  },
  {
   "cell_type": "code",
   "execution_count": 39,
   "id": "1de38acb",
   "metadata": {},
   "outputs": [],
   "source": [
    "driver.get(\"http://statisticstimes.com/\")"
   ]
  },
  {
   "cell_type": "code",
   "execution_count": 40,
   "id": "9c65c61f",
   "metadata": {},
   "outputs": [],
   "source": [
    "btn = driver.find_element_by_xpath(\"//div[@class='dropdown'][2]\").click()"
   ]
  },
  {
   "cell_type": "code",
   "execution_count": 41,
   "id": "f2c2ec2e",
   "metadata": {},
   "outputs": [],
   "source": [
    "india  = driver.find_element_by_xpath(\"//div[@class='dropdown'][2]/div/a[3]\").click()"
   ]
  },
  {
   "cell_type": "code",
   "execution_count": 43,
   "id": "4e33debe",
   "metadata": {},
   "outputs": [],
   "source": [
    "gdp  = driver.find_element_by_xpath(\"//body/div[2]/div[2]/div[2]/ul/li[2]\").click()"
   ]
  },
  {
   "cell_type": "code",
   "execution_count": 44,
   "id": "c7d1c21f",
   "metadata": {},
   "outputs": [],
   "source": [
    "try:\n",
    "    rank = driver.find_elements_by_xpath(\"//table[@id='table_id']/tbody/tr/td[1]\")\n",
    "    state = driver.find_elements_by_xpath(\"//table[@id='table_id']/tbody/tr/td[2]\")\n",
    "    n =  driver.find_elements_by_xpath(\"//table[@id='table_id']/tbody/tr/td[3]\")\n",
    "    e = driver.find_elements_by_xpath(\"//table[@id='table_id']/tbody/tr/td[4]\")\n",
    "    p = driver.find_elements_by_xpath(\"//table[@id='table_id']/tbody/tr/td[5]\")\n",
    "    gdp = driver.find_elements_by_xpath(\"//table[@id='table_id']/tbody/tr/td[6]\")\n",
    "    ni = driver.find_elements_by_xpath(\"//table[@id='table_id']/tbody/tr/td[7]\")\n",
    "    ei = driver.find_elements_by_xpath(\"//table[@id='table_id']/tbody/tr/td[8]\")\n",
    "except:\n",
    "    pass"
   ]
  },
  {
   "cell_type": "code",
   "execution_count": 45,
   "id": "20b7e89a",
   "metadata": {},
   "outputs": [],
   "source": [
    "Rank = []\n",
    "State = []\n",
    "N = []\n",
    "E = []\n",
    "P = []\n",
    "GDP = []\n",
    "NI = []\n",
    "EI = []"
   ]
  },
  {
   "cell_type": "code",
   "execution_count": 46,
   "id": "447c98c1",
   "metadata": {},
   "outputs": [],
   "source": [
    "for i in rank:\n",
    "    Rank.append(i.text)\n",
    "for j in state:\n",
    "    State.append(j.text)\n",
    "for k in n:\n",
    "    N.append(k.text)\n",
    "for l in e:\n",
    "    E.append(l.text)\n",
    "for m in gdp:\n",
    "    GDP.append(m.text)\n",
    "for n in ni:\n",
    "    NI.append(n.text)\n",
    "for o in ei:\n",
    "    EI.append(o.text)\n",
    "for p in p:\n",
    "    P.append(p.text)"
   ]
  },
  {
   "cell_type": "code",
   "execution_count": 47,
   "id": "adb38fc4",
   "metadata": {},
   "outputs": [],
   "source": [
    "data = {\n",
    "    'Rank': Rank,\n",
    "    'State Name': State,\n",
    "    '19-20': N,\n",
    "    '18-19':E,\n",
    "    'GDP % of india': P,\n",
    "    'GDP per capita': GDP,\n",
    "    'GSDP 19-20':NI,\n",
    "    'GSDP 18-19':EI\n",
    "}"
   ]
  },
  {
   "cell_type": "code",
   "execution_count": 48,
   "id": "4b751472",
   "metadata": {},
   "outputs": [],
   "source": [
    "StateWiseGDPIndia = pd.DataFrame.from_dict(data)\n",
    "StateWiseGDPIndia.to_csv('StateWiseGDPIndia.csv', encoding='utf-8')"
   ]
  },
  {
   "cell_type": "markdown",
   "id": "a6da0578",
   "metadata": {},
   "source": [
    "### Q5) Scrape the details of trending repositories on Github.com\n",
    "\n",
    "### You have to find the following details:\n",
    "\n",
    "#### A) Repository title\n",
    "\n",
    "#### B) Repository description\n",
    "\n",
    "#### C) Contributors count\n",
    "\n",
    "#### D) Language used\n",
    "\n",
    "### Note: - From the home page you have to click on the trending option from Explore menu through code."
   ]
  },
  {
   "cell_type": "code",
   "execution_count": 49,
   "id": "c877cd13",
   "metadata": {},
   "outputs": [],
   "source": [
    "driver.get(\"https://github.com/\")"
   ]
  },
  {
   "cell_type": "code",
   "execution_count": 50,
   "id": "cd5193b2",
   "metadata": {},
   "outputs": [],
   "source": [
    "signin = driver.find_element_by_xpath(\"//a[@class='HeaderMenu-link flex-shrink-0 no-underline mr-3']\")\n",
    "signin.click()"
   ]
  },
  {
   "cell_type": "code",
   "execution_count": 51,
   "id": "c92d62b5",
   "metadata": {},
   "outputs": [
    {
     "name": "stdout",
     "output_type": "stream",
     "text": [
      "Enter Your Email address: sumitsantra4@gmail.com\n",
      "Enter your password: Sumit@16091997\n"
     ]
    }
   ],
   "source": [
    "username = driver.find_element_by_xpath(\"//input[@id='login_field']\")\n",
    "user = input(\"Enter Your Email address: \")\n",
    "username.send_keys(user)\n",
    "password = driver.find_element_by_xpath(\"//input[@id='password']\")\n",
    "pwd = input(\"Enter your password: \")\n",
    "password.send_keys(pwd)\n",
    "btn = driver.find_element_by_xpath(\"//input[@class='btn btn-primary btn-block']\")\n",
    "btn.click()"
   ]
  },
  {
   "cell_type": "code",
   "execution_count": 52,
   "id": "b666da27",
   "metadata": {},
   "outputs": [
    {
     "name": "stdout",
     "output_type": "stream",
     "text": [
      "Please Enter the OTP Received by You: 913382\n"
     ]
    }
   ],
   "source": [
    "otp = driver.find_element_by_xpath(\"//input[@id='otp']\")\n",
    "otp.clear()\n",
    "OTP = input(\"Please Enter the OTP Received by You: \")\n",
    "otp.send_keys(OTP)\n",
    "btn = driver.find_element_by_xpath(\"//button[@class='btn btn-primary btn-block']\")\n",
    "btn.click()"
   ]
  },
  {
   "cell_type": "code",
   "execution_count": 53,
   "id": "11fab25b",
   "metadata": {},
   "outputs": [],
   "source": [
    "explore  = driver.find_element_by_xpath(\"//a[@class='js-selected-navigation-item Header-link mt-md-n3 mb-md-n3 py-2 py-md-3 mr-0 mr-md-3 border-top border-md-top-0 border-white-fade'][3]\")\n",
    "explore.click()"
   ]
  },
  {
   "cell_type": "code",
   "execution_count": 54,
   "id": "4bf65e4b",
   "metadata": {},
   "outputs": [],
   "source": [
    "trend = driver.find_element_by_xpath(\"//a[@class='js-selected-navigation-item d-inline-block py-2 py-md-3 mr-3 mr-md-4 no-underline subnav-link'][2]\")\n",
    "trend.click()"
   ]
  },
  {
   "cell_type": "code",
   "execution_count": 55,
   "id": "5e041cde",
   "metadata": {},
   "outputs": [],
   "source": [
    "try:\n",
    "    title = driver.find_elements_by_xpath(\"//h1[@class='h3 lh-condensed']/a\")\n",
    "    desc = driver.find_elements_by_xpath(\"//p[@class='col-9 color-text-secondary my-1 pr-4']\")\n",
    "    lang = driver.find_elements_by_xpath(\"//span[@class='d-inline-block ml-0 mr-3']/span[2]\")\n",
    "    stars = driver.find_elements_by_xpath(\"//div[@class='f6 color-text-secondary mt-2']/a[1]\")\n",
    "    forks = driver.find_elements_by_xpath(\"//div[@class='f6 color-text-secondary mt-2']/a[2]\")\n",
    "except:\n",
    "    pass"
   ]
  },
  {
   "cell_type": "code",
   "execution_count": 56,
   "id": "b0c2dce2",
   "metadata": {},
   "outputs": [],
   "source": [
    "Title = []\n",
    "Description = []\n",
    "Language = []\n",
    "Stars  =[]\n",
    "Forks = []"
   ]
  },
  {
   "cell_type": "code",
   "execution_count": 57,
   "id": "f3d30602",
   "metadata": {},
   "outputs": [],
   "source": [
    "for i in title:\n",
    "    Title.append(i.text)\n",
    "for j in desc:\n",
    "    Description.append(j.text)\n",
    "for k in lang:\n",
    "    Language.append(k.text)\n",
    "for l in stars:\n",
    "    Stars.append(l.text)\n",
    "for m in forks:\n",
    "    Forks.append(m.text)"
   ]
  },
  {
   "cell_type": "code",
   "execution_count": 58,
   "id": "902c5318",
   "metadata": {},
   "outputs": [],
   "source": [
    "data = {\n",
    "    'Repository Title' : Title,\n",
    "    'Repository Description' : Description,\n",
    "    'Language Used' : Language,\n",
    "    'Stars' : Stars,\n",
    "    'Forks' : Forks\n",
    "}"
   ]
  },
  {
   "cell_type": "code",
   "execution_count": 59,
   "id": "5d7f6080",
   "metadata": {},
   "outputs": [],
   "source": [
    "TrendingRepository = pd.DataFrame.from_dict(data, orient='index').transpose()"
   ]
  },
  {
   "cell_type": "code",
   "execution_count": 60,
   "id": "470592fe",
   "metadata": {},
   "outputs": [],
   "source": [
    "TrendingRepository.to_csv(\"Trending Repository.csv\", encoding='utf-8')"
   ]
  },
  {
   "cell_type": "markdown",
   "id": "efea4337",
   "metadata": {},
   "source": [
    "### Q6) Scrape the details of top 100 songs on billiboard.com.\n",
    "\n",
    "### You have to find the following details:\n",
    "\n",
    "#### A) Song name\n",
    "\n",
    "#### B) Artist name\n",
    "\n",
    "#### C) Last week rank\n",
    "\n",
    "#### D) Peak rank\n",
    "\n",
    "#### E) Weeks on board\n",
    "\n",
    "### Note: - From the home page you have to click on the charts option then hot 100-page link through code."
   ]
  },
  {
   "cell_type": "code",
   "execution_count": 61,
   "id": "1934b51c",
   "metadata": {},
   "outputs": [],
   "source": [
    "driver.get(\"https://www.billboard.com/\")"
   ]
  },
  {
   "cell_type": "code",
   "execution_count": 62,
   "id": "50876d17",
   "metadata": {},
   "outputs": [],
   "source": [
    "hot100 = driver.find_element_by_xpath(\"//nav[@class='header__subnav bg--light']/ul/li[3]\")\n",
    "hot100.click()"
   ]
  },
  {
   "cell_type": "code",
   "execution_count": 63,
   "id": "00e47c0b",
   "metadata": {},
   "outputs": [],
   "source": [
    "try:\n",
    "    name = driver.find_elements_by_xpath(\"//span[@class='chart-element__information']/span[1]\")\n",
    "    artist = driver.find_elements_by_xpath(\"//span[@class='chart-element__information']/span[2]\")\n",
    "    lwr = driver.find_elements_by_xpath(\"//div[@class='chart-element__metas chart-element__metas--large display--flex flex--y-center']/div[2]\")\n",
    "    pr = driver.find_elements_by_xpath(\"//div[@class='chart-element__metas chart-element__metas--large display--flex flex--y-center']/div[3]\")\n",
    "    weeks = driver.find_elements_by_xpath(\"//div[@class='chart-element__metas chart-element__metas--large display--flex flex--y-center']/div[4]\")\n",
    "except:\n",
    "    pass"
   ]
  },
  {
   "cell_type": "code",
   "execution_count": 64,
   "id": "87312ca2",
   "metadata": {},
   "outputs": [],
   "source": [
    "Name = []\n",
    "Artist = []\n",
    "Last = []\n",
    "Peak = []\n",
    "Weeks = []"
   ]
  },
  {
   "cell_type": "code",
   "execution_count": 65,
   "id": "bd047e76",
   "metadata": {},
   "outputs": [],
   "source": [
    "for i in name:\n",
    "    Name.append(i.text)\n",
    "for j in artist:\n",
    "    Artist.append(i.text)\n",
    "for k in lwr:\n",
    "    Last.append(k.text)\n",
    "for l in pr:\n",
    "    Peak.append(l.text)\n",
    "for m in weeks:\n",
    "    Weeks.append(m.text)"
   ]
  },
  {
   "cell_type": "code",
   "execution_count": 66,
   "id": "18a6544c",
   "metadata": {},
   "outputs": [],
   "source": [
    "data = {\n",
    "    'Song Name' : Name,\n",
    "    'Artist Name' : Artist,\n",
    "    'Last Week Rank' : Last,\n",
    "    'Peak Rank': Peak,\n",
    "    'Weeks on board' : Weeks\n",
    "}"
   ]
  },
  {
   "cell_type": "code",
   "execution_count": 67,
   "id": "698ca9d6",
   "metadata": {},
   "outputs": [],
   "source": [
    "Hot100 = pd.DataFrame.from_dict(data, orient='index').transpose()"
   ]
  },
  {
   "cell_type": "code",
   "execution_count": 68,
   "id": "36548fdd",
   "metadata": {},
   "outputs": [],
   "source": [
    "Hot100.fillna(\"-\", inplace =True)\n",
    "Hot100.to_csv(\"Hot100 Songs.csv\", encoding='utf-8')"
   ]
  },
  {
   "cell_type": "markdown",
   "id": "43adc85e",
   "metadata": {},
   "source": [
    "### Q7) Scrape the details of Data science recruiters from naukri.com.\n",
    "\n",
    "### You have to find the following details:\n",
    "\n",
    "#### A) Name\n",
    "\n",
    "#### B) Designation\n",
    "\n",
    "#### C) Company\n",
    "\n",
    "#### D) Skills they hire for\n",
    "\n",
    "#### E) Location\n",
    "\n",
    "### Note: - From naukri.com homepage click on the recruiters option and the on the search pane type Data science and click on search. All this should be done through code"
   ]
  },
  {
   "cell_type": "code",
   "execution_count": 69,
   "id": "f5a921e5",
   "metadata": {},
   "outputs": [],
   "source": [
    "driver.get(\"https://www.naukri.com/\")"
   ]
  },
  {
   "cell_type": "code",
   "execution_count": 70,
   "id": "239ba192",
   "metadata": {},
   "outputs": [
    {
     "name": "stderr",
     "output_type": "stream",
     "text": [
      "<ipython-input-70-dbca4027bdb6>:3: DeprecationWarning: use driver.switch_to.window instead\n",
      "  driver.switch_to_window(driver.window_handles[1])\n"
     ]
    }
   ],
   "source": [
    "recruiter  = driver.find_element_by_xpath(\"//div[@class='headGNB cloneCont wrap']/ul/li[2]\")\n",
    "recruiter.click()\n",
    "driver.switch_to_window(driver.window_handles[1])"
   ]
  },
  {
   "cell_type": "code",
   "execution_count": 71,
   "id": "b992ba34",
   "metadata": {},
   "outputs": [
    {
     "name": "stdout",
     "output_type": "stream",
     "text": [
      "Please enter the Designation: Data Science\n"
     ]
    }
   ],
   "source": [
    "search  = driver.find_element_by_xpath(\"//div[@class='inpWrap']/input\")\n",
    "send = input(\"Please enter the Designation: \")\n",
    "search.send_keys(send)\n",
    "btn = driver.find_element_by_xpath(\"//button[@id='qsbFormBtn']\")\n",
    "btn.click()"
   ]
  },
  {
   "cell_type": "code",
   "execution_count": 72,
   "id": "5752cb7c",
   "metadata": {},
   "outputs": [],
   "source": [
    "try:\n",
    "    name = driver.find_elements_by_xpath(\"//p[@class='highlightable']/a[1]\")\n",
    "    designation = driver.find_elements_by_xpath(\"//p[@class='highlightable']/span[1]\")\n",
    "    company = driver.find_elements_by_xpath(\"//p[@class='highlightable']/a[2]\")\n",
    "    skills = driver.find_elements_by_xpath(\"//div[@class='hireSec highlightable']\")\n",
    "    location = driver.find_elements_by_xpath(\"//p[@class='highlightable']/span[2]\")\n",
    "except:\n",
    "    pass"
   ]
  },
  {
   "cell_type": "code",
   "execution_count": 73,
   "id": "24348c27",
   "metadata": {},
   "outputs": [],
   "source": [
    "Name = []\n",
    "Designation = []\n",
    "Comapny = []\n",
    "Skills = []\n",
    "Location = []"
   ]
  },
  {
   "cell_type": "code",
   "execution_count": 74,
   "id": "df742f06",
   "metadata": {},
   "outputs": [],
   "source": [
    "for i in name:\n",
    "    Name.append(i.text)\n",
    "for j in designation:\n",
    "    Designation.append(j.text)\n",
    "for k in company:\n",
    "    Comapny.append(k.text)\n",
    "for l in skills:\n",
    "    Skills.append(l.text)\n",
    "for m in location:\n",
    "    Location.append(m.text)"
   ]
  },
  {
   "cell_type": "code",
   "execution_count": 75,
   "id": "517dbfb4",
   "metadata": {},
   "outputs": [],
   "source": [
    "data = {\n",
    "    'Name of Recruiter': Name,\n",
    "    'Designation' : Designation,\n",
    "    'Company Name' : Comapny,\n",
    "    'Skills they hire for': Skills,\n",
    "    'Loaction of the Company' : Location\n",
    "}"
   ]
  },
  {
   "cell_type": "code",
   "execution_count": 76,
   "id": "ccc5e0f3",
   "metadata": {},
   "outputs": [],
   "source": [
    "DataScienceRecruiters = pd.DataFrame.from_dict(data, orient='index').transpose()"
   ]
  },
  {
   "cell_type": "code",
   "execution_count": 77,
   "id": "7353eed9",
   "metadata": {},
   "outputs": [],
   "source": [
    "DataScienceRecruiters.to_csv(\"Data Science Recruiters Information.csv\", encoding='utf-8')"
   ]
  },
  {
   "cell_type": "markdown",
   "id": "9e14fac4",
   "metadata": {},
   "source": [
    "### Q8) 8. Scrape the details of Highest selling novels\n",
    "\n",
    "### You have to find the following details:\n",
    "\n",
    "#### A) Book name\n",
    "\n",
    "#### B) Author name\n",
    "\n",
    "#### C) Volumes sold\n",
    " \n",
    "#### D) Publisher\n",
    "\n",
    "#### E) Genre"
   ]
  },
  {
   "cell_type": "code",
   "execution_count": 78,
   "id": "f7dc4831",
   "metadata": {},
   "outputs": [],
   "source": [
    "driver.get(\"https://www.theguardian.com/news/datablog/2012/aug/09/best-selling-books-all-time-fifty-shades-grey-compare\")"
   ]
  },
  {
   "cell_type": "code",
   "execution_count": 79,
   "id": "91b91556",
   "metadata": {},
   "outputs": [],
   "source": [
    "try:\n",
    "    rank = driver.find_elements_by_xpath(\"//div[@class='embed block']/table/tbody/tr/td[1]\")\n",
    "    name = driver.find_elements_by_xpath(\"//div[@class='embed block']/table/tbody/tr/td[2]\")\n",
    "    aurthor = driver.find_elements_by_xpath(\"//div[@class='embed block']/table/tbody/tr/td[3]\")\n",
    "    volume = driver.find_elements_by_xpath(\"//div[@class='embed block']/table/tbody/tr/td[4]\")\n",
    "    publisher = driver.find_elements_by_xpath(\"//div[@class='embed block']/table/tbody/tr/td[5]\")\n",
    "    genre = driver.find_elements_by_xpath(\"//div[@class='embed block']/table/tbody/tr/td[6]\")\n",
    "except:\n",
    "    pass"
   ]
  },
  {
   "cell_type": "code",
   "execution_count": 80,
   "id": "e33ed30e",
   "metadata": {},
   "outputs": [],
   "source": [
    "Rank = []\n",
    "Name = []\n",
    "Author = []\n",
    "Volume = []\n",
    "Publisher = []\n",
    "Genre = []"
   ]
  },
  {
   "cell_type": "code",
   "execution_count": 81,
   "id": "94a2dbfa",
   "metadata": {},
   "outputs": [],
   "source": [
    "for i in rank:\n",
    "    Rank.append(i.text)\n",
    "for j in name:\n",
    "    Name.append(j.text)\n",
    "for k in aurthor:\n",
    "    Author.append(k.text)\n",
    "for l in volume:\n",
    "    Volume.append(l.text)\n",
    "for m in publisher:\n",
    "    Publisher.append(m.text)\n",
    "for n in genre:\n",
    "    Genre.append(n.text)"
   ]
  },
  {
   "cell_type": "code",
   "execution_count": 82,
   "id": "5c77d2a3",
   "metadata": {},
   "outputs": [],
   "source": [
    "data = {\n",
    "    'Rank': Rank,\n",
    "    'Name of the book': Name,\n",
    "    'Author Name' : Author,\n",
    "    'Volumes Sold' : Volume,\n",
    "    'Publisher' : Publisher,\n",
    "    'Genere' : Genre\n",
    "}"
   ]
  },
  {
   "cell_type": "code",
   "execution_count": 83,
   "id": "dd47fb7b",
   "metadata": {},
   "outputs": [],
   "source": [
    "HighestSellingNovels = pd.DataFrame.from_dict(data)"
   ]
  },
  {
   "cell_type": "code",
   "execution_count": 84,
   "id": "1d54b7cc",
   "metadata": {},
   "outputs": [],
   "source": [
    "HighestSellingNovels.to_csv(\"Highest Selling Novels.csv\", encoding='utf-8')"
   ]
  },
  {
   "cell_type": "markdown",
   "id": "9541db8c",
   "metadata": {},
   "source": [
    "### Q9) Scrape the details most watched tv series of all time from imdb.com.\n",
    "\n",
    "### You have to find the following details:\n",
    "\n",
    "#### A) Name\n",
    "\n",
    "#### B) Year span\n",
    "\n",
    "#### C) Genre\n",
    "\n",
    "#### D) Run time\n",
    "\n",
    "#### E) Ratings\n",
    "\n",
    "#### F) Votes"
   ]
  },
  {
   "cell_type": "code",
   "execution_count": 85,
   "id": "bc9281ec",
   "metadata": {},
   "outputs": [],
   "source": [
    "driver.get(\"https://www.imdb.com/list/ls095964455/\")"
   ]
  },
  {
   "cell_type": "code",
   "execution_count": 86,
   "id": "f72b823d",
   "metadata": {},
   "outputs": [],
   "source": [
    "try:\n",
    "    name = driver.find_elements_by_xpath(\"//div[@class='lister-item-content']/h3/a\")\n",
    "    year = driver.find_elements_by_xpath(\"//div[@class='lister-item-content']/h3/span[2]\")\n",
    "    genre = driver.find_elements_by_xpath(\"//div[@class='lister-item-content']/p/span[5]\")\n",
    "    run  = driver.find_elements_by_xpath(\"//div[@class='lister-item-content']/p/span[3]\")\n",
    "    ratings  = driver.find_elements_by_xpath(\"//div[@class='ipl-rating-widget']/div/span[2]\")\n",
    "    votes = driver.find_elements_by_xpath(\"//p[@class='text-muted text-small'][3]/span[2]\")\n",
    "except:\n",
    "    pass"
   ]
  },
  {
   "cell_type": "code",
   "execution_count": 87,
   "id": "e6f0ef8f",
   "metadata": {},
   "outputs": [],
   "source": [
    "Name = []\n",
    "Year = []\n",
    "Genre = []\n",
    "Runtime = []\n",
    "Ratings = []\n",
    "Votes = []"
   ]
  },
  {
   "cell_type": "code",
   "execution_count": 88,
   "id": "9d7613b3",
   "metadata": {},
   "outputs": [],
   "source": [
    "for i in name:\n",
    "    Name.append(i.text)\n",
    "for j in year:\n",
    "    Year.append(j.text)\n",
    "for k in genre:\n",
    "    Genre.append(k.text)\n",
    "for l in run:\n",
    "    Runtime.append(l.text)\n",
    "for m in ratings:\n",
    "    Ratings.append(m.text)\n",
    "for n in votes:\n",
    "    Votes.append(n.text)"
   ]
  },
  {
   "cell_type": "code",
   "execution_count": 89,
   "id": "39d953e8",
   "metadata": {},
   "outputs": [],
   "source": [
    "data = {\n",
    "    'Name': Name,\n",
    "    'Year Span': Year,\n",
    "    'Genre' : Genre,\n",
    "    'Runtime': Runtime,\n",
    "    'Ratings' : Ratings,\n",
    "    'Votes':Votes\n",
    "}"
   ]
  },
  {
   "cell_type": "code",
   "execution_count": 90,
   "id": "6766d9b1",
   "metadata": {},
   "outputs": [],
   "source": [
    "MostWatchedTvSeries = pd.DataFrame.from_dict(data)"
   ]
  },
  {
   "cell_type": "code",
   "execution_count": 91,
   "id": "fc2fbff0",
   "metadata": {},
   "outputs": [],
   "source": [
    "MostWatchedTvSeries.to_csv(\"Most Watched TV Series.csv\", encoding='utf-8')"
   ]
  },
  {
   "cell_type": "markdown",
   "id": "ca9d3a7d",
   "metadata": {},
   "source": [
    "### Q10) Details of Datasets from UCI machine learning repositories.\n",
    "\n",
    "### You have to find the following details:\n",
    "\n",
    "#### A) Dataset name\n",
    "\n",
    "#### B) Data type\n",
    "\n",
    "#### C) Task\n",
    "\n",
    "#### D) Attribute type\n",
    "\n",
    "#### E) No of instances\n",
    "\n",
    "#### F) No of attribute\n",
    "\n",
    "#### G) Year\n",
    "\n",
    "### Note: - from the home page you have to go to the Show All Dataset page through code."
   ]
  },
  {
   "cell_type": "code",
   "execution_count": 92,
   "id": "f2c33543",
   "metadata": {},
   "outputs": [],
   "source": [
    "driver.get(\"https://archive.ics.uci.edu/ml/index.php\")"
   ]
  },
  {
   "cell_type": "code",
   "execution_count": 93,
   "id": "0859b999",
   "metadata": {},
   "outputs": [],
   "source": [
    "click  = driver.find_element_by_xpath(\"//table[2]/tbody/tr/td/span/b\")\n",
    "click.click()"
   ]
  },
  {
   "cell_type": "code",
   "execution_count": 94,
   "id": "b7cf3eaa",
   "metadata": {},
   "outputs": [],
   "source": [
    "try:\n",
    "    name = driver.find_elements_by_xpath(\"//table[2]/tbody/tr/td[2]/table[2]/tbody/tr/td[1]\")\n",
    "    datatype = driver.find_elements_by_xpath(\"//table[2]/tbody/tr/td[2]/table[2]/tbody/tr/td[2]\")\n",
    "    task = driver.find_elements_by_xpath(\"//table[2]/tbody/tr/td[2]/table[2]/tbody/tr/td[3]\")\n",
    "    attrobutetype = driver.find_elements_by_xpath(\"//table[2]/tbody/tr/td[2]/table[2]/tbody/tr/td[4]\")\n",
    "    instances = driver.find_elements_by_xpath(\"//table[2]/tbody/tr/td[2]/table[2]/tbody/tr/td[5]\")\n",
    "    noattribute = driver.find_elements_by_xpath(\"//table[2]/tbody/tr/td[2]/table[2]/tbody/tr/td[6]\")\n",
    "    year = driver.find_elements_by_xpath(\"//table[2]/tbody/tr/td[2]/table[2]/tbody/tr/td[7]\")\n",
    "except:\n",
    "    pass"
   ]
  },
  {
   "cell_type": "code",
   "execution_count": 95,
   "id": "63ab4b46",
   "metadata": {},
   "outputs": [],
   "source": [
    "Name = []\n",
    "Datatype = []\n",
    "Task = []\n",
    "Attribute = []\n",
    "Instances =  []\n",
    "NoAttribute = []\n",
    "Year = []"
   ]
  },
  {
   "cell_type": "code",
   "execution_count": 96,
   "id": "ad066ff6",
   "metadata": {},
   "outputs": [],
   "source": [
    "for i in name:\n",
    "    Name.append(i.text)\n",
    "for j in datatype:\n",
    "    Datatype.append(j.text)\n",
    "for k in task:\n",
    "    Task.append(k.text)\n",
    "for l in attrobutetype:\n",
    "    Attribute.append(l.text)\n",
    "for m in instances:\n",
    "    Instances.append(m.text)\n",
    "for n in noattribute:\n",
    "    NoAttribute.append(n.text)\n",
    "for o in year:\n",
    "    Year.append(o.text)"
   ]
  },
  {
   "cell_type": "code",
   "execution_count": 97,
   "id": "1b827283",
   "metadata": {},
   "outputs": [],
   "source": [
    "data = {\n",
    "    'Dataset Name': Name,\n",
    "    'Data Type': Datatype,\n",
    "    'Task' : Task,\n",
    "    'Attribute Type': Attribute,\n",
    "    'No of Instances' : Instances,\n",
    "    'No of Attribute': NoAttribute,\n",
    "    'Year': Year\n",
    "}"
   ]
  },
  {
   "cell_type": "code",
   "execution_count": 98,
   "id": "e7e74c8c",
   "metadata": {},
   "outputs": [],
   "source": [
    "Datasets = pd.DataFrame.from_dict(data)"
   ]
  },
  {
   "cell_type": "code",
   "execution_count": 99,
   "id": "4ec86959",
   "metadata": {},
   "outputs": [],
   "source": [
    "Datasets[1:].to_csv(\"Datasets.csv\", encoding='utf-8')"
   ]
  }
 ],
 "metadata": {
  "kernelspec": {
   "display_name": "Python 3",
   "language": "python",
   "name": "python3"
  },
  "language_info": {
   "codemirror_mode": {
    "name": "ipython",
    "version": 3
   },
   "file_extension": ".py",
   "mimetype": "text/x-python",
   "name": "python",
   "nbconvert_exporter": "python",
   "pygments_lexer": "ipython3",
   "version": "3.8.8"
  }
 },
 "nbformat": 4,
 "nbformat_minor": 5
}
