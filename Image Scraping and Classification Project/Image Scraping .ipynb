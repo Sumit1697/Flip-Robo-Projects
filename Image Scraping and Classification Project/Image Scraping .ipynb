{
 "cells": [
  {
   "cell_type": "code",
   "execution_count": 1,
   "id": "90007130",
   "metadata": {},
   "outputs": [],
   "source": [
    "import pandas as pd\n",
    "import numpy as np\n",
    "from selenium import webdriver\n",
    "from selenium.common.exceptions import *\n",
    "from selenium.webdriver.common.action_chains import ActionChains\n",
    "from selenium.webdriver.common.keys import Keys\n",
    "import time\n",
    "import datetime\n",
    "import os\n",
    "import urllib\n",
    "import seaborn as sns\n",
    "import glob\n",
    "from sklearn.utils import shuffle"
   ]
  },
  {
   "cell_type": "code",
   "execution_count": 2,
   "id": "71de6229",
   "metadata": {},
   "outputs": [],
   "source": [
    "driver = webdriver.Chrome(r\"S:\\Data Science Projects\\Flip Robo\\ChromeDriver\\chromedriver.exe\")"
   ]
  },
  {
   "cell_type": "code",
   "execution_count": 3,
   "id": "608e60df",
   "metadata": {},
   "outputs": [],
   "source": [
    "def hasxpath(xpath):\n",
    "    try:\n",
    "        driver.find_element_by_xpath(xpath)\n",
    "        return True\n",
    "    except:\n",
    "        return False"
   ]
  },
  {
   "cell_type": "markdown",
   "id": "3f0509dc",
   "metadata": {},
   "source": [
    "# Class to Scrape all the 3 categories of Images from flipkart each category has 1000 images"
   ]
  },
  {
   "cell_type": "code",
   "execution_count": 4,
   "id": "2875b27e",
   "metadata": {},
   "outputs": [],
   "source": [
    "class Scrape():\n",
    "    \n",
    "    def flipkart():\n",
    "        global product_name\n",
    "        driver.get(\"https://www.flipkart.com/\")\n",
    "        time.sleep(2)\n",
    "        try:\n",
    "            if hasxpath(\"//button[@class='_2KpZ6l _2doB4z']\") == True:\n",
    "                driver.find_element_by_xpath(\"//button[@class='_2KpZ6l _2doB4z']\").click()\n",
    "                search = driver.find_element_by_xpath(\"//input[@class='_3704LK']\")\n",
    "                product_name = input(\"Please Enter the Name of the Product: \")\n",
    "                search.send_keys(product_name)\n",
    "                driver.find_element_by_xpath(\"//button[@class='L0Z3Pu']\").click()\n",
    "                time.sleep(2)\n",
    "            else:\n",
    "                search = driver.find_element_by_xpath(\"//input[@class='_3704LK']\")\n",
    "                product_name = input(\"Please Enter the Name of the Product: \")\n",
    "                search.send_keys(product_name)\n",
    "                driver.find_element_by_xpath(\"//button[@class='L0Z3Pu']\").click()\n",
    "                time.sleep(2)\n",
    "        except:\n",
    "            pass\n",
    "        \n",
    "        \n",
    "    def ImgSrc():\n",
    "        global length\n",
    "        pages = int(input(\"Please enter how many pages you want to scrape: \"))\n",
    "        for i in range(0, pages):\n",
    "            try:\n",
    "                img_url = driver.find_elements_by_xpath(\"//img[@class='_2r_T1I']\")\n",
    "                for i in img_url:\n",
    "                    src.append(i.get_attribute('src'))\n",
    "                driver.find_element_by_link_text(\"NEXT\").click()\n",
    "                time.sleep(2)\n",
    "                length = len(src)\n",
    "            except:\n",
    "                pass\n",
    "        \n",
    "        \n",
    "    def download():\n",
    "        save_folder = product_name\n",
    "        if not os.path.exists(save_folder):\n",
    "            os.mkdir(save_folder)\n",
    "        for i in range(0, length):\n",
    "            urllib.request.urlretrieve(src[i], os.path.join(save_folder, product_name+str(i)+\".png\"))"
   ]
  },
  {
   "cell_type": "code",
   "execution_count": 5,
   "id": "8a85059f",
   "metadata": {},
   "outputs": [
    {
     "name": "stdout",
     "output_type": "stream",
     "text": [
      "Please Enter the Name of the Product: Saree\n",
      "Please enter how many pages you want to scrape: 25\n"
     ]
    }
   ],
   "source": [
    "src = []\n",
    "Scrape.flipkart()\n",
    "Scrape.ImgSrc()\n",
    "Scrape.download()"
   ]
  },
  {
   "cell_type": "code",
   "execution_count": 6,
   "id": "a6b09186",
   "metadata": {},
   "outputs": [
    {
     "name": "stdout",
     "output_type": "stream",
     "text": [
      "Please Enter the Name of the Product: Jeans Men\n",
      "Please enter how many pages you want to scrape: 25\n"
     ]
    }
   ],
   "source": [
    "src = []\n",
    "Scrape.flipkart()\n",
    "Scrape.ImgSrc()\n",
    "Scrape.download()"
   ]
  },
  {
   "cell_type": "code",
   "execution_count": 7,
   "id": "88702102",
   "metadata": {},
   "outputs": [
    {
     "name": "stdout",
     "output_type": "stream",
     "text": [
      "Please Enter the Name of the Product: Trousers Men\n",
      "Please enter how many pages you want to scrape: 25\n"
     ]
    }
   ],
   "source": [
    "src = []\n",
    "Scrape.flipkart()\n",
    "Scrape.ImgSrc()\n",
    "Scrape.download()"
   ]
  },
  {
   "cell_type": "code",
   "execution_count": 8,
   "id": "c89b7f84",
   "metadata": {},
   "outputs": [],
   "source": [
    "driver.quit()"
   ]
  }
 ],
 "metadata": {
  "kernelspec": {
   "display_name": "Python 3",
   "language": "python",
   "name": "python3"
  },
  "language_info": {
   "codemirror_mode": {
    "name": "ipython",
    "version": 3
   },
   "file_extension": ".py",
   "mimetype": "text/x-python",
   "name": "python",
   "nbconvert_exporter": "python",
   "pygments_lexer": "ipython3",
   "version": "3.8.8"
  }
 },
 "nbformat": 4,
 "nbformat_minor": 5
}
