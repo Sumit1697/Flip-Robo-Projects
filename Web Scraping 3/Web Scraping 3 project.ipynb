{
 "cells": [
  {
   "cell_type": "code",
   "execution_count": 1,
   "id": "89accfa0",
   "metadata": {},
   "outputs": [],
   "source": [
    "import pandas as pd\n",
    "from selenium import webdriver\n",
    "from selenium.common.exceptions import *\n",
    "from selenium.webdriver.common.keys import Keys\n",
    "from selenium.webdriver.common.action_chains import ActionChains\n",
    "from selenium.webdriver.support.ui import WebDriverWait\n",
    "from bs4 import BeautifulSoup\n",
    "import urllib\n",
    "import os\n",
    "import time"
   ]
  },
  {
   "cell_type": "markdown",
   "id": "09155839",
   "metadata": {},
   "source": [
    "### Q1) Write a python program which searches all the product under a particular product verticalfrom www.amazon.in. The product verticals to be searched will be taken as input from user.For e.g. If user input is ‘guitar’. Then search for guitars."
   ]
  },
  {
   "cell_type": "code",
   "execution_count": 52,
   "id": "4ad2f0cc",
   "metadata": {},
   "outputs": [],
   "source": [
    "driver = webdriver.Chrome(r\"S:\\chromedriver_win32\\chromedriver.exe\")"
   ]
  },
  {
   "cell_type": "code",
   "execution_count": 3,
   "id": "6252495b",
   "metadata": {},
   "outputs": [
    {
     "name": "stdout",
     "output_type": "stream",
     "text": [
      "Please Enter the product you want to search: Guitar\n"
     ]
    }
   ],
   "source": [
    "driver.get('http://www.amazon.in/')\n",
    "search = driver.find_element_by_xpath(\"//input[@id='twotabsearchtextbox']\")\n",
    "time.sleep(2)\n",
    "search.clear()\n",
    "product = input(\"Please Enter the product you want to search: \")\n",
    "search.send_keys(product)\n",
    "btn = driver.find_element_by_xpath(\"//input[@id='nav-search-submit-button']\")\n",
    "btn.click()"
   ]
  },
  {
   "cell_type": "markdown",
   "id": "140b6bca",
   "metadata": {},
   "source": [
    "### Q2) In the above question, now scrape the following details of each product listed in first 3 pages of your search results and save it in a dataframe and csv. In case if any product vertical has less than 3 pages in search results then scrape all the products available under that product vertical. Details to be scraped are: \"Brand Name\", \"Name of the Product\", \"Rating\", \"No. of Ratings\", \"Price\", \"Return/Exchange\", \"Expected Delivery\", \"Availability\", \"Other Details\" and “Product URL”. In case, if any of the details are missing for any of the product then replace it by “-“. "
   ]
  },
  {
   "cell_type": "code",
   "execution_count": 4,
   "id": "969ad416",
   "metadata": {},
   "outputs": [
    {
     "name": "stdout",
     "output_type": "stream",
     "text": [
      "Enter the number of pages you want to scrape: 3\n"
     ]
    }
   ],
   "source": [
    "upper = int(input(\"Enter the number of pages you want to scrape: \"))\n",
    "upper = upper + 1"
   ]
  },
  {
   "cell_type": "code",
   "execution_count": 5,
   "id": "e3c73135",
   "metadata": {},
   "outputs": [],
   "source": [
    "Link = []"
   ]
  },
  {
   "cell_type": "code",
   "execution_count": 6,
   "id": "4b94bfcb",
   "metadata": {},
   "outputs": [],
   "source": [
    "def links():\n",
    "    for i in range(0,upper):\n",
    "        try:\n",
    "            link = driver.find_elements_by_xpath(\"//div[@class='a-section a-spacing-none a-spacing-top-small']/h2/a\")\n",
    "            for j in link:\n",
    "                Link.append(j.get_attribute('href'))\n",
    "            nxt = driver.find_element_by_xpath(\"//li[@class='a-last']\")\n",
    "            nxt.click()\n",
    "            time.sleep(5)\n",
    "        except NoSuchElementException as e:\n",
    "            print(\"There are no more pages for this product\")"
   ]
  },
  {
   "cell_type": "code",
   "execution_count": 7,
   "id": "ea31cd6f",
   "metadata": {},
   "outputs": [],
   "source": [
    "links()"
   ]
  },
  {
   "cell_type": "code",
   "execution_count": 8,
   "id": "b390b1a3",
   "metadata": {},
   "outputs": [],
   "source": [
    "Brand = []\n",
    "Name = []\n",
    "Price = []\n",
    "Return = []\n",
    "Expected=[]\n",
    "Avaliable = []\n",
    "More = []\n",
    "Ratings = []\n",
    "conv = []\n",
    "Rate = []\n",
    "Star = []"
   ]
  },
  {
   "cell_type": "code",
   "execution_count": 9,
   "id": "e901aca9",
   "metadata": {},
   "outputs": [],
   "source": [
    "def data():\n",
    "    for i in Link:\n",
    "        driver.get(i)\n",
    "        time.sleep(2)\n",
    "        br = driver.find_elements_by_xpath(\"//div[@class='a-expander-content a-expander-section-content a-section-expander-inner']/table/tbody/tr/td\")\n",
    "        for j in br:\n",
    "            Brand.append(j.text)\n",
    "        name = driver.find_elements_by_xpath(\"//span[@id='productTitle']\")\n",
    "        for k in name:\n",
    "            Name.append(k.text)\n",
    "        price = driver.find_elements_by_xpath(\"//span[@id='priceblock_ourprice']\")\n",
    "        for l in price:\n",
    "            Price.append(l.text)\n",
    "        ret = driver.find_elements_by_xpath(\"//a[@class='a-size-small a-link-normal a-text-normal']\")\n",
    "        for m in ret:\n",
    "            Return.append(m.text)\n",
    "        expect = driver.find_elements_by_xpath(\"//div[@id='ddmDeliveryMessage']/b\")\n",
    "        for n in expect:\n",
    "            Expected.append(n.text)\n",
    "        avaliable = driver.find_elements_by_xpath(\"//div[@id='availability']/span\")\n",
    "        for o in avaliable:\n",
    "            Avaliable.append(o.text)\n",
    "        more = driver.find_elements_by_xpath(\"//div[@id='feature-bullets']/ul\")\n",
    "        for p in more:\n",
    "            More.append(p.text)\n",
    "        ratings = driver.find_elements_by_xpath(\"//td[@class='a-size-base']\")\n",
    "        for q in ratings:\n",
    "            Ratings.append(q.text)\n",
    "        for r in Ratings:\n",
    "            conv.append(r.replace(\"\\n\", \" \"))\n",
    "        for s in conv:\n",
    "            Rate.append(s.split()[0])\n",
    "            Star.append(s.split()[2])\n",
    "        \n",
    "driver.get('https://www.amazon.in/')"
   ]
  },
  {
   "cell_type": "code",
   "execution_count": 10,
   "id": "1a7c1df4",
   "metadata": {},
   "outputs": [],
   "source": [
    "data()"
   ]
  },
  {
   "cell_type": "code",
   "execution_count": 11,
   "id": "333e5a51",
   "metadata": {},
   "outputs": [],
   "source": [
    "data = {\n",
    "    'Brand':Brand,\n",
    "    'Name of Product as per website':Name,\n",
    "    'Ratings':Rate,\n",
    "    'Stars':Star,\n",
    "    'Price':Price,\n",
    "    'Return/Exchange Time':Return,\n",
    "    'Expected Delivery': Expected,\n",
    "    'Avaliability':Avaliable,\n",
    "    'Other Details':More,\n",
    "    'Product Link':Link\n",
    "}"
   ]
  },
  {
   "cell_type": "code",
   "execution_count": 12,
   "id": "15352012",
   "metadata": {},
   "outputs": [],
   "source": [
    "Amazon = pd.DataFrame.from_dict(data, orient='index')"
   ]
  },
  {
   "cell_type": "code",
   "execution_count": 13,
   "id": "11461250",
   "metadata": {},
   "outputs": [],
   "source": [
    "Amazon = Amazon.transpose()"
   ]
  },
  {
   "cell_type": "code",
   "execution_count": 14,
   "id": "863164d0",
   "metadata": {},
   "outputs": [],
   "source": [
    "Amazon = Amazon.dropna(thresh=3)"
   ]
  },
  {
   "cell_type": "code",
   "execution_count": 15,
   "id": "872b27b7",
   "metadata": {},
   "outputs": [],
   "source": [
    "Amazon = Amazon.fillna('-')"
   ]
  },
  {
   "cell_type": "code",
   "execution_count": 16,
   "id": "29e339ca",
   "metadata": {},
   "outputs": [],
   "source": [
    "Amazon.to_csv(\"Amazon.csv\", encoding='utf-8', header='Amazon Data')"
   ]
  },
  {
   "cell_type": "markdown",
   "id": "73cbfeec",
   "metadata": {},
   "source": [
    "### Q3) Write a python program to access the search bar and search button on images.google.com and scrape 100 images each for keywords ‘fruits’, ‘cars’ and ‘Machine Learning’."
   ]
  },
  {
   "cell_type": "code",
   "execution_count": 17,
   "id": "61929171",
   "metadata": {},
   "outputs": [],
   "source": [
    "def search():\n",
    "    driver.get(\"https://images.google.com/\")\n",
    "    product = input(\"Enter the name of the thing you want to search: \")\n",
    "    search = driver.find_element_by_xpath(\"//input[@class='gLFyf gsfi']\")\n",
    "    search.send_keys(product)\n",
    "    btn = driver.find_element_by_xpath(\"//button[@class='Tg7LZd']\")\n",
    "    btn.click()"
   ]
  },
  {
   "cell_type": "code",
   "execution_count": 18,
   "id": "e3126a4b",
   "metadata": {},
   "outputs": [],
   "source": [
    "def download(j):\n",
    "    last_height = driver.execute_script('return document.body.scrollHeight')\n",
    "    while True:\n",
    "        driver.execute_script('window.scrollTo(0,document.body.scrollHeight)')\n",
    "        time.sleep(2)\n",
    "        new_height = driver.execute_script('return document.body.scrollHeight')\n",
    "        try:\n",
    "            driver.find_element_by_xpath('//*[@id=\"islmp\"]/div/div/div/div/div[5]/input').click()\n",
    "            time.sleep(2)\n",
    "        except:\n",
    "            pass\n",
    "        if new_height == last_height:\n",
    "            break\n",
    "        last_height = new_height\n",
    "        \n",
    "    \n",
    "    for i in range(1,102):\n",
    "        try:\n",
    "            driver.find_element_by_xpath('//*[@id=\"islrg\"]/div[1]/div['+str(i)+']/a[1]/div[1]/img').screenshot('S:\\Data Science Projects\\Flip Robo\\Web_Scraping_3 ('+str(i)+str(j)+').png')\n",
    "        except:\n",
    "            pass"
   ]
  },
  {
   "cell_type": "code",
   "execution_count": 19,
   "id": "c3b00d61",
   "metadata": {},
   "outputs": [
    {
     "name": "stdout",
     "output_type": "stream",
     "text": [
      "How many image topic you want to scrape: 3\n",
      "Enter the name of the file: Fruits\n",
      "Enter the name of the thing you want to search: Fruits\n",
      "Enter the name of the file: Cars\n",
      "Enter the name of the thing you want to search: Cars\n",
      "Enter the name of the file: Machine Learning\n",
      "Enter the name of the thing you want to search: Machine Learning\n"
     ]
    }
   ],
   "source": [
    "upper = int(input(\"How many image topic you want to scrape: \"))\n",
    "upper = upper + 1\n",
    "for i in range(1,upper):\n",
    "    j = input(\"Enter the name of the file: \")\n",
    "    search()\n",
    "    download(j)"
   ]
  },
  {
   "cell_type": "markdown",
   "id": "fcdb51b3",
   "metadata": {},
   "source": [
    "### Q4) Write a python program to search for a smartphone(e.g.: Oneplus Nord, pixel 4A, etc.) onwww.flipkart.com and scrape following details for all the search results displayed on 1st page.Details to be scraped: “Brand Name”, “Smartphone name”, “Colour”, “RAM”,“Storage(ROM)”, “Primary Camera”, “Secondary Camera”, “Display Size”, “DisplayResolution”, “Processor”, “Processor Cores”, “Battery Capacity”, “Price”, “Product URL”.Incase if any of the details is missing then replace it by “- “. Save your results in a dataframe and CSV"
   ]
  },
  {
   "cell_type": "code",
   "execution_count": 53,
   "id": "02d6f551",
   "metadata": {},
   "outputs": [],
   "source": [
    "driver.get(\"http://www.flipkart.com/\")"
   ]
  },
  {
   "cell_type": "code",
   "execution_count": 54,
   "id": "88062633",
   "metadata": {},
   "outputs": [],
   "source": [
    "close = driver.find_element_by_xpath(\"//button[@class='_2KpZ6l _2doB4z']\")\n",
    "close.click()"
   ]
  },
  {
   "cell_type": "code",
   "execution_count": 55,
   "id": "c9504a04",
   "metadata": {},
   "outputs": [
    {
     "name": "stdout",
     "output_type": "stream",
     "text": [
      "Enter the Product name you want to scrape: Samsung\n"
     ]
    }
   ],
   "source": [
    "product = input(\"Enter the Product name you want to scrape: \")\n",
    "search = driver.find_element_by_xpath(\"//div[@class='_3OO5Xc']/input\")\n",
    "search.clear()\n",
    "search.send_keys(product)\n",
    "btn = driver.find_element_by_xpath(\"//button[@class='L0Z3Pu']\")\n",
    "btn.click()"
   ]
  },
  {
   "cell_type": "code",
   "execution_count": 69,
   "id": "a58015b5",
   "metadata": {},
   "outputs": [],
   "source": [
    "Link = []"
   ]
  },
  {
   "cell_type": "code",
   "execution_count": 70,
   "id": "708c0734",
   "metadata": {},
   "outputs": [],
   "source": [
    "def links():\n",
    "    link = driver.find_elements_by_xpath(\"//div[@class='_2kHMtA']/a\")\n",
    "    for i in link:\n",
    "        Link.append(i.get_attribute('href'))"
   ]
  },
  {
   "cell_type": "code",
   "execution_count": 71,
   "id": "83605d1f",
   "metadata": {},
   "outputs": [],
   "source": [
    "links()"
   ]
  },
  {
   "cell_type": "code",
   "execution_count": 72,
   "id": "498c8b74",
   "metadata": {},
   "outputs": [],
   "source": [
    "MobileName = []\n",
    "Price = []\n",
    "Box = []\n",
    "ModelNo = []\n",
    "Modelname = []\n",
    "Colour = []\n",
    "Simtype = []\n",
    "TouchScreen = []\n",
    "OTG = []\n",
    "QuickCharging = []\n",
    "DisplaySize = []\n",
    "Resolution = []\n",
    "ResolutionType = []\n",
    "GPU = []\n",
    "OS = []\n",
    "Processor = []\n",
    "Core = []\n",
    "PrimaryClock = []\n",
    "SecondaryClock = []\n",
    "InternalStorage = []\n",
    "RAM = []\n",
    "PrimaryCamera = []\n",
    "SecondaryCamera = []\n",
    "BatteryCapacity = []\n",
    "BatteryType = []"
   ]
  },
  {
   "cell_type": "code",
   "execution_count": 73,
   "id": "6cbbca16",
   "metadata": {},
   "outputs": [],
   "source": [
    "def data():\n",
    "    for i in Link:\n",
    "        driver.get(i)\n",
    "        time.sleep(2)\n",
    "        try:\n",
    "            btn = driver.find_element_by_xpath(\"//button[@class='_2KpZ6l _1FH0tX']\")\n",
    "            btn.click()\n",
    "            time.sleep(3)\n",
    "            price = driver.find_element_by_xpath(\"//div[@class='_30jeq3 _16Jk6d']\")\n",
    "            Price.append(price.text)\n",
    "            mobilename = driver.find_element_by_xpath(\"//span[@class='B_NuCI']\")\n",
    "            MobileName.append(mobilename.text)\n",
    "            box = driver.find_element_by_xpath(\"//table[@class='_14cfVK']/tbody/tr[1]/td[2]\")\n",
    "            Box.append(box.text)\n",
    "            model = driver.find_element_by_xpath(\"//table[@class='_14cfVK']/tbody/tr[2]/td[2]\")\n",
    "            ModelNo.append(model.text)\n",
    "            mname = driver.find_element_by_xpath(\"//table[@class='_14cfVK']/tbody/tr[3]/td[2]\")\n",
    "            Modelname.append(mname.text)\n",
    "            colour = driver.find_element_by_xpath(\"//table[@class='_14cfVK']/tbody/tr[4]/td[2]\")\n",
    "            Colour.append(colour.text)\n",
    "            sim = driver.find_element_by_xpath(\"//table[@class='_14cfVK']/tbody/tr[6]/td[2]\")\n",
    "            Simtype.append(sim.text)\n",
    "            touch = driver.find_element_by_xpath(\"//table[@class='_14cfVK']/tbody/tr[8]/td[2]\")\n",
    "            TouchScreen.append(touch.text)\n",
    "            otg = driver.find_element_by_xpath(\"//table[@class='_14cfVK']/tbody/tr[9]/td[2]\")\n",
    "            OTG.append(otg.text)\n",
    "            quick = driver.find_element_by_xpath(\"//table[@class='_14cfVK']/tbody/tr[10]/td[2]\")\n",
    "            QuickCharging.append(quick.text)\n",
    "            display = driver.find_element_by_xpath(\"//div[@class='_1UhVsV']/div[2]/table/tbody/tr[1]/td[2]\")\n",
    "            DisplaySize.append(display.text)\n",
    "            resolution = driver.find_element_by_xpath(\"//div[@class='_1UhVsV']/div[2]/table/tbody/tr[2]/td[2]\")\n",
    "            Resolution.append(resolution.text)\n",
    "            resolutiontype = driver.find_element_by_xpath(\"//div[@class='_1UhVsV']/div[2]/table/tbody/tr[3]/td[2]\")\n",
    "            ResolutionType.append(resolutiontype.text)\n",
    "            gpu = driver.find_element_by_xpath(\"//div[@class='_1UhVsV']/div[2]/table/tbody/tr[4]/td[2]\")\n",
    "            GPU.append(gpu.text)\n",
    "            os = driver.find_element_by_xpath(\"//div[@class='_1UhVsV']/div[3]/table/tbody/tr[1]/td[2]\")\n",
    "            OS.append(os.text)\n",
    "            processor = driver.find_element_by_xpath(\"//div[@class='_1UhVsV']/div[3]/table/tbody/tr[2]/td[2]\")\n",
    "            Processor.append(processor.text)\n",
    "            core = driver.find_element_by_xpath(\"//div[@class='_1UhVsV']/div[3]/table/tbody/tr[3]/td[2]\")\n",
    "            Core.append(core.text)\n",
    "            primary = driver.find_element_by_xpath(\"//div[@class='_1UhVsV']/div[3]/table/tbody/tr[4]/td[2]\")\n",
    "            PrimaryClock.append(primary.text)\n",
    "            secondary = driver.find_element_by_xpath(\"//div[@class='_1UhVsV']/div[3]/table/tbody/tr[5]/td[2]\")\n",
    "            SecondaryClock.append(secondary.text)\n",
    "            internal = driver.find_element_by_xpath(\"//div[@class='_1UhVsV']/div[4]/table/tbody/tr[1]/td[2]\")\n",
    "            InternalStorage.append(internal.text)\n",
    "            ram = driver.find_element_by_xpath(\"//div[@class='_1UhVsV']/div[4]/table/tbody/tr[2]/td[2]\")\n",
    "            RAM.append(ram.text)\n",
    "            primarycamera = driver.find_element_by_xpath(\"//div[@class='_1UhVsV']/div[5]/table/tbody/tr[2]/td[2]\")\n",
    "            PrimaryCamera.append(primarycamera.text)\n",
    "            secondarycamera = driver.find_element_by_xpath(\"//div[@class='_1UhVsV']/div[5]/table/tbody/tr[6]/td[2]\")\n",
    "            SecondaryCamera.append(secondarycamera.text)\n",
    "            battery = driver.find_element_by_xpath(\"//div[@class='_1UhVsV']/div[10]/table/tbody/tr[1]/td[2]\")\n",
    "            BatteryCapacity.append(battery.text)\n",
    "            batterytype = driver.find_element_by_xpath(\"//div[@class='_1UhVsV']/div[10]/table/tbody/tr[2]/td[2]\")\n",
    "            BatteryType.append(batterytype.text)\n",
    "        except:\n",
    "            pass"
   ]
  },
  {
   "cell_type": "code",
   "execution_count": 74,
   "id": "4c71df0a",
   "metadata": {},
   "outputs": [],
   "source": [
    "data()"
   ]
  },
  {
   "cell_type": "code",
   "execution_count": 75,
   "id": "01f693f3",
   "metadata": {},
   "outputs": [],
   "source": [
    "info = {\n",
    "    'Mobile Name':MobileName,\n",
    "    'Price':Price,\n",
    "    'Inside the box':Box,\n",
    "    'Model Number': ModelNo,\n",
    "    'Model Name': Modelname,\n",
    "    'Colour': Colour,\n",
    "    'Sim Type': Simtype,\n",
    "    'Touch Screen': TouchScreen,\n",
    "    'OTG': OTG,\n",
    "    'Quick Charging': QuickCharging,\n",
    "    'Display Size': DisplaySize,\n",
    "    'Resolution': Resolution,\n",
    "    'Resolution Type': ResolutionType,\n",
    "    'GPU': GPU,\n",
    "    'OS':OS,\n",
    "    'Processor': Processor,\n",
    "    'Core': Core,\n",
    "    'Primary Clock Speed' : PrimaryClock,\n",
    "    'Secondary Clock Speed': SecondaryClock,\n",
    "    'Internal Storage': InternalStorage,\n",
    "    'RAM': RAM,\n",
    "    'Primary Camera': PrimaryCamera,\n",
    "    'Ssecondary Camera': SecondaryCamera,\n",
    "    'Battery Capacity': BatteryCapacity,\n",
    "    'Battery Type': BatteryType\n",
    "}"
   ]
  },
  {
   "cell_type": "code",
   "execution_count": 76,
   "id": "d2f8dc09",
   "metadata": {},
   "outputs": [],
   "source": [
    "Mobile = pd.DataFrame.from_dict(info, orient='index').transpose()"
   ]
  },
  {
   "cell_type": "code",
   "execution_count": 77,
   "id": "f200efb6",
   "metadata": {},
   "outputs": [],
   "source": [
    "Mobile.fillna(\"-\", inplace = True)"
   ]
  },
  {
   "cell_type": "code",
   "execution_count": 79,
   "id": "ff15d042",
   "metadata": {},
   "outputs": [],
   "source": [
    "Mobile.to_csv(\"Flipkart.csv\", encoding='utf-8', header='Mobile')"
   ]
  },
  {
   "cell_type": "markdown",
   "id": "94dcbc10",
   "metadata": {},
   "source": [
    "### Q5) Write a program to scrap geospatial coordinates (latitude, longitude) of a city searched on google maps. "
   ]
  },
  {
   "cell_type": "code",
   "execution_count": 80,
   "id": "9451aa54",
   "metadata": {},
   "outputs": [],
   "source": [
    "driver.get(\"https://www.google.com/maps\")"
   ]
  },
  {
   "cell_type": "code",
   "execution_count": 81,
   "id": "1da5f6c7",
   "metadata": {},
   "outputs": [],
   "source": [
    "def city():\n",
    "    cityname = input(\"Enter the city for scraping the coordinates: \")\n",
    "    search = driver.find_element_by_xpath(\"//div[@id='gs_lc50']/input[1]\")\n",
    "    search.clear()\n",
    "    search.send_keys(cityname)\n",
    "    btn = driver.find_element_by_xpath(\"//button[@id='searchbox-searchbutton']\")\n",
    "    btn.click()"
   ]
  },
  {
   "cell_type": "code",
   "execution_count": 82,
   "id": "67cf6086",
   "metadata": {},
   "outputs": [],
   "source": [
    "Latitude = []\n",
    "Longitude = []\n",
    "current = []"
   ]
  },
  {
   "cell_type": "code",
   "execution_count": 83,
   "id": "8e232b0f",
   "metadata": {},
   "outputs": [],
   "source": [
    "def geo():\n",
    "    current = driver.current_url\n",
    "    half = current.split(\"@\")[1]\n",
    "    Latitude.append(half.split(\",\")[0])\n",
    "    Longitude.append(half.split(\",\")[1])\n",
    "    print(\"Latitude of searched city is: \",Latitude)\n",
    "    print(\"Longitude of Searched city is: \", Longitude)"
   ]
  },
  {
   "cell_type": "code",
   "execution_count": 84,
   "id": "328cb19c",
   "metadata": {},
   "outputs": [
    {
     "name": "stdout",
     "output_type": "stream",
     "text": [
      "Enter the city for scraping the coordinates: Delhi\n"
     ]
    }
   ],
   "source": [
    "city()"
   ]
  },
  {
   "cell_type": "code",
   "execution_count": 85,
   "id": "b04fc3a4",
   "metadata": {},
   "outputs": [
    {
     "name": "stdout",
     "output_type": "stream",
     "text": [
      "Latitude of searched city is:  ['18.8154265']\n",
      "Longitude of Searched city is:  ['76.7751434']\n"
     ]
    }
   ],
   "source": [
    "geo()"
   ]
  },
  {
   "cell_type": "markdown",
   "id": "6ba834fb",
   "metadata": {},
   "source": [
    "###  Q6) Write a program to scrap details of all the funding deals for second quarter (i.e. July 20 – September 20) from trak.in."
   ]
  },
  {
   "cell_type": "code",
   "execution_count": 86,
   "id": "35b06fbe",
   "metadata": {},
   "outputs": [],
   "source": [
    "driver.get(\"https://trak.in/\")"
   ]
  },
  {
   "cell_type": "code",
   "execution_count": 87,
   "id": "34fc2bdf",
   "metadata": {},
   "outputs": [],
   "source": [
    "fd = driver.find_element_by_xpath(\"//li[@id='menu-item-51510']\")\n",
    "fd.click()"
   ]
  },
  {
   "cell_type": "code",
   "execution_count": 88,
   "id": "9bd25246",
   "metadata": {},
   "outputs": [],
   "source": [
    "Date  =[]\n",
    "date = driver.find_elements_by_xpath(\"//table[@id='tablepress-48']/tbody/tr/td[2]\")\n",
    "for i in date:\n",
    "    Date.append(i.text)"
   ]
  },
  {
   "cell_type": "code",
   "execution_count": 89,
   "id": "90c54056",
   "metadata": {},
   "outputs": [],
   "source": [
    "StartupName = []\n",
    "start = driver.find_elements_by_xpath(\"//table[@id='tablepress-48']/tbody/tr/td[3]\")\n",
    "for i in start:\n",
    "    StartupName.append(i.text)"
   ]
  },
  {
   "cell_type": "code",
   "execution_count": 90,
   "id": "3efea112",
   "metadata": {},
   "outputs": [],
   "source": [
    "Industry = []\n",
    "industry = driver.find_elements_by_xpath(\"//table[@id='tablepress-48']/tbody/tr/td[4]\")\n",
    "for i in industry:\n",
    "    Industry.append(i.text)"
   ]
  },
  {
   "cell_type": "code",
   "execution_count": 91,
   "id": "f1a87aed",
   "metadata": {},
   "outputs": [],
   "source": [
    "Sub = []\n",
    "sub = driver.find_elements_by_xpath(\"//table[@id='tablepress-48']/tbody/tr/td[5]\")\n",
    "for i in sub:\n",
    "    Sub.append(i.text)"
   ]
  },
  {
   "cell_type": "code",
   "execution_count": 92,
   "id": "29718dd3",
   "metadata": {},
   "outputs": [],
   "source": [
    "City = []\n",
    "city = driver.find_elements_by_xpath(\"//table[@id='tablepress-48']/tbody/tr/td[6]\")\n",
    "for i in city:\n",
    "    City.append(i.text)"
   ]
  },
  {
   "cell_type": "code",
   "execution_count": 93,
   "id": "56ba1996",
   "metadata": {},
   "outputs": [],
   "source": [
    "Investors = []\n",
    "investor = driver.find_elements_by_xpath(\"//table[@id='tablepress-48']/tbody/tr/td[7]\")\n",
    "for i in investor:\n",
    "    Investors.append(i.text)"
   ]
  },
  {
   "cell_type": "code",
   "execution_count": 94,
   "id": "817a4208",
   "metadata": {},
   "outputs": [],
   "source": [
    "InvType = []\n",
    "inv = driver.find_elements_by_xpath(\"//table[@id='tablepress-48']/tbody/tr/td[8]\")\n",
    "for i in inv:\n",
    "    InvType.append(i.text)"
   ]
  },
  {
   "cell_type": "code",
   "execution_count": 95,
   "id": "16315a0a",
   "metadata": {},
   "outputs": [],
   "source": [
    "Amount = []\n",
    "amount = driver.find_elements_by_xpath(\"//table[@id='tablepress-48']/tbody/tr/td[9]\")\n",
    "for i in amount:\n",
    "    Amount.append(i.text)"
   ]
  },
  {
   "cell_type": "code",
   "execution_count": 96,
   "id": "7ead9497",
   "metadata": {},
   "outputs": [],
   "source": [
    "data = {\n",
    "    'Date':Date,\n",
    "    'Start-Up Name': StartupName,\n",
    "    'Industry': Industry,\n",
    "    'Sub Industry' : Sub,\n",
    "    'City' : City,\n",
    "    'Investors' : Investors,\n",
    "    'Investment Type': InvType,\n",
    "    'Amount' : Amount\n",
    "}"
   ]
  },
  {
   "cell_type": "code",
   "execution_count": 97,
   "id": "cf0adf5e",
   "metadata": {},
   "outputs": [],
   "source": [
    "July20 = pd.DataFrame.from_dict(data)"
   ]
  },
  {
   "cell_type": "code",
   "execution_count": 98,
   "id": "e8803feb",
   "metadata": {},
   "outputs": [],
   "source": [
    "Date  =[]\n",
    "date = driver.find_elements_by_xpath(\"//table[@id='tablepress-49']/tbody/tr/td[2]\")\n",
    "for i in date:\n",
    "    Date.append(i.text)"
   ]
  },
  {
   "cell_type": "code",
   "execution_count": 99,
   "id": "3070807e",
   "metadata": {},
   "outputs": [],
   "source": [
    "StartupName = []\n",
    "start = driver.find_elements_by_xpath(\"//table[@id='tablepress-49']/tbody/tr/td[3]\")\n",
    "for i in start:\n",
    "    StartupName.append(i.text)"
   ]
  },
  {
   "cell_type": "code",
   "execution_count": 100,
   "id": "44fcbef2",
   "metadata": {},
   "outputs": [],
   "source": [
    "Industry = []\n",
    "industry = driver.find_elements_by_xpath(\"//table[@id='tablepress-49']/tbody/tr/td[4]\")\n",
    "for i in industry:\n",
    "    Industry.append(i.text)"
   ]
  },
  {
   "cell_type": "code",
   "execution_count": 101,
   "id": "32812343",
   "metadata": {},
   "outputs": [],
   "source": [
    "Sub = []\n",
    "sub = driver.find_elements_by_xpath(\"//table[@id='tablepress-49']/tbody/tr/td[5]\")\n",
    "for i in sub:\n",
    "    Sub.append(i.text)"
   ]
  },
  {
   "cell_type": "code",
   "execution_count": 102,
   "id": "39203352",
   "metadata": {},
   "outputs": [],
   "source": [
    "City = []\n",
    "city = driver.find_elements_by_xpath(\"//table[@id='tablepress-49']/tbody/tr/td[6]\")\n",
    "for i in city:\n",
    "    City.append(i.text)"
   ]
  },
  {
   "cell_type": "code",
   "execution_count": 103,
   "id": "838730e1",
   "metadata": {},
   "outputs": [],
   "source": [
    "Investors = []\n",
    "investor = driver.find_elements_by_xpath(\"//table[@id='tablepress-49']/tbody/tr/td[7]\")\n",
    "for i in investor:\n",
    "    Investors.append(i.text)"
   ]
  },
  {
   "cell_type": "code",
   "execution_count": 104,
   "id": "8468b2fc",
   "metadata": {},
   "outputs": [],
   "source": [
    "InvType = []\n",
    "inv = driver.find_elements_by_xpath(\"//table[@id='tablepress-49']/tbody/tr/td[8]\")\n",
    "for i in inv:\n",
    "    InvType.append(i.text)"
   ]
  },
  {
   "cell_type": "code",
   "execution_count": 105,
   "id": "bf6c3549",
   "metadata": {},
   "outputs": [],
   "source": [
    "Amount = []\n",
    "amount = driver.find_elements_by_xpath(\"//table[@id='tablepress-49']/tbody/tr/td[9]\")\n",
    "for i in amount:\n",
    "    Amount.append(i.text)"
   ]
  },
  {
   "cell_type": "code",
   "execution_count": 106,
   "id": "2c1b9b8e",
   "metadata": {},
   "outputs": [],
   "source": [
    "data = {\n",
    "    'Date':Date,\n",
    "    'Start-Up Name': StartupName,\n",
    "    'Industry': Industry,\n",
    "    'Sub Industry' : Sub,\n",
    "    'City' : City,\n",
    "    'Investors' : Investors,\n",
    "    'Investment Type': InvType,\n",
    "    'Amount' : Amount\n",
    "}"
   ]
  },
  {
   "cell_type": "code",
   "execution_count": 107,
   "id": "9ffbd489",
   "metadata": {},
   "outputs": [],
   "source": [
    "August20 = pd.DataFrame.from_dict(data)"
   ]
  },
  {
   "cell_type": "code",
   "execution_count": 108,
   "id": "3c79bca9",
   "metadata": {},
   "outputs": [],
   "source": [
    "Date  =[]\n",
    "date = driver.find_elements_by_xpath(\"//table[@id='tablepress-50']/tbody/tr/td[2]\")\n",
    "for i in date:\n",
    "    Date.append(i.text)"
   ]
  },
  {
   "cell_type": "code",
   "execution_count": 109,
   "id": "14a7949b",
   "metadata": {},
   "outputs": [],
   "source": [
    "StartupName = []\n",
    "start = driver.find_elements_by_xpath(\"//table[@id='tablepress-50']/tbody/tr/td[3]\")\n",
    "for i in start:\n",
    "    StartupName.append(i.text)"
   ]
  },
  {
   "cell_type": "code",
   "execution_count": 110,
   "id": "b897f9e8",
   "metadata": {},
   "outputs": [],
   "source": [
    "Industry = []\n",
    "industry = driver.find_elements_by_xpath(\"//table[@id='tablepress-50']/tbody/tr/td[4]\")\n",
    "for i in industry:\n",
    "    Industry.append(i.text)"
   ]
  },
  {
   "cell_type": "code",
   "execution_count": 111,
   "id": "d6537c00",
   "metadata": {},
   "outputs": [],
   "source": [
    "Sub = []\n",
    "sub = driver.find_elements_by_xpath(\"//table[@id='tablepress-50']/tbody/tr/td[5]\")\n",
    "for i in sub:\n",
    "    Sub.append(i.text)"
   ]
  },
  {
   "cell_type": "code",
   "execution_count": 112,
   "id": "c534db85",
   "metadata": {},
   "outputs": [],
   "source": [
    "City = []\n",
    "city = driver.find_elements_by_xpath(\"//table[@id='tablepress-50']/tbody/tr/td[6]\")\n",
    "for i in city:\n",
    "    City.append(i.text)"
   ]
  },
  {
   "cell_type": "code",
   "execution_count": 113,
   "id": "14618e3f",
   "metadata": {},
   "outputs": [],
   "source": [
    "Investors = []\n",
    "investor = driver.find_elements_by_xpath(\"//table[@id='tablepress-49']/tbody/tr/td[7]\")\n",
    "for i in investor:\n",
    "    Investors.append(i.text)"
   ]
  },
  {
   "cell_type": "code",
   "execution_count": 114,
   "id": "1adaa925",
   "metadata": {},
   "outputs": [],
   "source": [
    "InvType = []\n",
    "inv = driver.find_elements_by_xpath(\"//table[@id='tablepress-50']/tbody/tr/td[8]\")\n",
    "for i in inv:\n",
    "    InvType.append(i.text)"
   ]
  },
  {
   "cell_type": "code",
   "execution_count": 115,
   "id": "26acfbc4",
   "metadata": {},
   "outputs": [],
   "source": [
    "Amount = []\n",
    "amount = driver.find_elements_by_xpath(\"//table[@id='tablepress-50']/tbody/tr/td[9]\")\n",
    "for i in amount:\n",
    "    Amount.append(i.text)"
   ]
  },
  {
   "cell_type": "code",
   "execution_count": 116,
   "id": "bd49bb5a",
   "metadata": {},
   "outputs": [],
   "source": [
    "data = {\n",
    "    'Date':Date,\n",
    "    'Start-Up Name': StartupName,\n",
    "    'Industry': Industry,\n",
    "    'Sub Industry' : Sub,\n",
    "    'City' : City,\n",
    "    'Investors' : Investors,\n",
    "    'Investment Type': InvType,\n",
    "    'Amount' : Amount\n",
    "}"
   ]
  },
  {
   "cell_type": "code",
   "execution_count": 117,
   "id": "59be31aa",
   "metadata": {},
   "outputs": [],
   "source": [
    "September20 = pd.DataFrame.from_dict(data)"
   ]
  },
  {
   "cell_type": "code",
   "execution_count": 118,
   "id": "af2281ef",
   "metadata": {},
   "outputs": [],
   "source": [
    "SecondQuater = July20.append(August20)"
   ]
  },
  {
   "cell_type": "code",
   "execution_count": 119,
   "id": "c9138aa6",
   "metadata": {},
   "outputs": [],
   "source": [
    "SecondQuater = SecondQuater.append(September20)"
   ]
  },
  {
   "cell_type": "code",
   "execution_count": 120,
   "id": "4d957c4f",
   "metadata": {},
   "outputs": [],
   "source": [
    "SecondQuater.to_csv(\"Funding Deals of 2nd Quater July 2020 - September 2020.csv\", encoding='utf-8', header='Funding Deals of 2nd Quater July 2020 - September 2020')"
   ]
  },
  {
   "cell_type": "markdown",
   "id": "da708fb2",
   "metadata": {},
   "source": [
    "### Q3) Write a program to scrap all the available details of top 10 gaming laptops from digit.in.  "
   ]
  },
  {
   "cell_type": "code",
   "execution_count": 121,
   "id": "6c832919",
   "metadata": {},
   "outputs": [],
   "source": [
    "driver.get(\"https://www.digit.in/\")"
   ]
  },
  {
   "cell_type": "code",
   "execution_count": 122,
   "id": "40f096c1",
   "metadata": {},
   "outputs": [],
   "source": [
    "top = driver.find_element_by_xpath(\"//div[@class='menu']/ul/li[4]\")\n",
    "top.click()\n",
    "laptop = driver.find_element_by_xpath(\"//div[@class='listing_container']/ul/li[26]\")\n",
    "laptop.click()"
   ]
  },
  {
   "cell_type": "code",
   "execution_count": 123,
   "id": "18b3e07f",
   "metadata": {},
   "outputs": [],
   "source": [
    "Laptop = []\n",
    "laptop = driver.find_elements_by_xpath(\"//div[@class='right-container']/div/a\")\n",
    "for i in laptop:\n",
    "    Laptop.append(i.text)"
   ]
  },
  {
   "cell_type": "code",
   "execution_count": 124,
   "id": "64a95e28",
   "metadata": {},
   "outputs": [],
   "source": [
    "Operating = []\n",
    "os = driver.find_elements_by_xpath(\"//div[@class='product-detail']/div/ul/li[1]\")\n",
    "for i in os:\n",
    "    Operating.append(i.text)"
   ]
  },
  {
   "cell_type": "code",
   "execution_count": 125,
   "id": "c5faa392",
   "metadata": {},
   "outputs": [],
   "source": [
    "Display = []\n",
    "display = driver.find_elements_by_xpath(\"//div[@class='product-detail']/div/ul/li[2]\")\n",
    "for i in display:\n",
    "    Display.append(i.text)"
   ]
  },
  {
   "cell_type": "code",
   "execution_count": 126,
   "id": "85cb0182",
   "metadata": {},
   "outputs": [],
   "source": [
    "Processor = []\n",
    "processor = driver.find_elements_by_xpath(\"//div[@class='product-detail']/div/ul/li[3]\")\n",
    "for i in processor:\n",
    "    Processor.append(i.text)"
   ]
  },
  {
   "cell_type": "code",
   "execution_count": 127,
   "id": "913ada06",
   "metadata": {},
   "outputs": [],
   "source": [
    "Memory = []\n",
    "memory = driver.find_elements_by_xpath(\"//div[@class='product-detail']/div/ul/li[4]\")\n",
    "for i in memory:\n",
    "    Memory.append(i.text)"
   ]
  },
  {
   "cell_type": "code",
   "execution_count": 128,
   "id": "d1fb09a5",
   "metadata": {},
   "outputs": [],
   "source": [
    "Weight = []\n",
    "weight = driver.find_elements_by_xpath(\"//div[@class='Spcs-details']/table/tbody/tr[7]\")\n",
    "for i in weight:\n",
    "    Weight.append(i.text)"
   ]
  },
  {
   "cell_type": "code",
   "execution_count": 129,
   "id": "340ba1e5",
   "metadata": {},
   "outputs": [],
   "source": [
    "Dimension = []\n",
    "dimension = driver.find_elements_by_xpath(\"//div[@class='Spcs-details']/table/tbody/tr[8]/td[3]\")\n",
    "for i in dimension:\n",
    "    Dimension.append(i.text)"
   ]
  },
  {
   "cell_type": "code",
   "execution_count": 130,
   "id": "1be5d73d",
   "metadata": {},
   "outputs": [],
   "source": [
    "Graphics = []\n",
    "graphics = driver.find_elements_by_xpath(\"//div[@class='Spcs-details']/table/tbody/tr[9]/td[3]\")\n",
    "for i in graphics:\n",
    "    Graphics.append(i.text)"
   ]
  },
  {
   "cell_type": "code",
   "execution_count": 131,
   "id": "5a5223bd",
   "metadata": {},
   "outputs": [],
   "source": [
    "Description = []\n",
    "description = driver.find_elements_by_xpath(\"//div[@class='Section-center']/p\")\n",
    "for i in description:\n",
    "    Description.append(i.text)"
   ]
  },
  {
   "cell_type": "code",
   "execution_count": 132,
   "id": "ce02f956",
   "metadata": {},
   "outputs": [],
   "source": [
    "Links = []\n",
    "links = driver.find_elements_by_xpath(\"//div[@class='TopNumbeHeading sticky-footer']/a\")\n",
    "for i in links:\n",
    "    Links.append(i.get_attribute('href'))"
   ]
  },
  {
   "cell_type": "code",
   "execution_count": 133,
   "id": "05db57bc",
   "metadata": {},
   "outputs": [],
   "source": [
    "Gaming = {\n",
    "    'Name of Laptop' : Laptop,\n",
    "    'Operating' : Operating,\n",
    "    'Display' : Display,\n",
    "    'Processor' : Processor,\n",
    "    'Memory' : Memory, \n",
    "    'Weight' : Weight,\n",
    "    'Dimension' : Dimension,\n",
    "    'Graphics' : Graphics,\n",
    "    'Description' : Description,\n",
    "    'Product Link' : Links\n",
    "}"
   ]
  },
  {
   "cell_type": "code",
   "execution_count": 134,
   "id": "83f6b29d",
   "metadata": {},
   "outputs": [],
   "source": [
    "TopGaming  = pd.DataFrame.from_dict(Gaming, orient='index').transpose()"
   ]
  },
  {
   "cell_type": "code",
   "execution_count": 135,
   "id": "a2a33de7",
   "metadata": {},
   "outputs": [],
   "source": [
    "TopGaming.fillna(\"-\", inplace=True)"
   ]
  },
  {
   "cell_type": "code",
   "execution_count": 136,
   "id": "35398cb1",
   "metadata": {},
   "outputs": [],
   "source": [
    "TopGaming.to_csv(\"Topgaming.csv\", encoding='utf-8', header='Top Gaming Laptop')"
   ]
  }
 ],
 "metadata": {
  "kernelspec": {
   "display_name": "Python 3",
   "language": "python",
   "name": "python3"
  },
  "language_info": {
   "codemirror_mode": {
    "name": "ipython",
    "version": 3
   },
   "file_extension": ".py",
   "mimetype": "text/x-python",
   "name": "python",
   "nbconvert_exporter": "python",
   "pygments_lexer": "ipython3",
   "version": "3.8.8"
  }
 },
 "nbformat": 4,
 "nbformat_minor": 5
}
