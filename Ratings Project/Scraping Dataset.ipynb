{
 "cells": [
  {
   "cell_type": "code",
   "execution_count": 1,
   "id": "b3d372b6",
   "metadata": {},
   "outputs": [],
   "source": [
    "import pandas as pd\n",
    "from selenium import webdriver\n",
    "from selenium.common.exceptions import *\n",
    "from selenium.webdriver.common.action_chains import ActionChains\n",
    "import time\n",
    "import seaborn as sns\n",
    "import glob\n",
    "from sklearn.utils import shuffle"
   ]
  },
  {
   "cell_type": "code",
   "execution_count": 2,
   "id": "bde05864",
   "metadata": {},
   "outputs": [],
   "source": [
    "driver = webdriver.Chrome(r\"S:\\chromedriver_win32\\chromedriver.exe\")"
   ]
  },
  {
   "cell_type": "markdown",
   "id": "8aa1b2e2",
   "metadata": {},
   "source": [
    "## Flipkart"
   ]
  },
  {
   "cell_type": "code",
   "execution_count": 3,
   "id": "cbbde3b5",
   "metadata": {},
   "outputs": [],
   "source": [
    "def flipkart():\n",
    "    driver.get(\"https://www.flipkart.com/\")\n",
    "    close = driver.find_element_by_xpath(\"//button[@class='_2KpZ6l _2doB4z']\")\n",
    "    close.click()\n",
    "    search = driver.find_element_by_xpath(\"//div[@class='_3OO5Xc']/input\")\n",
    "    search.clear()\n",
    "    product = input(\"Please enter the name of the product: \")\n",
    "    search.send_keys(product)\n",
    "    btn = driver.find_element_by_xpath(\"//button[@class='L0Z3Pu']\")\n",
    "    btn.click()\n",
    "    time.sleep(2)"
   ]
  },
  {
   "cell_type": "code",
   "execution_count": 4,
   "id": "79718ce0",
   "metadata": {},
   "outputs": [],
   "source": [
    "def morevertical():\n",
    "    try:\n",
    "        enter = driver.find_element_by_xpath(\"//div[@class='col col-7-12']\")\n",
    "        enter.click()\n",
    "        driver.switch_to_window(driver.window_handles[1])\n",
    "        more = driver.find_element_by_xpath(\"//div[@class='_3UAT2v _16PBlm']\")\n",
    "        more.click()\n",
    "    except:\n",
    "        pass"
   ]
  },
  {
   "cell_type": "code",
   "execution_count": 101,
   "id": "5470e772",
   "metadata": {},
   "outputs": [],
   "source": [
    "def Scrape1(pages):\n",
    "    try:\n",
    "        for i in range(0,pages+1):\n",
    "            link = driver.find_elements_by_class_name(\"_1BWGvX\")\n",
    "            for i in link:\n",
    "                ActionChains(driver).move_to_element(i).perform()\n",
    "                i.click()\n",
    "                time.sleep(5)\n",
    "            short = driver.find_elements_by_xpath(\"//p[@class='_2-N8zT']\")\n",
    "            for j in short:\n",
    "                Short1.append(j.text)\n",
    "            long = driver.find_elements_by_xpath(\"//div[@class='t-ZTKy']/div/div\")\n",
    "            for k in long:\n",
    "                Long1.append(k.text)\n",
    "            rating = driver.find_elements_by_xpath(\"//div[@class='_3LWZlK _1rdVr6 _1BLPMq']\")\n",
    "            for l in rating:\n",
    "                Rating1.append(l.text)\n",
    "            nxt = driver.find_element_by_link_text(\"NEXT\")\n",
    "            nxt.click()\n",
    "            time.sleep(4)\n",
    "    except:\n",
    "        pass"
   ]
  },
  {
   "cell_type": "code",
   "execution_count": 102,
   "id": "0bec3844",
   "metadata": {},
   "outputs": [],
   "source": [
    "def Scrape2(pages):\n",
    "    try:\n",
    "        for i in range(0,pages+1):\n",
    "            link = driver.find_elements_by_class_name(\"_1BWGvX\")\n",
    "            for i in link:\n",
    "                ActionChains(driver).move_to_element(i).perform()\n",
    "                i.click()\n",
    "                time.sleep(5)\n",
    "            short = driver.find_elements_by_xpath(\"//p[@class='_2-N8zT']\")\n",
    "            for j in short:\n",
    "                Short2.append(j.text)\n",
    "            long = driver.find_elements_by_xpath(\"//div[@class='t-ZTKy']/div/div\")\n",
    "            for k in long:\n",
    "                Long2.append(k.text)\n",
    "            rating = driver.find_elements_by_xpath(\"//div[@class='_3LWZlK _32lA32 _1BLPMq']\")\n",
    "            for l in rating:\n",
    "                Rating2.append(l.text)\n",
    "            nxt = driver.find_element_by_link_text(\"NEXT\")\n",
    "            nxt.click()\n",
    "            time.sleep(4)\n",
    "    except:\n",
    "        pass"
   ]
  },
  {
   "cell_type": "code",
   "execution_count": 103,
   "id": "799a2c50",
   "metadata": {},
   "outputs": [],
   "source": [
    "def Scrape(pages):\n",
    "    try:\n",
    "        for i in range(0,pages+1):\n",
    "            link = driver.find_elements_by_class_name(\"_1BWGvX\")\n",
    "            for i in link:\n",
    "                ActionChains(driver).move_to_element(i).perform()\n",
    "                i.click()\n",
    "                time.sleep(5)\n",
    "            short = driver.find_elements_by_xpath(\"//p[@class='_2-N8zT']\")\n",
    "            for j in short:\n",
    "                Short.append(j.text)\n",
    "            long = driver.find_elements_by_xpath(\"//div[@class='t-ZTKy']/div/div\")\n",
    "            for k in long:\n",
    "                Long.append(k.text)\n",
    "            rating = driver.find_elements_by_xpath(\"//div[@class='_3LWZlK _1BLPMq']\")\n",
    "            for l in rating:\n",
    "                Rating.append(l.text)\n",
    "            nxt = driver.find_element_by_link_text(\"NEXT\")\n",
    "            nxt.click()\n",
    "            time.sleep(4)\n",
    "    except:\n",
    "        pass"
   ]
  },
  {
   "cell_type": "code",
   "execution_count": 8,
   "id": "9729457b",
   "metadata": {},
   "outputs": [],
   "source": [
    "def morehorizontal():\n",
    "    try:\n",
    "        enter = driver.find_element_by_xpath(\"//a[@class='s1Q9rs']\")\n",
    "        enter.click()\n",
    "        driver.switch_to_window(driver.window_handles[1])\n",
    "        more = driver.find_element_by_xpath(\"//div[@class='_3UAT2v _16PBlm']\")\n",
    "        more.click()\n",
    "    except:\n",
    "        pass"
   ]
  },
  {
   "cell_type": "markdown",
   "id": "7478b029",
   "metadata": {},
   "source": [
    "# Amazon"
   ]
  },
  {
   "cell_type": "code",
   "execution_count": 9,
   "id": "43bf9ce5",
   "metadata": {},
   "outputs": [],
   "source": [
    "def amazon():\n",
    "    driver.get(\"https://www.amazon.in/\")\n",
    "    product = input(\"Please enter a product name: \")\n",
    "    search = driver.find_element_by_xpath(\"//input[@id='twotabsearchtextbox']\")\n",
    "    search.clear()\n",
    "    search.send_keys(product)\n",
    "    btn = driver.find_element_by_xpath(\"//input[@id='nav-search-submit-button']\")\n",
    "    btn.click()\n",
    "    time.sleep(3)"
   ]
  },
  {
   "cell_type": "code",
   "execution_count": 10,
   "id": "4decbb77",
   "metadata": {},
   "outputs": [],
   "source": [
    "def reviews(pages):\n",
    "    try:\n",
    "        prod = driver.find_element_by_xpath(\"//span[@class='a-size-medium a-color-base a-text-normal']\")\n",
    "        prod.click()\n",
    "        time.sleep(2)\n",
    "        driver.switch_to_window(driver.window_handles[1])\n",
    "        driver.find_element_by_xpath(\"//a[@class='a-link-emphasis a-text-bold']\").click()\n",
    "        for i in range(0,pages+1):\n",
    "            short = driver.find_elements_by_xpath(\"//a[@class='a-size-base a-link-normal review-title a-color-base review-title-content a-text-bold']\")\n",
    "            for j in short:\n",
    "                Short.append(j.text)\n",
    "            long = driver.find_elements_by_xpath(\"//span[@class='a-size-base review-text review-text-content']\")\n",
    "            for k in long:\n",
    "                Long.append(k.text)\n",
    "            rating = driver.find_elements_by_xpath(\"//div[@class='a-row']/a[1]\")\n",
    "            for l in rating:\n",
    "                Rating.append(l.get_attribute('title'))\n",
    "            nxt = driver.find_element_by_xpath(\"//li[@class='a-last']\")\n",
    "            nxt.click()\n",
    "            time.sleep(6)\n",
    "        driver.close()\n",
    "    except:\n",
    "        pass\n",
    "    driver.switch_to_window(driver.window_handles[0])"
   ]
  },
  {
   "cell_type": "code",
   "execution_count": 24,
   "id": "bef55435",
   "metadata": {},
   "outputs": [
    {
     "name": "stdout",
     "output_type": "stream",
     "text": [
      "Please enter a product name: basshead 900\n"
     ]
    }
   ],
   "source": [
    "amazon()"
   ]
  },
  {
   "cell_type": "code",
   "execution_count": 25,
   "id": "70509a18",
   "metadata": {},
   "outputs": [],
   "source": [
    "Short = []\n",
    "Long = []\n",
    "Rating = []"
   ]
  },
  {
   "cell_type": "code",
   "execution_count": 26,
   "id": "8ffa6766",
   "metadata": {},
   "outputs": [
    {
     "name": "stderr",
     "output_type": "stream",
     "text": [
      "<ipython-input-10-f200a152fce2>:6: DeprecationWarning: use driver.switch_to.window instead\n",
      "  driver.switch_to_window(driver.window_handles[1])\n",
      "<ipython-input-10-f200a152fce2>:24: DeprecationWarning: use driver.switch_to.window instead\n",
      "  driver.switch_to_window(driver.window_handles[0])\n"
     ]
    }
   ],
   "source": [
    "reviews(100)"
   ]
  },
  {
   "cell_type": "code",
   "execution_count": 27,
   "id": "b213bd9d",
   "metadata": {},
   "outputs": [
    {
     "name": "stdout",
     "output_type": "stream",
     "text": [
      "Please enter a product name: readmi earbuds 2c\n"
     ]
    }
   ],
   "source": [
    "amazon()"
   ]
  },
  {
   "cell_type": "code",
   "execution_count": 28,
   "id": "cd26c114",
   "metadata": {},
   "outputs": [
    {
     "name": "stderr",
     "output_type": "stream",
     "text": [
      "<ipython-input-10-f200a152fce2>:6: DeprecationWarning: use driver.switch_to.window instead\n",
      "  driver.switch_to_window(driver.window_handles[1])\n",
      "<ipython-input-10-f200a152fce2>:24: DeprecationWarning: use driver.switch_to.window instead\n",
      "  driver.switch_to_window(driver.window_handles[0])\n"
     ]
    }
   ],
   "source": [
    "reviews(100)"
   ]
  },
  {
   "cell_type": "code",
   "execution_count": 29,
   "id": "a236dc56",
   "metadata": {},
   "outputs": [
    {
     "name": "stdout",
     "output_type": "stream",
     "text": [
      "Please enter a product name: iphone 11\n"
     ]
    }
   ],
   "source": [
    "amazon()"
   ]
  },
  {
   "cell_type": "code",
   "execution_count": 30,
   "id": "0f734634",
   "metadata": {},
   "outputs": [
    {
     "name": "stderr",
     "output_type": "stream",
     "text": [
      "<ipython-input-10-f200a152fce2>:6: DeprecationWarning: use driver.switch_to.window instead\n",
      "  driver.switch_to_window(driver.window_handles[1])\n",
      "<ipython-input-10-f200a152fce2>:24: DeprecationWarning: use driver.switch_to.window instead\n",
      "  driver.switch_to_window(driver.window_handles[0])\n"
     ]
    }
   ],
   "source": [
    "reviews(100)"
   ]
  },
  {
   "cell_type": "code",
   "execution_count": 31,
   "id": "e17cfaf1",
   "metadata": {},
   "outputs": [
    {
     "name": "stdout",
     "output_type": "stream",
     "text": [
      "Please enter a product name: HP deskjet 2331\n"
     ]
    }
   ],
   "source": [
    "amazon()"
   ]
  },
  {
   "cell_type": "code",
   "execution_count": 33,
   "id": "c0aa58b9",
   "metadata": {},
   "outputs": [
    {
     "name": "stderr",
     "output_type": "stream",
     "text": [
      "<ipython-input-10-f200a152fce2>:6: DeprecationWarning: use driver.switch_to.window instead\n",
      "  driver.switch_to_window(driver.window_handles[1])\n",
      "<ipython-input-10-f200a152fce2>:24: DeprecationWarning: use driver.switch_to.window instead\n",
      "  driver.switch_to_window(driver.window_handles[0])\n"
     ]
    }
   ],
   "source": [
    "reviews(100)"
   ]
  },
  {
   "cell_type": "code",
   "execution_count": 34,
   "id": "ee6c713a",
   "metadata": {},
   "outputs": [
    {
     "name": "stdout",
     "output_type": "stream",
     "text": [
      "Please enter a product name: sandisk ultra dual drive\n"
     ]
    }
   ],
   "source": [
    "amazon()"
   ]
  },
  {
   "cell_type": "code",
   "execution_count": 35,
   "id": "ee4eeb0c",
   "metadata": {},
   "outputs": [
    {
     "name": "stderr",
     "output_type": "stream",
     "text": [
      "<ipython-input-10-f200a152fce2>:6: DeprecationWarning: use driver.switch_to.window instead\n",
      "  driver.switch_to_window(driver.window_handles[1])\n",
      "<ipython-input-10-f200a152fce2>:24: DeprecationWarning: use driver.switch_to.window instead\n",
      "  driver.switch_to_window(driver.window_handles[0])\n"
     ]
    }
   ],
   "source": [
    "reviews(100)"
   ]
  },
  {
   "cell_type": "code",
   "execution_count": 37,
   "id": "f792e4a5",
   "metadata": {},
   "outputs": [
    {
     "name": "stdout",
     "output_type": "stream",
     "text": [
      "Please enter a product name: sandisk extream sd\n"
     ]
    }
   ],
   "source": [
    "amazon()"
   ]
  },
  {
   "cell_type": "code",
   "execution_count": 38,
   "id": "f8068cb2",
   "metadata": {},
   "outputs": [
    {
     "name": "stderr",
     "output_type": "stream",
     "text": [
      "<ipython-input-10-f200a152fce2>:6: DeprecationWarning: use driver.switch_to.window instead\n",
      "  driver.switch_to_window(driver.window_handles[1])\n",
      "<ipython-input-10-f200a152fce2>:24: DeprecationWarning: use driver.switch_to.window instead\n",
      "  driver.switch_to_window(driver.window_handles[0])\n"
     ]
    }
   ],
   "source": [
    "reviews(100)"
   ]
  },
  {
   "cell_type": "code",
   "execution_count": 39,
   "id": "b261d427",
   "metadata": {},
   "outputs": [
    {
     "data": {
      "text/plain": [
       "5922"
      ]
     },
     "execution_count": 39,
     "metadata": {},
     "output_type": "execute_result"
    }
   ],
   "source": [
    "len(Short)"
   ]
  },
  {
   "cell_type": "code",
   "execution_count": 41,
   "id": "2c6b14f0",
   "metadata": {},
   "outputs": [
    {
     "name": "stdout",
     "output_type": "stream",
     "text": [
      "Please enter a product name: prestige iris\n"
     ]
    }
   ],
   "source": [
    "amazon()"
   ]
  },
  {
   "cell_type": "code",
   "execution_count": 42,
   "id": "709ec173",
   "metadata": {},
   "outputs": [
    {
     "name": "stderr",
     "output_type": "stream",
     "text": [
      "<ipython-input-10-f200a152fce2>:6: DeprecationWarning: use driver.switch_to.window instead\n",
      "  driver.switch_to_window(driver.window_handles[1])\n",
      "<ipython-input-10-f200a152fce2>:24: DeprecationWarning: use driver.switch_to.window instead\n",
      "  driver.switch_to_window(driver.window_handles[0])\n"
     ]
    }
   ],
   "source": [
    "reviews(100)"
   ]
  },
  {
   "cell_type": "code",
   "execution_count": 43,
   "id": "e600ffda",
   "metadata": {},
   "outputs": [
    {
     "name": "stdout",
     "output_type": "stream",
     "text": [
      "Please enter a product name: HP 14 2021 black\n"
     ]
    }
   ],
   "source": [
    "amazon()"
   ]
  },
  {
   "cell_type": "code",
   "execution_count": 44,
   "id": "ba24fa4c",
   "metadata": {},
   "outputs": [
    {
     "name": "stderr",
     "output_type": "stream",
     "text": [
      "<ipython-input-10-f200a152fce2>:6: DeprecationWarning: use driver.switch_to.window instead\n",
      "  driver.switch_to_window(driver.window_handles[1])\n",
      "<ipython-input-10-f200a152fce2>:24: DeprecationWarning: use driver.switch_to.window instead\n",
      "  driver.switch_to_window(driver.window_handles[0])\n"
     ]
    }
   ],
   "source": [
    "reviews(100)"
   ]
  },
  {
   "cell_type": "code",
   "execution_count": 71,
   "id": "f112a124",
   "metadata": {},
   "outputs": [
    {
     "name": "stdout",
     "output_type": "stream",
     "text": [
      "Please enter a product name: Canon EOS 1500D\n"
     ]
    }
   ],
   "source": [
    "amazon()"
   ]
  },
  {
   "cell_type": "code",
   "execution_count": 73,
   "id": "b18e7a58",
   "metadata": {},
   "outputs": [
    {
     "name": "stderr",
     "output_type": "stream",
     "text": [
      "<ipython-input-10-f200a152fce2>:6: DeprecationWarning: use driver.switch_to.window instead\n",
      "  driver.switch_to_window(driver.window_handles[1])\n",
      "<ipython-input-10-f200a152fce2>:24: DeprecationWarning: use driver.switch_to.window instead\n",
      "  driver.switch_to_window(driver.window_handles[0])\n"
     ]
    }
   ],
   "source": [
    "reviews(100)"
   ]
  },
  {
   "cell_type": "code",
   "execution_count": 74,
   "id": "8a694986",
   "metadata": {},
   "outputs": [
    {
     "name": "stdout",
     "output_type": "stream",
     "text": [
      "Please enter a product name: Lg 22 inch\n"
     ]
    }
   ],
   "source": [
    "amazon()"
   ]
  },
  {
   "cell_type": "code",
   "execution_count": 75,
   "id": "44c9638d",
   "metadata": {},
   "outputs": [
    {
     "name": "stderr",
     "output_type": "stream",
     "text": [
      "<ipython-input-10-f200a152fce2>:6: DeprecationWarning: use driver.switch_to.window instead\n",
      "  driver.switch_to_window(driver.window_handles[1])\n",
      "<ipython-input-10-f200a152fce2>:24: DeprecationWarning: use driver.switch_to.window instead\n",
      "  driver.switch_to_window(driver.window_handles[0])\n"
     ]
    }
   ],
   "source": [
    "reviews(100)"
   ]
  },
  {
   "cell_type": "code",
   "execution_count": 76,
   "id": "95a64cb3",
   "metadata": {},
   "outputs": [
    {
     "name": "stdout",
     "output_type": "stream",
     "text": [
      "Please enter a product name: Zebronics BT44\n"
     ]
    }
   ],
   "source": [
    "amazon()"
   ]
  },
  {
   "cell_type": "code",
   "execution_count": 77,
   "id": "2f046008",
   "metadata": {},
   "outputs": [
    {
     "name": "stderr",
     "output_type": "stream",
     "text": [
      "<ipython-input-10-f200a152fce2>:6: DeprecationWarning: use driver.switch_to.window instead\n",
      "  driver.switch_to_window(driver.window_handles[1])\n",
      "<ipython-input-10-f200a152fce2>:24: DeprecationWarning: use driver.switch_to.window instead\n",
      "  driver.switch_to_window(driver.window_handles[0])\n"
     ]
    }
   ],
   "source": [
    "reviews(100)"
   ]
  },
  {
   "cell_type": "code",
   "execution_count": 79,
   "id": "90525ce5",
   "metadata": {},
   "outputs": [],
   "source": [
    "while(\"\" in Rating) :\n",
    "    Rating.remove(\"\")"
   ]
  },
  {
   "cell_type": "code",
   "execution_count": 80,
   "id": "668683f3",
   "metadata": {},
   "outputs": [],
   "source": [
    "NewRating = []"
   ]
  },
  {
   "cell_type": "code",
   "execution_count": 81,
   "id": "1c9fcbb8",
   "metadata": {},
   "outputs": [],
   "source": [
    "for i in Rating:\n",
    "    NewRating.append(i.replace('.0 out of 5 stars',''))"
   ]
  },
  {
   "cell_type": "code",
   "execution_count": 82,
   "id": "1f740fb8",
   "metadata": {},
   "outputs": [],
   "source": [
    "data = {\n",
    "    'Short':Short,\n",
    "    'Long':Long,\n",
    "    'Rating':NewRating\n",
    "}"
   ]
  },
  {
   "cell_type": "code",
   "execution_count": 83,
   "id": "d4b28bdf",
   "metadata": {},
   "outputs": [],
   "source": [
    "Amazon = pd.DataFrame.from_dict(data, orient='index').transpose()\n",
    "Amazon.dropna(inplace=True)"
   ]
  },
  {
   "cell_type": "code",
   "execution_count": 84,
   "id": "1e5ea2ef",
   "metadata": {},
   "outputs": [
    {
     "data": {
      "text/html": [
       "<div>\n",
       "<style scoped>\n",
       "    .dataframe tbody tr th:only-of-type {\n",
       "        vertical-align: middle;\n",
       "    }\n",
       "\n",
       "    .dataframe tbody tr th {\n",
       "        vertical-align: top;\n",
       "    }\n",
       "\n",
       "    .dataframe thead th {\n",
       "        text-align: right;\n",
       "    }\n",
       "</style>\n",
       "<table border=\"1\" class=\"dataframe\">\n",
       "  <thead>\n",
       "    <tr style=\"text-align: right;\">\n",
       "      <th></th>\n",
       "      <th>Short</th>\n",
       "      <th>Long</th>\n",
       "      <th>Rating</th>\n",
       "    </tr>\n",
       "  </thead>\n",
       "  <tbody>\n",
       "    <tr>\n",
       "      <th>0</th>\n",
       "      <td>Bad bad bad quality</td>\n",
       "      <td>It has stopped working within warranty period ...</td>\n",
       "      <td>1</td>\n",
       "    </tr>\n",
       "    <tr>\n",
       "      <th>1</th>\n",
       "      <td>Read my review to avoid ear pain</td>\n",
       "      <td>This is my honest review after using it for 20...</td>\n",
       "      <td>5</td>\n",
       "    </tr>\n",
       "    <tr>\n",
       "      <th>2</th>\n",
       "      <td>One Star</td>\n",
       "      <td>Received second hand headphone</td>\n",
       "      <td>1</td>\n",
       "    </tr>\n",
       "    <tr>\n",
       "      <th>3</th>\n",
       "      <td>Unbiased review</td>\n",
       "      <td>Im going to give a small comparison of this pr...</td>\n",
       "      <td>4</td>\n",
       "    </tr>\n",
       "    <tr>\n",
       "      <th>4</th>\n",
       "      <td>Best Bass Heads.... But</td>\n",
       "      <td>The Boat bass heads really live up to their na...</td>\n",
       "      <td>4</td>\n",
       "    </tr>\n",
       "    <tr>\n",
       "      <th>...</th>\n",
       "      <td>...</td>\n",
       "      <td>...</td>\n",
       "      <td>...</td>\n",
       "    </tr>\n",
       "    <tr>\n",
       "      <th>10007</th>\n",
       "      <td>Bad sound</td>\n",
       "      <td>Awesome sound in this price range.\\nBest for m...</td>\n",
       "      <td>1</td>\n",
       "    </tr>\n",
       "    <tr>\n",
       "      <th>10008</th>\n",
       "      <td>Try to improve the bass sound</td>\n",
       "      <td>Very very very very good</td>\n",
       "      <td>4</td>\n",
       "    </tr>\n",
       "    <tr>\n",
       "      <th>10009</th>\n",
       "      <td>Good</td>\n",
       "      <td>Good sound quality and very nice produced</td>\n",
       "      <td>4</td>\n",
       "    </tr>\n",
       "    <tr>\n",
       "      <th>10010</th>\n",
       "      <td>Ok</td>\n",
       "      <td>All options best</td>\n",
       "      <td>4</td>\n",
       "    </tr>\n",
       "    <tr>\n",
       "      <th>10011</th>\n",
       "      <td>Bass lovers dont buy it ...</td>\n",
       "      <td>Received a defective product. Looking good but...</td>\n",
       "      <td>3</td>\n",
       "    </tr>\n",
       "  </tbody>\n",
       "</table>\n",
       "<p>10012 rows × 3 columns</p>\n",
       "</div>"
      ],
      "text/plain": [
       "                                  Short  \\\n",
       "0                   Bad bad bad quality   \n",
       "1      Read my review to avoid ear pain   \n",
       "2                              One Star   \n",
       "3                       Unbiased review   \n",
       "4               Best Bass Heads.... But   \n",
       "...                                 ...   \n",
       "10007                         Bad sound   \n",
       "10008     Try to improve the bass sound   \n",
       "10009                              Good   \n",
       "10010                                Ok   \n",
       "10011       Bass lovers dont buy it ...   \n",
       "\n",
       "                                                    Long Rating  \n",
       "0      It has stopped working within warranty period ...      1  \n",
       "1      This is my honest review after using it for 20...      5  \n",
       "2                         Received second hand headphone      1  \n",
       "3      Im going to give a small comparison of this pr...      4  \n",
       "4      The Boat bass heads really live up to their na...      4  \n",
       "...                                                  ...    ...  \n",
       "10007  Awesome sound in this price range.\\nBest for m...      1  \n",
       "10008                           Very very very very good      4  \n",
       "10009          Good sound quality and very nice produced      4  \n",
       "10010                                   All options best      4  \n",
       "10011  Received a defective product. Looking good but...      3  \n",
       "\n",
       "[10012 rows x 3 columns]"
      ]
     },
     "execution_count": 84,
     "metadata": {},
     "output_type": "execute_result"
    }
   ],
   "source": [
    "Amazon"
   ]
  },
  {
   "cell_type": "code",
   "execution_count": 85,
   "id": "1ee95560",
   "metadata": {},
   "outputs": [],
   "source": [
    "Amazon.to_csv(\"Amazon.csv\")"
   ]
  },
  {
   "cell_type": "code",
   "execution_count": 86,
   "id": "9b6181a2",
   "metadata": {},
   "outputs": [
    {
     "data": {
      "text/plain": [
       "5    4714\n",
       "1    2079\n",
       "4    1806\n",
       "3     848\n",
       "2     565\n",
       "Name: Rating, dtype: int64"
      ]
     },
     "execution_count": 86,
     "metadata": {},
     "output_type": "execute_result"
    }
   ],
   "source": [
    "Amazon['Rating'].value_counts()"
   ]
  },
  {
   "cell_type": "code",
   "execution_count": 87,
   "id": "38ed266b",
   "metadata": {},
   "outputs": [
    {
     "name": "stdout",
     "output_type": "stream",
     "text": [
      "Please enter the name of the product: Redmi 9i\n"
     ]
    }
   ],
   "source": [
    "flipkart()"
   ]
  },
  {
   "cell_type": "code",
   "execution_count": 88,
   "id": "cbf0738a",
   "metadata": {},
   "outputs": [
    {
     "name": "stderr",
     "output_type": "stream",
     "text": [
      "<ipython-input-4-5399a59a6662>:5: DeprecationWarning: use driver.switch_to.window instead\n",
      "  driver.switch_to_window(driver.window_handles[1])\n"
     ]
    }
   ],
   "source": [
    "morevertical()"
   ]
  },
  {
   "cell_type": "code",
   "execution_count": 89,
   "id": "8c16a0e9",
   "metadata": {},
   "outputs": [],
   "source": [
    "Short1 = []\n",
    "Long1 = []\n",
    "Rating1 = []"
   ]
  },
  {
   "cell_type": "code",
   "execution_count": 90,
   "id": "0d5a0e4b",
   "metadata": {},
   "outputs": [
    {
     "name": "stderr",
     "output_type": "stream",
     "text": [
      "<ipython-input-21-282184d306bb>:23: DeprecationWarning: use driver.switch_to.window instead\n",
      "  driver.switch_to_window(driver.window_handles[0])\n"
     ]
    }
   ],
   "source": [
    "Scrape1(133)"
   ]
  },
  {
   "cell_type": "code",
   "execution_count": 92,
   "id": "7af4a0b2",
   "metadata": {},
   "outputs": [],
   "source": [
    "driver.quit()"
   ]
  },
  {
   "cell_type": "code",
   "execution_count": 93,
   "id": "ed261d67",
   "metadata": {},
   "outputs": [],
   "source": [
    "driver = webdriver.Chrome(r\"S:\\chromedriver_win32\\chromedriver.exe\")"
   ]
  },
  {
   "cell_type": "code",
   "execution_count": 94,
   "id": "6943288d",
   "metadata": {},
   "outputs": [
    {
     "name": "stdout",
     "output_type": "stream",
     "text": [
      "Please enter the name of the product: Redmi 9i\n"
     ]
    }
   ],
   "source": [
    "flipkart()"
   ]
  },
  {
   "cell_type": "code",
   "execution_count": 95,
   "id": "a755bf9b",
   "metadata": {},
   "outputs": [
    {
     "name": "stderr",
     "output_type": "stream",
     "text": [
      "<ipython-input-4-5399a59a6662>:5: DeprecationWarning: use driver.switch_to.window instead\n",
      "  driver.switch_to_window(driver.window_handles[1])\n"
     ]
    }
   ],
   "source": [
    "morevertical()"
   ]
  },
  {
   "cell_type": "code",
   "execution_count": 98,
   "id": "4f2f6662",
   "metadata": {},
   "outputs": [],
   "source": [
    "Short2 = []\n",
    "Long2=[]\n",
    "Rating2 = []"
   ]
  },
  {
   "cell_type": "code",
   "execution_count": 99,
   "id": "818714ed",
   "metadata": {},
   "outputs": [
    {
     "name": "stderr",
     "output_type": "stream",
     "text": [
      "<ipython-input-22-9088fb8e2cc9>:23: DeprecationWarning: use driver.switch_to.window instead\n",
      "  driver.switch_to_window(driver.window_handles[0])\n"
     ]
    }
   ],
   "source": [
    "Scrape2(60)"
   ]
  },
  {
   "cell_type": "code",
   "execution_count": 104,
   "id": "1dc98cd1",
   "metadata": {},
   "outputs": [],
   "source": [
    "driver.quit()"
   ]
  },
  {
   "cell_type": "code",
   "execution_count": 105,
   "id": "666521c7",
   "metadata": {},
   "outputs": [],
   "source": [
    "driver = webdriver.Chrome(r\"S:\\chromedriver_win32\\chromedriver.exe\")"
   ]
  },
  {
   "cell_type": "code",
   "execution_count": 106,
   "id": "0a1ff4c3",
   "metadata": {},
   "outputs": [
    {
     "name": "stdout",
     "output_type": "stream",
     "text": [
      "Please enter the name of the product: Headphones\n"
     ]
    }
   ],
   "source": [
    "flipkart()"
   ]
  },
  {
   "cell_type": "code",
   "execution_count": 108,
   "id": "83f76f0e",
   "metadata": {},
   "outputs": [
    {
     "name": "stderr",
     "output_type": "stream",
     "text": [
      "<ipython-input-8-802e18efa94e>:5: DeprecationWarning: use driver.switch_to.window instead\n",
      "  driver.switch_to_window(driver.window_handles[1])\n"
     ]
    }
   ],
   "source": [
    "morehorizontal()"
   ]
  },
  {
   "cell_type": "code",
   "execution_count": 110,
   "id": "3f91010b",
   "metadata": {},
   "outputs": [],
   "source": [
    "Scrape1(103)"
   ]
  },
  {
   "cell_type": "code",
   "execution_count": 111,
   "id": "723065d0",
   "metadata": {},
   "outputs": [],
   "source": [
    "Scrape2(63)"
   ]
  },
  {
   "cell_type": "code",
   "execution_count": 112,
   "id": "2faa2855",
   "metadata": {},
   "outputs": [],
   "source": [
    "Short = []\n",
    "Long = []\n",
    "Rating = []"
   ]
  },
  {
   "cell_type": "code",
   "execution_count": 114,
   "id": "fe2fbb6c",
   "metadata": {},
   "outputs": [],
   "source": [
    "Scrape(120)"
   ]
  },
  {
   "cell_type": "code",
   "execution_count": 116,
   "id": "99b16e6f",
   "metadata": {},
   "outputs": [],
   "source": [
    "Scrape(120)"
   ]
  },
  {
   "cell_type": "code",
   "execution_count": 119,
   "id": "7f3f423c",
   "metadata": {},
   "outputs": [],
   "source": [
    "driver.quit()"
   ]
  },
  {
   "cell_type": "code",
   "execution_count": 123,
   "id": "0976f8a1",
   "metadata": {},
   "outputs": [],
   "source": [
    "driver = webdriver.Chrome(r\"S:\\chromedriver_win32\\chromedriver.exe\")"
   ]
  },
  {
   "cell_type": "code",
   "execution_count": 124,
   "id": "85a23f49",
   "metadata": {},
   "outputs": [
    {
     "name": "stdout",
     "output_type": "stream",
     "text": [
      "Please enter the name of the product: Butterfly arrow 500w\n"
     ]
    }
   ],
   "source": [
    "flipkart()"
   ]
  },
  {
   "cell_type": "code",
   "execution_count": 125,
   "id": "cedff3e4",
   "metadata": {},
   "outputs": [
    {
     "name": "stderr",
     "output_type": "stream",
     "text": [
      "<ipython-input-4-5399a59a6662>:5: DeprecationWarning: use driver.switch_to.window instead\n",
      "  driver.switch_to_window(driver.window_handles[1])\n"
     ]
    }
   ],
   "source": [
    "morevertical()"
   ]
  },
  {
   "cell_type": "code",
   "execution_count": 131,
   "id": "2616e3f6",
   "metadata": {},
   "outputs": [],
   "source": [
    "Scrape2(98)"
   ]
  },
  {
   "cell_type": "code",
   "execution_count": 135,
   "id": "6bcbc4ba",
   "metadata": {},
   "outputs": [],
   "source": [
    "Scrape(93)"
   ]
  },
  {
   "cell_type": "code",
   "execution_count": 136,
   "id": "7373c7e2",
   "metadata": {},
   "outputs": [
    {
     "data": {
      "text/plain": [
       "3572"
      ]
     },
     "execution_count": 136,
     "metadata": {},
     "output_type": "execute_result"
    }
   ],
   "source": [
    "len(Rating)"
   ]
  },
  {
   "cell_type": "code",
   "execution_count": 137,
   "id": "33b1a6a5",
   "metadata": {},
   "outputs": [],
   "source": [
    "data = {\n",
    "    'Short':Short1,\n",
    "    'Long':Long1,\n",
    "    'Rating':Rating1\n",
    "}"
   ]
  },
  {
   "cell_type": "code",
   "execution_count": 138,
   "id": "3b5d4ed3",
   "metadata": {},
   "outputs": [],
   "source": [
    "data2 = {\n",
    "    'Short':Short2,\n",
    "    'Long':Long2,\n",
    "    'Rating':Rating2\n",
    "}"
   ]
  },
  {
   "cell_type": "code",
   "execution_count": 139,
   "id": "35e42572",
   "metadata": {},
   "outputs": [],
   "source": [
    "data3 = {\n",
    "    'Short':Short,\n",
    "    'Long':Long,\n",
    "    'Rating':Rating\n",
    "}"
   ]
  },
  {
   "cell_type": "code",
   "execution_count": 141,
   "id": "73dfe5fb",
   "metadata": {},
   "outputs": [],
   "source": [
    "one = pd.DataFrame.from_dict(data, orient='index').transpose()\n",
    "one.dropna(inplace=True)"
   ]
  },
  {
   "cell_type": "code",
   "execution_count": 142,
   "id": "074ae91f",
   "metadata": {},
   "outputs": [],
   "source": [
    "two = pd.DataFrame.from_dict(data2, orient='index').transpose()\n",
    "two.dropna(inplace=True)"
   ]
  },
  {
   "cell_type": "code",
   "execution_count": 143,
   "id": "681b0009",
   "metadata": {},
   "outputs": [],
   "source": [
    "three = pd.DataFrame.from_dict(data3, orient='index').transpose()\n",
    "three.dropna(inplace=True)"
   ]
  },
  {
   "cell_type": "code",
   "execution_count": 144,
   "id": "5bd64711",
   "metadata": {},
   "outputs": [],
   "source": [
    "frames = [one,two,three]"
   ]
  },
  {
   "cell_type": "code",
   "execution_count": 145,
   "id": "7c7d7e71",
   "metadata": {},
   "outputs": [],
   "source": [
    "Final = pd.concat(frames)"
   ]
  },
  {
   "cell_type": "code",
   "execution_count": 174,
   "id": "bd0d34f9",
   "metadata": {},
   "outputs": [],
   "source": [
    "Final.to_csv(\"Final.csv\")"
   ]
  },
  {
   "cell_type": "code",
   "execution_count": 148,
   "id": "3a9c5e49",
   "metadata": {},
   "outputs": [
    {
     "data": {
      "text/plain": [
       "1    2525\n",
       "3    2363\n",
       "2    1891\n",
       "4    1207\n",
       "5       2\n",
       "Name: Rating, dtype: int64"
      ]
     },
     "execution_count": 148,
     "metadata": {},
     "output_type": "execute_result"
    }
   ],
   "source": [
    "Final['Rating'].value_counts()"
   ]
  },
  {
   "cell_type": "code",
   "execution_count": 149,
   "id": "250a2d03",
   "metadata": {},
   "outputs": [
    {
     "data": {
      "text/plain": [
       "5    4714\n",
       "1    2079\n",
       "4    1806\n",
       "3     848\n",
       "2     565\n",
       "Name: Rating, dtype: int64"
      ]
     },
     "execution_count": 149,
     "metadata": {},
     "output_type": "execute_result"
    }
   ],
   "source": [
    "Amazon['Rating'].value_counts()"
   ]
  },
  {
   "cell_type": "markdown",
   "id": "68f71ae5",
   "metadata": {},
   "source": [
    "1 = 4604; 2 = 2456; 3 = 3211; 4 = 3013; 5 = 4716"
   ]
  },
  {
   "cell_type": "code",
   "execution_count": 157,
   "id": "7a9afeea",
   "metadata": {},
   "outputs": [],
   "source": [
    "Short = []\n",
    "Short2 = []\n",
    "Long = []\n",
    "Long2=  []\n",
    "Rating = []\n",
    "Rating2 = []"
   ]
  },
  {
   "cell_type": "code",
   "execution_count": 158,
   "id": "40ee91cf",
   "metadata": {},
   "outputs": [],
   "source": [
    "driver.quit()"
   ]
  },
  {
   "cell_type": "code",
   "execution_count": 159,
   "id": "331fdc83",
   "metadata": {},
   "outputs": [],
   "source": [
    "driver = webdriver.Chrome(r\"S:\\chromedriver_win32\\chromedriver.exe\")"
   ]
  },
  {
   "cell_type": "code",
   "execution_count": 160,
   "id": "d58c0665",
   "metadata": {},
   "outputs": [
    {
     "name": "stdout",
     "output_type": "stream",
     "text": [
      "Please enter the name of the product: Boat Storm Smartwatch\n"
     ]
    }
   ],
   "source": [
    "flipkart()"
   ]
  },
  {
   "cell_type": "code",
   "execution_count": 161,
   "id": "0adb09a6",
   "metadata": {},
   "outputs": [
    {
     "name": "stderr",
     "output_type": "stream",
     "text": [
      "<ipython-input-4-5399a59a6662>:5: DeprecationWarning: use driver.switch_to.window instead\n",
      "  driver.switch_to_window(driver.window_handles[1])\n"
     ]
    }
   ],
   "source": [
    "morevertical()"
   ]
  },
  {
   "cell_type": "code",
   "execution_count": 163,
   "id": "8e88a7cd",
   "metadata": {},
   "outputs": [],
   "source": [
    "Scrape2(50)"
   ]
  },
  {
   "cell_type": "code",
   "execution_count": 165,
   "id": "b4c86734",
   "metadata": {},
   "outputs": [],
   "source": [
    "Scrape(130)"
   ]
  },
  {
   "cell_type": "code",
   "execution_count": 168,
   "id": "b7cacf4f",
   "metadata": {},
   "outputs": [],
   "source": [
    "Scrape(70)"
   ]
  },
  {
   "cell_type": "code",
   "execution_count": 169,
   "id": "bfd735b4",
   "metadata": {},
   "outputs": [],
   "source": [
    "data = {\n",
    "    'Short':Short,\n",
    "    'Long':Long,\n",
    "    'Rating':Rating\n",
    "}"
   ]
  },
  {
   "cell_type": "code",
   "execution_count": 170,
   "id": "c6048cc3",
   "metadata": {},
   "outputs": [],
   "source": [
    "Final3 = pd.DataFrame.from_dict(data, orient='index').transpose()\n",
    "Final3.dropna(inplace=True)"
   ]
  },
  {
   "cell_type": "code",
   "execution_count": 173,
   "id": "dc3222a6",
   "metadata": {},
   "outputs": [],
   "source": [
    "Final3.to_csv(\"Final3.csv\")"
   ]
  },
  {
   "cell_type": "code",
   "execution_count": 177,
   "id": "1c21b7d8",
   "metadata": {},
   "outputs": [],
   "source": [
    "driver.quit()"
   ]
  },
  {
   "cell_type": "code",
   "execution_count": 178,
   "id": "506992b7",
   "metadata": {},
   "outputs": [],
   "source": [
    "driver = webdriver.Chrome(r\"S:\\chromedriver_win32\\chromedriver.exe\")"
   ]
  },
  {
   "cell_type": "code",
   "execution_count": 179,
   "id": "bfd81525",
   "metadata": {},
   "outputs": [
    {
     "name": "stdout",
     "output_type": "stream",
     "text": [
      "Please enter the name of the product: Printer\n"
     ]
    }
   ],
   "source": [
    "flipkart()"
   ]
  },
  {
   "cell_type": "code",
   "execution_count": 180,
   "id": "7b7db681",
   "metadata": {},
   "outputs": [
    {
     "name": "stderr",
     "output_type": "stream",
     "text": [
      "<ipython-input-8-802e18efa94e>:5: DeprecationWarning: use driver.switch_to.window instead\n",
      "  driver.switch_to_window(driver.window_handles[1])\n"
     ]
    }
   ],
   "source": [
    "morehorizontal()"
   ]
  },
  {
   "cell_type": "code",
   "execution_count": 182,
   "id": "47682ed1",
   "metadata": {},
   "outputs": [],
   "source": [
    "Scrape2(11)"
   ]
  },
  {
   "cell_type": "code",
   "execution_count": 183,
   "id": "3d7da2a9",
   "metadata": {},
   "outputs": [],
   "source": [
    "driver.quit()"
   ]
  },
  {
   "cell_type": "code",
   "execution_count": 184,
   "id": "4c61a877",
   "metadata": {},
   "outputs": [],
   "source": [
    "driver = webdriver.Chrome(r\"S:\\chromedriver_win32\\chromedriver.exe\")"
   ]
  },
  {
   "cell_type": "code",
   "execution_count": 185,
   "id": "1a3b6fa0",
   "metadata": {},
   "outputs": [
    {
     "name": "stdout",
     "output_type": "stream",
     "text": [
      "Please enter the name of the product: Boat Stone 190f\n"
     ]
    }
   ],
   "source": [
    "flipkart()"
   ]
  },
  {
   "cell_type": "code",
   "execution_count": 186,
   "id": "00d58a70",
   "metadata": {},
   "outputs": [
    {
     "name": "stderr",
     "output_type": "stream",
     "text": [
      "<ipython-input-8-802e18efa94e>:5: DeprecationWarning: use driver.switch_to.window instead\n",
      "  driver.switch_to_window(driver.window_handles[1])\n"
     ]
    }
   ],
   "source": [
    "morehorizontal()"
   ]
  },
  {
   "cell_type": "code",
   "execution_count": 187,
   "id": "e686a406",
   "metadata": {},
   "outputs": [],
   "source": [
    "Scrape2(10)"
   ]
  },
  {
   "cell_type": "code",
   "execution_count": 193,
   "id": "dd7bc1d6",
   "metadata": {},
   "outputs": [],
   "source": [
    "driver.quit()"
   ]
  },
  {
   "cell_type": "code",
   "execution_count": 194,
   "id": "c9f24486",
   "metadata": {},
   "outputs": [],
   "source": [
    "driver = webdriver.Chrome(r\"S:\\chromedriver_win32\\chromedriver.exe\")"
   ]
  },
  {
   "cell_type": "code",
   "execution_count": 195,
   "id": "7352684f",
   "metadata": {},
   "outputs": [
    {
     "name": "stdout",
     "output_type": "stream",
     "text": [
      "Please enter the name of the product: Ambrane 10000\n"
     ]
    }
   ],
   "source": [
    "flipkart()"
   ]
  },
  {
   "cell_type": "code",
   "execution_count": 196,
   "id": "581338bc",
   "metadata": {},
   "outputs": [
    {
     "name": "stderr",
     "output_type": "stream",
     "text": [
      "<ipython-input-8-802e18efa94e>:5: DeprecationWarning: use driver.switch_to.window instead\n",
      "  driver.switch_to_window(driver.window_handles[1])\n"
     ]
    }
   ],
   "source": [
    "morehorizontal()"
   ]
  },
  {
   "cell_type": "code",
   "execution_count": 197,
   "id": "7bdd8049",
   "metadata": {},
   "outputs": [],
   "source": [
    "Scrape2(44)"
   ]
  },
  {
   "cell_type": "code",
   "execution_count": 198,
   "id": "e451cf02",
   "metadata": {},
   "outputs": [
    {
     "data": {
      "text/plain": [
       "1580"
      ]
     },
     "execution_count": 198,
     "metadata": {},
     "output_type": "execute_result"
    }
   ],
   "source": [
    "len(Rating2)"
   ]
  },
  {
   "cell_type": "code",
   "execution_count": 199,
   "id": "1cac61be",
   "metadata": {},
   "outputs": [],
   "source": [
    "data = {\n",
    "    'Short':Short2,\n",
    "    'Long':Long2,\n",
    "    'Rating':Rating2\n",
    "}"
   ]
  },
  {
   "cell_type": "code",
   "execution_count": 200,
   "id": "db2a488f",
   "metadata": {},
   "outputs": [],
   "source": [
    "Final2 = pd.DataFrame.from_dict(data, orient='index').transpose()\n",
    "Final2.to_csv(\"Final2.csv\")"
   ]
  },
  {
   "cell_type": "markdown",
   "id": "7096d65d",
   "metadata": {},
   "source": [
    "### Importing all the dataset and merging them to create Final Dataset"
   ]
  },
  {
   "cell_type": "code",
   "execution_count": 201,
   "id": "c1f87368",
   "metadata": {},
   "outputs": [],
   "source": [
    "path = r'S:\\Data Science Projects\\Flip Robo\\Ratings Project\\To be merged' # use your path\n",
    "all_files = glob.glob(path + \"/*.csv\")\n",
    "\n",
    "li = []\n",
    "\n",
    "for filename in all_files:\n",
    "    df = pd.read_csv(filename, index_col=None, header=0)\n",
    "    li.append(df)\n",
    "\n",
    "frame = pd.concat(li, axis=0, ignore_index=True)"
   ]
  },
  {
   "cell_type": "code",
   "execution_count": 203,
   "id": "d3d6f253",
   "metadata": {},
   "outputs": [],
   "source": [
    "frame.drop('Unnamed: 0', 1, inplace=True)"
   ]
  },
  {
   "cell_type": "code",
   "execution_count": 204,
   "id": "86258a58",
   "metadata": {},
   "outputs": [],
   "source": [
    "ds = shuffle(frame)"
   ]
  },
  {
   "cell_type": "code",
   "execution_count": 6,
   "id": "4f7d9859",
   "metadata": {},
   "outputs": [],
   "source": [
    "ds = ds.reset_index()"
   ]
  },
  {
   "cell_type": "code",
   "execution_count": 205,
   "id": "cbb6678f",
   "metadata": {},
   "outputs": [
    {
     "name": "stderr",
     "output_type": "stream",
     "text": [
      "C:\\Users\\Sumit Santra\\anaconda3\\lib\\site-packages\\seaborn\\_decorators.py:36: FutureWarning: Pass the following variable as a keyword arg: x. From version 0.12, the only valid positional argument will be `data`, and passing other arguments without an explicit keyword will result in an error or misinterpretation.\n",
      "  warnings.warn(\n"
     ]
    },
    {
     "data": {
      "text/plain": [
       "<AxesSubplot:xlabel='Rating', ylabel='count'>"
      ]
     },
     "execution_count": 205,
     "metadata": {},
     "output_type": "execute_result"
    },
    {
     "data": {
      "image/png": "[encoded data removed]",
      "text/plain": [
       "<Figure size 432x288 with 1 Axes>"
      ]
     },
     "metadata": {
      "needs_background": "light"
     },
     "output_type": "display_data"
    }
   ],
   "source": [
    "sns.countplot(ds['Rating'])"
   ]
  },
  {
   "cell_type": "code",
   "execution_count": 206,
   "id": "13b71626",
   "metadata": {},
   "outputs": [
    {
     "data": {
      "text/plain": [
       "5.0    4716\n",
       "1.0    4604\n",
       "4.0    4561\n",
       "3.0    4417\n",
       "2.0    4036\n",
       "Name: Rating, dtype: int64"
      ]
     },
     "execution_count": 206,
     "metadata": {},
     "output_type": "execute_result"
    }
   ],
   "source": [
    "ds['Rating'].value_counts()"
   ]
  },
  {
   "cell_type": "markdown",
   "id": "cecb77a4",
   "metadata": {},
   "source": [
    "### SAVING THE FINAL DATASET FOR THE PROJECT"
   ]
  },
  {
   "cell_type": "code",
   "execution_count": 209,
   "id": "56907642",
   "metadata": {},
   "outputs": [
    {
     "data": {
      "text/plain": [
       "Short      0\n",
       "Long       2\n",
       "Rating    13\n",
       "dtype: int64"
      ]
     },
     "execution_count": 209,
     "metadata": {},
     "output_type": "execute_result"
    }
   ],
   "source": [
    "ds.isnull().sum()"
   ]
  },
  {
   "cell_type": "code",
   "execution_count": 210,
   "id": "8b4f654d",
   "metadata": {},
   "outputs": [
    {
     "name": "stderr",
     "output_type": "stream",
     "text": [
      "<ipython-input-210-8bc229d631cd>:1: SettingWithCopyWarning: \n",
      "A value is trying to be set on a copy of a slice from a DataFrame\n",
      "\n",
      "See the caveats in the documentation: https://pandas.pydata.org/pandas-docs/stable/user_guide/indexing.html#returning-a-view-versus-a-copy\n",
      "  ds.dropna(inplace=True)\n"
     ]
    }
   ],
   "source": [
    "ds.dropna(inplace=True)"
   ]
  },
  {
   "cell_type": "code",
   "execution_count": 211,
   "id": "2e89704d",
   "metadata": {},
   "outputs": [
    {
     "name": "stderr",
     "output_type": "stream",
     "text": [
      "<ipython-input-211-bbb727d7dee9>:1: SettingWithCopyWarning: \n",
      "A value is trying to be set on a copy of a slice from a DataFrame.\n",
      "Try using .loc[row_indexer,col_indexer] = value instead\n",
      "\n",
      "See the caveats in the documentation: https://pandas.pydata.org/pandas-docs/stable/user_guide/indexing.html#returning-a-view-versus-a-copy\n",
      "  ds['Rating'] = ds['Rating'].astype(int)\n"
     ]
    }
   ],
   "source": [
    "ds['Rating'] = ds['Rating'].astype(int)"
   ]
  },
  {
   "cell_type": "code",
   "execution_count": 213,
   "id": "a550e7a0",
   "metadata": {},
   "outputs": [],
   "source": [
    "ds.to_csv(\"Dataset.csv\", encoding='utf-8')"
   ]
  },
  {
   "cell_type": "code",
   "execution_count": null,
   "id": "35560f27",
   "metadata": {},
   "outputs": [],
   "source": []
  }
 ],
 "metadata": {
  "kernelspec": {
   "display_name": "Python 3",
   "language": "python",
   "name": "python3"
  },
  "language_info": {
   "codemirror_mode": {
    "name": "ipython",
    "version": 3
   },
   "file_extension": ".py",
   "mimetype": "text/x-python",
   "name": "python",
   "nbconvert_exporter": "python",
   "pygments_lexer": "ipython3",
   "version": "3.8.8"
  }
 },
 "nbformat": 4,
 "nbformat_minor": 5
}
