{
 "cells": [
  {
   "cell_type": "markdown",
   "id": "bfcd3e90",
   "metadata": {},
   "source": [
    "# Car Price Prediction Project"
   ]
  },
  {
   "cell_type": "markdown",
   "id": "4f0b7cac",
   "metadata": {},
   "source": [
    "## Problem Statement: "
   ]
  },
  {
   "cell_type": "markdown",
   "id": "1b5ded6b",
   "metadata": {},
   "source": [
    "### With the covid 19 impact in the market, we have seen lot of changes in the car market. Now some cars are in demand hence making them costly and some are not in demand hence cheaper. One of our clients works with small traders, who sell used cars. With the change in market due to covid 19 impact, our client is facing problems with their previous car price valuation machine learning models. So, they are looking for new machine learning models from new data. We have to make carprice valuation model."
   ]
  },
  {
   "cell_type": "markdown",
   "id": "0b9a768e",
   "metadata": {},
   "source": [
    "## Data Description of the Dataset"
   ]
  },
  {
   "cell_type": "raw",
   "id": "a9a94809",
   "metadata": {},
   "source": [
    "Name:- It gives the name of the Vehicle Manufacturer\n",
    "Model:- It gives the model name of the car\n",
    "Variant:- It gives the Variant of the Car\n",
    "Owner:- It says how many owner does the car have(1st Owner, 2nd Owner, 3rd Owner)\n",
    "Kilometer:- It gives the detail about how many kilometers the car has run in the entire life cycle\n",
    "Fuel:- It gives the information about the on which the car runs.(Petrol, Diesel, Petrol + CNG)\n",
    "Transmission:- It gives the infomation about the cars transmission it has two categories Manual and Autoimatic.\n",
    "Year:- Year gives the information about the Manufacturing Year of the car.\n",
    "Price:- This is our target varaible we have to predict the price of the car using all the other independent variables."
   ]
  },
  {
   "cell_type": "markdown",
   "id": "f1d45711",
   "metadata": {},
   "source": [
    "from looking at the above tab we can look at what kind of data we are hasving and we can see that this is a regression problem in which we have to predict the price of the cars based on the other columns"
   ]
  },
  {
   "cell_type": "markdown",
   "id": "b25bdfd1",
   "metadata": {},
   "source": [
    "let us now import all the essential python libraries and modules so that we can perform some necessary operations such as importing the data, Preprocessing the data, Cleaning the data, Model Building, Model Evaluation, Saving the model and Many more things."
   ]
  },
  {
   "cell_type": "code",
   "execution_count": 1,
   "id": "9313f083",
   "metadata": {},
   "outputs": [],
   "source": [
    "import pandas as pd\n",
    "import numpy as np\n",
    "import seaborn as sns\n",
    "import time\n",
    "import matplotlib.pyplot as plt\n",
    "import warnings\n",
    "warnings.filterwarnings('ignore')\n",
    "import joblib\n",
    "from scipy.stats import zscore, boxcox, yeojohnson\n",
    "from sklearn.preprocessing import LabelEncoder, MinMaxScaler, StandardScaler, power_transform\n",
    "from sklearn.model_selection import train_test_split, GridSearchCV, cross_val_score\n",
    "from sklearn.linear_model import LinearRegression, Lasso, Ridge\n",
    "from sklearn.tree import DecisionTreeRegressor\n",
    "from sklearn.ensemble import RandomForestRegressor, AdaBoostRegressor\n",
    "from sklearn.svm import SVR\n",
    "from sklearn.neighbors import KNeighborsRegressor\n",
    "from xgboost import XGBRegressor, XGBRFRegressor\n",
    "from sklearn.metrics import r2_score, mean_squared_error, mean_absolute_error"
   ]
  },
  {
   "cell_type": "markdown",
   "id": "b9d98419",
   "metadata": {},
   "source": [
    "lets us now import our dataset using pd.read_csv(\"dataset.csv\") and save it in ds variable"
   ]
  },
  {
   "cell_type": "code",
   "execution_count": 2,
   "id": "f9b73367",
   "metadata": {},
   "outputs": [],
   "source": [
    "ds = pd.read_csv(\"S:\\Data Science Projects\\Flip Robo\\Car Price Prediction\\Dataset.csv\")"
   ]
  },
  {
   "cell_type": "markdown",
   "id": "63fc6a6e",
   "metadata": {},
   "source": [
    "As we have imported the dataset lets now see the first 5 rows of dataset using ds.head()"
   ]
  },
  {
   "cell_type": "code",
   "execution_count": 3,
   "id": "3119ff14",
   "metadata": {},
   "outputs": [
    {
     "data": {
      "text/html": [
       "<div>\n",
       "<style scoped>\n",
       "    .dataframe tbody tr th:only-of-type {\n",
       "        vertical-align: middle;\n",
       "    }\n",
       "\n",
       "    .dataframe tbody tr th {\n",
       "        vertical-align: top;\n",
       "    }\n",
       "\n",
       "    .dataframe thead th {\n",
       "        text-align: right;\n",
       "    }\n",
       "</style>\n",
       "<table border=\"1\" class=\"dataframe\">\n",
       "  <thead>\n",
       "    <tr style=\"text-align: right;\">\n",
       "      <th></th>\n",
       "      <th>Unnamed: 0</th>\n",
       "      <th>Name</th>\n",
       "      <th>Model Name</th>\n",
       "      <th>Variant</th>\n",
       "      <th>Owner</th>\n",
       "      <th>Kilometer</th>\n",
       "      <th>Fuel</th>\n",
       "      <th>Transmission</th>\n",
       "      <th>Year of Manufacture</th>\n",
       "      <th>Price</th>\n",
       "    </tr>\n",
       "  </thead>\n",
       "  <tbody>\n",
       "    <tr>\n",
       "      <th>0</th>\n",
       "      <td>0</td>\n",
       "      <td>Maruti</td>\n",
       "      <td>Baleno</td>\n",
       "      <td>DELTA 1.2 K12</td>\n",
       "      <td>1</td>\n",
       "      <td>3920</td>\n",
       "      <td>Petrol</td>\n",
       "      <td>Manual</td>\n",
       "      <td>2020</td>\n",
       "      <td>659399</td>\n",
       "    </tr>\n",
       "    <tr>\n",
       "      <th>1</th>\n",
       "      <td>1</td>\n",
       "      <td>Maruti</td>\n",
       "      <td>IGNIS</td>\n",
       "      <td>SIGMA 1.2 K12</td>\n",
       "      <td>1</td>\n",
       "      <td>2206</td>\n",
       "      <td>Petrol</td>\n",
       "      <td>Manual</td>\n",
       "      <td>2020</td>\n",
       "      <td>525699</td>\n",
       "    </tr>\n",
       "    <tr>\n",
       "      <th>2</th>\n",
       "      <td>2</td>\n",
       "      <td>Maruti</td>\n",
       "      <td>S</td>\n",
       "      <td>VXI</td>\n",
       "      <td>1</td>\n",
       "      <td>3176</td>\n",
       "      <td>Petrol</td>\n",
       "      <td>NaN</td>\n",
       "      <td>2020</td>\n",
       "      <td>408499</td>\n",
       "    </tr>\n",
       "    <tr>\n",
       "      <th>3</th>\n",
       "      <td>3</td>\n",
       "      <td>Maruti</td>\n",
       "      <td>Swift</td>\n",
       "      <td>VDI</td>\n",
       "      <td>1</td>\n",
       "      <td>11019</td>\n",
       "      <td>Diesel</td>\n",
       "      <td>Manual</td>\n",
       "      <td>2013</td>\n",
       "      <td>378499</td>\n",
       "    </tr>\n",
       "    <tr>\n",
       "      <th>4</th>\n",
       "      <td>4</td>\n",
       "      <td>Tata</td>\n",
       "      <td>Nano</td>\n",
       "      <td>XT TWIST</td>\n",
       "      <td>1</td>\n",
       "      <td>26554</td>\n",
       "      <td>Petrol</td>\n",
       "      <td>Manual</td>\n",
       "      <td>2015</td>\n",
       "      <td>123499</td>\n",
       "    </tr>\n",
       "  </tbody>\n",
       "</table>\n",
       "</div>"
      ],
      "text/plain": [
       "   Unnamed: 0    Name Model Name         Variant Owner  Kilometer    Fuel  \\\n",
       "0           0  Maruti     Baleno  DELTA 1.2 K12      1       3920  Petrol   \n",
       "1           1  Maruti      IGNIS  SIGMA 1.2 K12      1       2206  Petrol   \n",
       "2           2  Maruti          S             VXI     1       3176  Petrol   \n",
       "3           3  Maruti      Swift            VDI      1      11019  Diesel   \n",
       "4           4    Tata       Nano       XT TWIST      1      26554  Petrol   \n",
       "\n",
       "  Transmission  Year of Manufacture   Price  \n",
       "0       Manual                 2020  659399  \n",
       "1       Manual                 2020  525699  \n",
       "2          NaN                 2020  408499  \n",
       "3       Manual                 2013  378499  \n",
       "4       Manual                 2015  123499  "
      ]
     },
     "execution_count": 3,
     "metadata": {},
     "output_type": "execute_result"
    }
   ],
   "source": [
    "ds.head()"
   ]
  },
  {
   "cell_type": "markdown",
   "id": "118d5ded",
   "metadata": {},
   "source": [
    "from above we can see that the dataset contains 10 columns and our target column is Price and rest all the columns are independent columns and we have to predict the Price using all the Other columns"
   ]
  },
  {
   "cell_type": "markdown",
   "id": "27c4d1a3",
   "metadata": {},
   "source": [
    "from above we can see the column name 'Unnamed: 0' has just the index of the data so we will remove that column and then we will look into the data further"
   ]
  },
  {
   "cell_type": "code",
   "execution_count": 4,
   "id": "560bcbf6",
   "metadata": {},
   "outputs": [],
   "source": [
    "ds.drop(\"Unnamed: 0\",1,inplace=True)"
   ]
  },
  {
   "cell_type": "code",
   "execution_count": 5,
   "id": "0b7baee6",
   "metadata": {},
   "outputs": [
    {
     "data": {
      "text/html": [
       "<div>\n",
       "<style scoped>\n",
       "    .dataframe tbody tr th:only-of-type {\n",
       "        vertical-align: middle;\n",
       "    }\n",
       "\n",
       "    .dataframe tbody tr th {\n",
       "        vertical-align: top;\n",
       "    }\n",
       "\n",
       "    .dataframe thead th {\n",
       "        text-align: right;\n",
       "    }\n",
       "</style>\n",
       "<table border=\"1\" class=\"dataframe\">\n",
       "  <thead>\n",
       "    <tr style=\"text-align: right;\">\n",
       "      <th></th>\n",
       "      <th>Name</th>\n",
       "      <th>Model Name</th>\n",
       "      <th>Variant</th>\n",
       "      <th>Owner</th>\n",
       "      <th>Kilometer</th>\n",
       "      <th>Fuel</th>\n",
       "      <th>Transmission</th>\n",
       "      <th>Year of Manufacture</th>\n",
       "      <th>Price</th>\n",
       "    </tr>\n",
       "  </thead>\n",
       "  <tbody>\n",
       "    <tr>\n",
       "      <th>0</th>\n",
       "      <td>Maruti</td>\n",
       "      <td>Baleno</td>\n",
       "      <td>DELTA 1.2 K12</td>\n",
       "      <td>1</td>\n",
       "      <td>3920</td>\n",
       "      <td>Petrol</td>\n",
       "      <td>Manual</td>\n",
       "      <td>2020</td>\n",
       "      <td>659399</td>\n",
       "    </tr>\n",
       "    <tr>\n",
       "      <th>1</th>\n",
       "      <td>Maruti</td>\n",
       "      <td>IGNIS</td>\n",
       "      <td>SIGMA 1.2 K12</td>\n",
       "      <td>1</td>\n",
       "      <td>2206</td>\n",
       "      <td>Petrol</td>\n",
       "      <td>Manual</td>\n",
       "      <td>2020</td>\n",
       "      <td>525699</td>\n",
       "    </tr>\n",
       "    <tr>\n",
       "      <th>2</th>\n",
       "      <td>Maruti</td>\n",
       "      <td>S</td>\n",
       "      <td>VXI</td>\n",
       "      <td>1</td>\n",
       "      <td>3176</td>\n",
       "      <td>Petrol</td>\n",
       "      <td>NaN</td>\n",
       "      <td>2020</td>\n",
       "      <td>408499</td>\n",
       "    </tr>\n",
       "    <tr>\n",
       "      <th>3</th>\n",
       "      <td>Maruti</td>\n",
       "      <td>Swift</td>\n",
       "      <td>VDI</td>\n",
       "      <td>1</td>\n",
       "      <td>11019</td>\n",
       "      <td>Diesel</td>\n",
       "      <td>Manual</td>\n",
       "      <td>2013</td>\n",
       "      <td>378499</td>\n",
       "    </tr>\n",
       "    <tr>\n",
       "      <th>4</th>\n",
       "      <td>Tata</td>\n",
       "      <td>Nano</td>\n",
       "      <td>XT TWIST</td>\n",
       "      <td>1</td>\n",
       "      <td>26554</td>\n",
       "      <td>Petrol</td>\n",
       "      <td>Manual</td>\n",
       "      <td>2015</td>\n",
       "      <td>123499</td>\n",
       "    </tr>\n",
       "  </tbody>\n",
       "</table>\n",
       "</div>"
      ],
      "text/plain": [
       "     Name Model Name         Variant Owner  Kilometer    Fuel Transmission  \\\n",
       "0  Maruti     Baleno  DELTA 1.2 K12      1       3920  Petrol       Manual   \n",
       "1  Maruti      IGNIS  SIGMA 1.2 K12      1       2206  Petrol       Manual   \n",
       "2  Maruti          S             VXI     1       3176  Petrol          NaN   \n",
       "3  Maruti      Swift            VDI      1      11019  Diesel       Manual   \n",
       "4    Tata       Nano       XT TWIST      1      26554  Petrol       Manual   \n",
       "\n",
       "   Year of Manufacture   Price  \n",
       "0                 2020  659399  \n",
       "1                 2020  525699  \n",
       "2                 2020  408499  \n",
       "3                 2013  378499  \n",
       "4                 2015  123499  "
      ]
     },
     "execution_count": 5,
     "metadata": {},
     "output_type": "execute_result"
    }
   ],
   "source": [
    "ds.head()"
   ]
  },
  {
   "cell_type": "markdown",
   "id": "b51996be",
   "metadata": {},
   "source": [
    "from above we can see that we have removed the Unnamed: 0  column from the dataset using ds.drop() method"
   ]
  },
  {
   "cell_type": "markdown",
   "id": "3a33daae",
   "metadata": {},
   "source": [
    "lets see the shape of the data using ds.shape"
   ]
  },
  {
   "cell_type": "code",
   "execution_count": 6,
   "id": "31e519a3",
   "metadata": {},
   "outputs": [
    {
     "data": {
      "text/plain": [
       "(5312, 9)"
      ]
     },
     "execution_count": 6,
     "metadata": {},
     "output_type": "execute_result"
    }
   ],
   "source": [
    "ds.shape"
   ]
  },
  {
   "cell_type": "markdown",
   "id": "8e3099ec",
   "metadata": {},
   "source": [
    "from above we can see the shape of the data that is 5312 rows and 9 Columns"
   ]
  },
  {
   "cell_type": "markdown",
   "id": "c0b975fb",
   "metadata": {},
   "source": [
    "Lets now see more information about the data using ds.info() method"
   ]
  },
  {
   "cell_type": "code",
   "execution_count": 7,
   "id": "69f47b21",
   "metadata": {},
   "outputs": [
    {
     "name": "stdout",
     "output_type": "stream",
     "text": [
      "<class 'pandas.core.frame.DataFrame'>\n",
      "RangeIndex: 5312 entries, 0 to 5311\n",
      "Data columns (total 9 columns):\n",
      " #   Column               Non-Null Count  Dtype \n",
      "---  ------               --------------  ----- \n",
      " 0   Name                 5312 non-null   object\n",
      " 1   Model Name           5312 non-null   object\n",
      " 2   Variant              5312 non-null   object\n",
      " 3   Owner                5312 non-null   object\n",
      " 4   Kilometer            5312 non-null   int64 \n",
      " 5   Fuel                 5312 non-null   object\n",
      " 6   Transmission         5070 non-null   object\n",
      " 7   Year of Manufacture  5312 non-null   int64 \n",
      " 8   Price                5312 non-null   int64 \n",
      "dtypes: int64(3), object(6)\n",
      "memory usage: 373.6+ KB\n"
     ]
    }
   ],
   "source": [
    "ds.info()"
   ]
  },
  {
   "cell_type": "markdown",
   "id": "c0429500",
   "metadata": {},
   "source": [
    "from above we can see that there are 5312 records and 9 columns in the dataset and from above we can also see that in Transmission Column we have some missing values we will fix that in Data Cleaning Part lets now see how many missing values are there in the dataset using ds.isnull().sum()"
   ]
  },
  {
   "cell_type": "code",
   "execution_count": 8,
   "id": "f064c3fd",
   "metadata": {},
   "outputs": [
    {
     "data": {
      "text/plain": [
       "Name                     0\n",
       "Model Name               0\n",
       "Variant                  0\n",
       "Owner                    0\n",
       "Kilometer                0\n",
       "Fuel                     0\n",
       "Transmission           242\n",
       "Year of Manufacture      0\n",
       "Price                    0\n",
       "dtype: int64"
      ]
     },
     "execution_count": 8,
     "metadata": {},
     "output_type": "execute_result"
    }
   ],
   "source": [
    "ds.isnull().sum()"
   ]
  },
  {
   "cell_type": "markdown",
   "id": "fc18f5ba",
   "metadata": {},
   "source": [
    "from above we can see that we have missing values in Transmission Columns and the count is 242 Missing Data"
   ]
  },
  {
   "cell_type": "markdown",
   "id": "5a7fcc6d",
   "metadata": {},
   "source": [
    "lets calculate the Percentage of missing values in the Transmission Column"
   ]
  },
  {
   "cell_type": "code",
   "execution_count": 9,
   "id": "7966bf91",
   "metadata": {},
   "outputs": [
    {
     "name": "stdout",
     "output_type": "stream",
     "text": [
      "Missing data Percentage 4.555722891566265 %\n"
     ]
    }
   ],
   "source": [
    "rows, columns = ds.shape\n",
    "perc = (ds['Transmission'].isnull().sum()/rows)*100\n",
    "print(\"Missing data Percentage {} %\".format(perc))"
   ]
  },
  {
   "cell_type": "markdown",
   "id": "5c51deff",
   "metadata": {},
   "source": [
    "from above we can see that 4.5% of the data is missing in the Transmission Column so there are two options either we can drop all the rows with the missing values or we can replace them using the mode of the entire transmission column"
   ]
  },
  {
   "cell_type": "markdown",
   "id": "c7c3ef3a",
   "metadata": {},
   "source": [
    "So we will use Mode of the Transmission data to replace the nan values so that we can get enough data for training our model"
   ]
  },
  {
   "cell_type": "markdown",
   "id": "65f087ba",
   "metadata": {},
   "source": [
    "lets now see the visualization for null values in the dataset using heatmap"
   ]
  },
  {
   "cell_type": "code",
   "execution_count": 10,
   "id": "32cefcc0",
   "metadata": {},
   "outputs": [
    {
     "data": {
      "text/plain": [
       "<AxesSubplot:>"
      ]
     },
     "execution_count": 10,
     "metadata": {},
     "output_type": "execute_result"
    },
    {
     "data": {
      "image/png": "[encoded data removed]",
      "text/plain": [
       "<Figure size 720x360 with 2 Axes>"
      ]
     },
     "metadata": {
      "needs_background": "light"
     },
     "output_type": "display_data"
    }
   ],
   "source": [
    "plt.figure(figsize=(10,5))\n",
    "sns.heatmap(ds.isnull(), cmap='Blues_r')"
   ]
  },
  {
   "cell_type": "markdown",
   "id": "10c4faa5",
   "metadata": {},
   "source": [
    "from above we can see the heatmap of missing values and we can see the missing values are only present in the Transmission Column the white line indicates the Missing values in the visualization"
   ]
  },
  {
   "cell_type": "code",
   "execution_count": 11,
   "id": "0181a77c",
   "metadata": {},
   "outputs": [
    {
     "data": {
      "text/html": [
       "<div>\n",
       "<style scoped>\n",
       "    .dataframe tbody tr th:only-of-type {\n",
       "        vertical-align: middle;\n",
       "    }\n",
       "\n",
       "    .dataframe tbody tr th {\n",
       "        vertical-align: top;\n",
       "    }\n",
       "\n",
       "    .dataframe thead th {\n",
       "        text-align: right;\n",
       "    }\n",
       "</style>\n",
       "<table border=\"1\" class=\"dataframe\">\n",
       "  <thead>\n",
       "    <tr style=\"text-align: right;\">\n",
       "      <th></th>\n",
       "      <th>Name</th>\n",
       "      <th>Model Name</th>\n",
       "      <th>Variant</th>\n",
       "      <th>Owner</th>\n",
       "      <th>Kilometer</th>\n",
       "      <th>Fuel</th>\n",
       "      <th>Transmission</th>\n",
       "      <th>Year of Manufacture</th>\n",
       "      <th>Price</th>\n",
       "    </tr>\n",
       "  </thead>\n",
       "  <tbody>\n",
       "    <tr>\n",
       "      <th>0</th>\n",
       "      <td>Maruti</td>\n",
       "      <td>Baleno</td>\n",
       "      <td>DELTA 1.2 K12</td>\n",
       "      <td>1</td>\n",
       "      <td>3920</td>\n",
       "      <td>Petrol</td>\n",
       "      <td>Manual</td>\n",
       "      <td>2020</td>\n",
       "      <td>659399</td>\n",
       "    </tr>\n",
       "    <tr>\n",
       "      <th>1</th>\n",
       "      <td>Maruti</td>\n",
       "      <td>IGNIS</td>\n",
       "      <td>SIGMA 1.2 K12</td>\n",
       "      <td>1</td>\n",
       "      <td>2206</td>\n",
       "      <td>Petrol</td>\n",
       "      <td>Manual</td>\n",
       "      <td>2020</td>\n",
       "      <td>525699</td>\n",
       "    </tr>\n",
       "    <tr>\n",
       "      <th>2</th>\n",
       "      <td>Maruti</td>\n",
       "      <td>S</td>\n",
       "      <td>VXI</td>\n",
       "      <td>1</td>\n",
       "      <td>3176</td>\n",
       "      <td>Petrol</td>\n",
       "      <td>NaN</td>\n",
       "      <td>2020</td>\n",
       "      <td>408499</td>\n",
       "    </tr>\n",
       "    <tr>\n",
       "      <th>3</th>\n",
       "      <td>Maruti</td>\n",
       "      <td>Swift</td>\n",
       "      <td>VDI</td>\n",
       "      <td>1</td>\n",
       "      <td>11019</td>\n",
       "      <td>Diesel</td>\n",
       "      <td>Manual</td>\n",
       "      <td>2013</td>\n",
       "      <td>378499</td>\n",
       "    </tr>\n",
       "    <tr>\n",
       "      <th>4</th>\n",
       "      <td>Tata</td>\n",
       "      <td>Nano</td>\n",
       "      <td>XT TWIST</td>\n",
       "      <td>1</td>\n",
       "      <td>26554</td>\n",
       "      <td>Petrol</td>\n",
       "      <td>Manual</td>\n",
       "      <td>2015</td>\n",
       "      <td>123499</td>\n",
       "    </tr>\n",
       "  </tbody>\n",
       "</table>\n",
       "</div>"
      ],
      "text/plain": [
       "     Name Model Name         Variant Owner  Kilometer    Fuel Transmission  \\\n",
       "0  Maruti     Baleno  DELTA 1.2 K12      1       3920  Petrol       Manual   \n",
       "1  Maruti      IGNIS  SIGMA 1.2 K12      1       2206  Petrol       Manual   \n",
       "2  Maruti          S             VXI     1       3176  Petrol          NaN   \n",
       "3  Maruti      Swift            VDI      1      11019  Diesel       Manual   \n",
       "4    Tata       Nano       XT TWIST      1      26554  Petrol       Manual   \n",
       "\n",
       "   Year of Manufacture   Price  \n",
       "0                 2020  659399  \n",
       "1                 2020  525699  \n",
       "2                 2020  408499  \n",
       "3                 2013  378499  \n",
       "4                 2015  123499  "
      ]
     },
     "execution_count": 11,
     "metadata": {},
     "output_type": "execute_result"
    }
   ],
   "source": [
    "ds.head()"
   ]
  },
  {
   "cell_type": "markdown",
   "id": "51d4d877",
   "metadata": {},
   "source": [
    "lets now see the value caounts of each columns using ds.value_counts()"
   ]
  },
  {
   "cell_type": "code",
   "execution_count": 12,
   "id": "b380ec7b",
   "metadata": {},
   "outputs": [
    {
     "name": "stdout",
     "output_type": "stream",
     "text": [
      "Audi                  25\n",
      "BMW                   28\n",
      "Bajaj                  1\n",
      "Chevrolet             35\n",
      "Datsun                24\n",
      "Fiat                  10\n",
      "Force Motors           1\n",
      "Ford                 160\n",
      "Hindustan Motors       1\n",
      "Honda                428\n",
      "Hyundai             1078\n",
      "ISUZU                  1\n",
      "Jaguar                 4\n",
      "Jeep                  12\n",
      "KIA                   16\n",
      "Landrover              4\n",
      "MG                    18\n",
      "Mahindra             164\n",
      "Maruti              2317\n",
      "Maruti Suzuki        114\n",
      "Mercedes              24\n",
      "Mercedes-Benz          8\n",
      "Mini                   3\n",
      "Mitsubishi             6\n",
      "Nissan                25\n",
      "Other Brands           2\n",
      "Others                 1\n",
      "Renault              155\n",
      "Royal Enfield          1\n",
      "Skoda                 53\n",
      "Ssangyong              5\n",
      "TOYOTA                 1\n",
      "Tata                 109\n",
      "Toyota               296\n",
      "Volkswagen           182\n",
      "Name: Name, dtype: int64\n",
      "3             8\n",
      "5             6\n",
      "5 Series      4\n",
      "800           4\n",
      "A            26\n",
      "           ... \n",
      "YARIS         5\n",
      "Zen          22\n",
      "Zest          3\n",
      "i10         203\n",
      "i20         153\n",
      "Name: Model Name, Length: 209, dtype: int64\n",
      "1.0 AMBITION TSI MT           1\n",
      "1.0 CLIMBER OPT AMT           1\n",
      "1.0 ECOBOOST TITANIUM OPT     2\n",
      "1.0 LXI (O)                   1\n",
      "1.0 RXL                       1\n",
      "                             ..\n",
      "eCS LX CR4 BS-IV              1\n",
      "i-VTEC CVT V                  1\n",
      "i-VTEC CVT VX                 1\n",
      "i-VTEC V                      2\n",
      "i-VTEC VX                     1\n",
      "Name: Variant, Length: 1156, dtype: int64\n",
      "1     3932\n",
      "2     1190\n",
      "3      168\n",
      "4       19\n",
      "4+       2\n",
      "5        1\n",
      "Name: Owner, dtype: int64\n",
      "CNG & Hybrids      16\n",
      "Diesel           1942\n",
      "LPG                 2\n",
      "Petrol           3157\n",
      "Petrol + CNG      178\n",
      "Petrol + LPG       17\n",
      "Name: Fuel, dtype: int64\n",
      "Automatic     598\n",
      "Manual       4472\n",
      "Name: Transmission, dtype: int64\n"
     ]
    }
   ],
   "source": [
    "for i in ds.columns.drop(['Year of Manufacture','Price','Kilometer'],1):\n",
    "    print(ds[i].value_counts().sort_index(ascending=True))"
   ]
  },
  {
   "cell_type": "markdown",
   "id": "5c6c4cb7",
   "metadata": {},
   "source": [
    "in Name column we can see that we have repeated names but they are understand Differently because of the Names, Spellings, Upper Case, Lower Case so we need to fix those the Cars which has same name are:"
   ]
  },
  {
   "cell_type": "raw",
   "id": "091f10b0",
   "metadata": {},
   "source": [
    "Maruti and Maruti Suzuki\n",
    "Toyota and TOYOTA\n",
    "Mercedes and Mercedes-benz"
   ]
  },
  {
   "cell_type": "markdown",
   "id": "396ca30b",
   "metadata": {},
   "source": [
    "We will fix this in Data Cleaning Part now lets look at Descriptive Statistics using ds.dscribe()"
   ]
  },
  {
   "cell_type": "code",
   "execution_count": 13,
   "id": "fc40a6aa",
   "metadata": {},
   "outputs": [
    {
     "data": {
      "text/html": [
       "<div>\n",
       "<style scoped>\n",
       "    .dataframe tbody tr th:only-of-type {\n",
       "        vertical-align: middle;\n",
       "    }\n",
       "\n",
       "    .dataframe tbody tr th {\n",
       "        vertical-align: top;\n",
       "    }\n",
       "\n",
       "    .dataframe thead th {\n",
       "        text-align: right;\n",
       "    }\n",
       "</style>\n",
       "<table border=\"1\" class=\"dataframe\">\n",
       "  <thead>\n",
       "    <tr style=\"text-align: right;\">\n",
       "      <th></th>\n",
       "      <th>Kilometer</th>\n",
       "      <th>Year of Manufacture</th>\n",
       "      <th>Price</th>\n",
       "    </tr>\n",
       "  </thead>\n",
       "  <tbody>\n",
       "    <tr>\n",
       "      <th>count</th>\n",
       "      <td>5312.000000</td>\n",
       "      <td>5312.000000</td>\n",
       "      <td>5.312000e+03</td>\n",
       "    </tr>\n",
       "    <tr>\n",
       "      <th>mean</th>\n",
       "      <td>63047.338667</td>\n",
       "      <td>2014.387236</td>\n",
       "      <td>5.129699e+05</td>\n",
       "    </tr>\n",
       "    <tr>\n",
       "      <th>std</th>\n",
       "      <td>43397.991034</td>\n",
       "      <td>3.093852</td>\n",
       "      <td>3.968256e+05</td>\n",
       "    </tr>\n",
       "    <tr>\n",
       "      <th>min</th>\n",
       "      <td>0.000000</td>\n",
       "      <td>1991.000000</td>\n",
       "      <td>2.000000e+04</td>\n",
       "    </tr>\n",
       "    <tr>\n",
       "      <th>25%</th>\n",
       "      <td>32137.500000</td>\n",
       "      <td>2012.000000</td>\n",
       "      <td>3.008490e+05</td>\n",
       "    </tr>\n",
       "    <tr>\n",
       "      <th>50%</th>\n",
       "      <td>56683.500000</td>\n",
       "      <td>2015.000000</td>\n",
       "      <td>4.118990e+05</td>\n",
       "    </tr>\n",
       "    <tr>\n",
       "      <th>75%</th>\n",
       "      <td>85000.000000</td>\n",
       "      <td>2017.000000</td>\n",
       "      <td>5.993458e+05</td>\n",
       "    </tr>\n",
       "    <tr>\n",
       "      <th>max</th>\n",
       "      <td>810000.000000</td>\n",
       "      <td>2021.000000</td>\n",
       "      <td>6.500000e+06</td>\n",
       "    </tr>\n",
       "  </tbody>\n",
       "</table>\n",
       "</div>"
      ],
      "text/plain": [
       "           Kilometer  Year of Manufacture         Price\n",
       "count    5312.000000          5312.000000  5.312000e+03\n",
       "mean    63047.338667          2014.387236  5.129699e+05\n",
       "std     43397.991034             3.093852  3.968256e+05\n",
       "min         0.000000          1991.000000  2.000000e+04\n",
       "25%     32137.500000          2012.000000  3.008490e+05\n",
       "50%     56683.500000          2015.000000  4.118990e+05\n",
       "75%     85000.000000          2017.000000  5.993458e+05\n",
       "max    810000.000000          2021.000000  6.500000e+06"
      ]
     },
     "execution_count": 13,
     "metadata": {},
     "output_type": "execute_result"
    }
   ],
   "source": [
    "ds.describe()"
   ]
  },
  {
   "cell_type": "markdown",
   "id": "35f63a6c",
   "metadata": {},
   "source": [
    "from above we get descriptive Statistics for 3 columns as for this we need Numeric Columns and only these 3 columns are numeric type"
   ]
  },
  {
   "cell_type": "markdown",
   "id": "b5b54fbf",
   "metadata": {},
   "source": [
    "lets see Visualization for the Descriptive Statistics using heatmap"
   ]
  },
  {
   "cell_type": "code",
   "execution_count": 14,
   "id": "3cc82adf",
   "metadata": {},
   "outputs": [
    {
     "data": {
      "text/plain": [
       "<AxesSubplot:>"
      ]
     },
     "execution_count": 14,
     "metadata": {},
     "output_type": "execute_result"
    },
    {
     "data": {
      "image/png": "[encoded data removed]",
      "text/plain": [
       "<Figure size 720x360 with 2 Axes>"
      ]
     },
     "metadata": {
      "needs_background": "light"
     },
     "output_type": "display_data"
    }
   ],
   "source": [
    "plt.figure(figsize=(10,5))\n",
    "sns.heatmap(ds.describe(), fmt='.2f',annot=True,cmap='Blues')"
   ]
  },
  {
   "cell_type": "markdown",
   "id": "b4775272",
   "metadata": {},
   "source": [
    "from here we can see that price column has a huge data that can be an Outlier but as price is our output column we will not remove the outliers form that column and as other columns are categoricaL SO we will only remove outliers from Kilometer columns and fix the skewness for that column"
   ]
  },
  {
   "cell_type": "code",
   "execution_count": 15,
   "id": "06f0f9f3",
   "metadata": {},
   "outputs": [
    {
     "data": {
      "text/html": [
       "<div>\n",
       "<style scoped>\n",
       "    .dataframe tbody tr th:only-of-type {\n",
       "        vertical-align: middle;\n",
       "    }\n",
       "\n",
       "    .dataframe tbody tr th {\n",
       "        vertical-align: top;\n",
       "    }\n",
       "\n",
       "    .dataframe thead th {\n",
       "        text-align: right;\n",
       "    }\n",
       "</style>\n",
       "<table border=\"1\" class=\"dataframe\">\n",
       "  <thead>\n",
       "    <tr style=\"text-align: right;\">\n",
       "      <th></th>\n",
       "      <th>Name</th>\n",
       "      <th>Model Name</th>\n",
       "      <th>Variant</th>\n",
       "      <th>Owner</th>\n",
       "      <th>Kilometer</th>\n",
       "      <th>Fuel</th>\n",
       "      <th>Transmission</th>\n",
       "      <th>Year of Manufacture</th>\n",
       "      <th>Price</th>\n",
       "    </tr>\n",
       "  </thead>\n",
       "  <tbody>\n",
       "    <tr>\n",
       "      <th>0</th>\n",
       "      <td>Maruti</td>\n",
       "      <td>Baleno</td>\n",
       "      <td>DELTA 1.2 K12</td>\n",
       "      <td>1</td>\n",
       "      <td>3920</td>\n",
       "      <td>Petrol</td>\n",
       "      <td>Manual</td>\n",
       "      <td>2020</td>\n",
       "      <td>659399</td>\n",
       "    </tr>\n",
       "    <tr>\n",
       "      <th>1</th>\n",
       "      <td>Maruti</td>\n",
       "      <td>IGNIS</td>\n",
       "      <td>SIGMA 1.2 K12</td>\n",
       "      <td>1</td>\n",
       "      <td>2206</td>\n",
       "      <td>Petrol</td>\n",
       "      <td>Manual</td>\n",
       "      <td>2020</td>\n",
       "      <td>525699</td>\n",
       "    </tr>\n",
       "    <tr>\n",
       "      <th>2</th>\n",
       "      <td>Maruti</td>\n",
       "      <td>S</td>\n",
       "      <td>VXI</td>\n",
       "      <td>1</td>\n",
       "      <td>3176</td>\n",
       "      <td>Petrol</td>\n",
       "      <td>NaN</td>\n",
       "      <td>2020</td>\n",
       "      <td>408499</td>\n",
       "    </tr>\n",
       "    <tr>\n",
       "      <th>3</th>\n",
       "      <td>Maruti</td>\n",
       "      <td>Swift</td>\n",
       "      <td>VDI</td>\n",
       "      <td>1</td>\n",
       "      <td>11019</td>\n",
       "      <td>Diesel</td>\n",
       "      <td>Manual</td>\n",
       "      <td>2013</td>\n",
       "      <td>378499</td>\n",
       "    </tr>\n",
       "    <tr>\n",
       "      <th>4</th>\n",
       "      <td>Tata</td>\n",
       "      <td>Nano</td>\n",
       "      <td>XT TWIST</td>\n",
       "      <td>1</td>\n",
       "      <td>26554</td>\n",
       "      <td>Petrol</td>\n",
       "      <td>Manual</td>\n",
       "      <td>2015</td>\n",
       "      <td>123499</td>\n",
       "    </tr>\n",
       "  </tbody>\n",
       "</table>\n",
       "</div>"
      ],
      "text/plain": [
       "     Name Model Name         Variant Owner  Kilometer    Fuel Transmission  \\\n",
       "0  Maruti     Baleno  DELTA 1.2 K12      1       3920  Petrol       Manual   \n",
       "1  Maruti      IGNIS  SIGMA 1.2 K12      1       2206  Petrol       Manual   \n",
       "2  Maruti          S             VXI     1       3176  Petrol          NaN   \n",
       "3  Maruti      Swift            VDI      1      11019  Diesel       Manual   \n",
       "4    Tata       Nano       XT TWIST      1      26554  Petrol       Manual   \n",
       "\n",
       "   Year of Manufacture   Price  \n",
       "0                 2020  659399  \n",
       "1                 2020  525699  \n",
       "2                 2020  408499  \n",
       "3                 2013  378499  \n",
       "4                 2015  123499  "
      ]
     },
     "execution_count": 15,
     "metadata": {},
     "output_type": "execute_result"
    }
   ],
   "source": [
    "ds.head()"
   ]
  },
  {
   "cell_type": "markdown",
   "id": "3b478472",
   "metadata": {},
   "source": [
    "# Data Cleaning"
   ]
  },
  {
   "cell_type": "markdown",
   "id": "89fec2ba",
   "metadata": {},
   "source": [
    "so we need to convert them into same form so that they are categorized as same thing"
   ]
  },
  {
   "cell_type": "code",
   "execution_count": 16,
   "id": "4b909046",
   "metadata": {},
   "outputs": [],
   "source": [
    "ds['Name'] = ds['Name'].replace('Maruti Suzuki','Maruti').replace('TOYOTA','Toyota').replace('Mercedes-Benz','Mercedes')\n"
   ]
  },
  {
   "cell_type": "code",
   "execution_count": 17,
   "id": "0d10c8cc",
   "metadata": {},
   "outputs": [
    {
     "data": {
      "text/plain": [
       "Audi                  25\n",
       "BMW                   28\n",
       "Bajaj                  1\n",
       "Chevrolet             35\n",
       "Datsun                24\n",
       "Fiat                  10\n",
       "Force Motors           1\n",
       "Ford                 160\n",
       "Hindustan Motors       1\n",
       "Honda                428\n",
       "Hyundai             1078\n",
       "ISUZU                  1\n",
       "Jaguar                 4\n",
       "Jeep                  12\n",
       "KIA                   16\n",
       "Landrover              4\n",
       "MG                    18\n",
       "Mahindra             164\n",
       "Maruti              2431\n",
       "Mercedes              32\n",
       "Mini                   3\n",
       "Mitsubishi             6\n",
       "Nissan                25\n",
       "Other Brands           2\n",
       "Others                 1\n",
       "Renault              155\n",
       "Royal Enfield          1\n",
       "Skoda                 53\n",
       "Ssangyong              5\n",
       "Tata                 109\n",
       "Toyota               297\n",
       "Volkswagen           182\n",
       "Name: Name, dtype: int64"
      ]
     },
     "execution_count": 17,
     "metadata": {},
     "output_type": "execute_result"
    }
   ],
   "source": [
    "ds['Name'].value_counts().sort_index(ascending=True)"
   ]
  },
  {
   "cell_type": "markdown",
   "id": "93918f98",
   "metadata": {},
   "source": [
    "from above we can see that we have replaced all the three categories and now it is categorizing those as same thing "
   ]
  },
  {
   "cell_type": "markdown",
   "id": "89d53477",
   "metadata": {},
   "source": [
    "in owner column we can see that there is a category 4+ we will replce with 5 as 4+ Owners can't be 4.5 Owner so we will replace it with 5"
   ]
  },
  {
   "cell_type": "code",
   "execution_count": 18,
   "id": "15ca2653",
   "metadata": {},
   "outputs": [],
   "source": [
    "ds['Owner'] = ds['Owner'].replace('4+', '5')"
   ]
  },
  {
   "cell_type": "code",
   "execution_count": 19,
   "id": "5d45220e",
   "metadata": {},
   "outputs": [
    {
     "data": {
      "text/plain": [
       "1    3932\n",
       "2    1190\n",
       "3     168\n",
       "4      19\n",
       "5       3\n",
       "Name: Owner, dtype: int64"
      ]
     },
     "execution_count": 19,
     "metadata": {},
     "output_type": "execute_result"
    }
   ],
   "source": [
    "ds['Owner'].value_counts()"
   ]
  },
  {
   "cell_type": "markdown",
   "id": "d9ddfe29",
   "metadata": {},
   "source": [
    "from above we can see that we have successfully replaced 4+ with 5"
   ]
  },
  {
   "cell_type": "markdown",
   "id": "e04aef92",
   "metadata": {},
   "source": [
    "lets now see it for other columns to which have more categories"
   ]
  },
  {
   "cell_type": "code",
   "execution_count": 20,
   "id": "06322288",
   "metadata": {},
   "outputs": [
    {
     "data": {
      "text/html": [
       "<div>\n",
       "<style scoped>\n",
       "    .dataframe tbody tr th:only-of-type {\n",
       "        vertical-align: middle;\n",
       "    }\n",
       "\n",
       "    .dataframe tbody tr th {\n",
       "        vertical-align: top;\n",
       "    }\n",
       "\n",
       "    .dataframe thead th {\n",
       "        text-align: right;\n",
       "    }\n",
       "</style>\n",
       "<table border=\"1\" class=\"dataframe\">\n",
       "  <thead>\n",
       "    <tr style=\"text-align: right;\">\n",
       "      <th></th>\n",
       "      <th>Name</th>\n",
       "      <th>Model Name</th>\n",
       "      <th>Variant</th>\n",
       "      <th>Owner</th>\n",
       "      <th>Kilometer</th>\n",
       "      <th>Fuel</th>\n",
       "      <th>Transmission</th>\n",
       "      <th>Year of Manufacture</th>\n",
       "      <th>Price</th>\n",
       "    </tr>\n",
       "  </thead>\n",
       "  <tbody>\n",
       "    <tr>\n",
       "      <th>0</th>\n",
       "      <td>Maruti</td>\n",
       "      <td>Baleno</td>\n",
       "      <td>DELTA 1.2 K12</td>\n",
       "      <td>1</td>\n",
       "      <td>3920</td>\n",
       "      <td>Petrol</td>\n",
       "      <td>Manual</td>\n",
       "      <td>2020</td>\n",
       "      <td>659399</td>\n",
       "    </tr>\n",
       "    <tr>\n",
       "      <th>1</th>\n",
       "      <td>Maruti</td>\n",
       "      <td>IGNIS</td>\n",
       "      <td>SIGMA 1.2 K12</td>\n",
       "      <td>1</td>\n",
       "      <td>2206</td>\n",
       "      <td>Petrol</td>\n",
       "      <td>Manual</td>\n",
       "      <td>2020</td>\n",
       "      <td>525699</td>\n",
       "    </tr>\n",
       "    <tr>\n",
       "      <th>2</th>\n",
       "      <td>Maruti</td>\n",
       "      <td>S</td>\n",
       "      <td>VXI</td>\n",
       "      <td>1</td>\n",
       "      <td>3176</td>\n",
       "      <td>Petrol</td>\n",
       "      <td>NaN</td>\n",
       "      <td>2020</td>\n",
       "      <td>408499</td>\n",
       "    </tr>\n",
       "    <tr>\n",
       "      <th>3</th>\n",
       "      <td>Maruti</td>\n",
       "      <td>Swift</td>\n",
       "      <td>VDI</td>\n",
       "      <td>1</td>\n",
       "      <td>11019</td>\n",
       "      <td>Diesel</td>\n",
       "      <td>Manual</td>\n",
       "      <td>2013</td>\n",
       "      <td>378499</td>\n",
       "    </tr>\n",
       "    <tr>\n",
       "      <th>4</th>\n",
       "      <td>Tata</td>\n",
       "      <td>Nano</td>\n",
       "      <td>XT TWIST</td>\n",
       "      <td>1</td>\n",
       "      <td>26554</td>\n",
       "      <td>Petrol</td>\n",
       "      <td>Manual</td>\n",
       "      <td>2015</td>\n",
       "      <td>123499</td>\n",
       "    </tr>\n",
       "  </tbody>\n",
       "</table>\n",
       "</div>"
      ],
      "text/plain": [
       "     Name Model Name         Variant Owner  Kilometer    Fuel Transmission  \\\n",
       "0  Maruti     Baleno  DELTA 1.2 K12      1       3920  Petrol       Manual   \n",
       "1  Maruti      IGNIS  SIGMA 1.2 K12      1       2206  Petrol       Manual   \n",
       "2  Maruti          S             VXI     1       3176  Petrol          NaN   \n",
       "3  Maruti      Swift            VDI      1      11019  Diesel       Manual   \n",
       "4    Tata       Nano       XT TWIST      1      26554  Petrol       Manual   \n",
       "\n",
       "   Year of Manufacture   Price  \n",
       "0                 2020  659399  \n",
       "1                 2020  525699  \n",
       "2                 2020  408499  \n",
       "3                 2013  378499  \n",
       "4                 2015  123499  "
      ]
     },
     "execution_count": 20,
     "metadata": {},
     "output_type": "execute_result"
    }
   ],
   "source": [
    "ds.head()"
   ]
  },
  {
   "cell_type": "code",
   "execution_count": 21,
   "id": "53924337",
   "metadata": {},
   "outputs": [],
   "source": [
    "ds['Model Name'] =ds['Model Name'].replace('5','5 Series').replace('A','A Class').replace('Elite','Elite i20').replace('Eon','EON').replace('Hector','HECTOR').replace('IGNIS','Ignis').replace('KWID','Kwid').replace('NEW','New').replace('OMNi','Omni').replace('S','S-Cross').replace('S Cross','S-cross').replace('Triber','TRIBER').replace(\"VENUE\",'Venue').replace('Wagon','Wagon R').replace('XUV','XUV300')"
   ]
  },
  {
   "cell_type": "code",
   "execution_count": 22,
   "id": "ad7e7fe7",
   "metadata": {},
   "outputs": [],
   "source": [
    "ds['Variant'] = ds['Variant'].str.upper()"
   ]
  },
  {
   "cell_type": "code",
   "execution_count": 23,
   "id": "144ffc82",
   "metadata": {},
   "outputs": [
    {
     "data": {
      "text/html": [
       "<div>\n",
       "<style scoped>\n",
       "    .dataframe tbody tr th:only-of-type {\n",
       "        vertical-align: middle;\n",
       "    }\n",
       "\n",
       "    .dataframe tbody tr th {\n",
       "        vertical-align: top;\n",
       "    }\n",
       "\n",
       "    .dataframe thead th {\n",
       "        text-align: right;\n",
       "    }\n",
       "</style>\n",
       "<table border=\"1\" class=\"dataframe\">\n",
       "  <thead>\n",
       "    <tr style=\"text-align: right;\">\n",
       "      <th></th>\n",
       "      <th>Name</th>\n",
       "      <th>Model Name</th>\n",
       "      <th>Variant</th>\n",
       "      <th>Owner</th>\n",
       "      <th>Kilometer</th>\n",
       "      <th>Fuel</th>\n",
       "      <th>Transmission</th>\n",
       "      <th>Year of Manufacture</th>\n",
       "      <th>Price</th>\n",
       "    </tr>\n",
       "  </thead>\n",
       "  <tbody>\n",
       "    <tr>\n",
       "      <th>0</th>\n",
       "      <td>Maruti</td>\n",
       "      <td>Baleno</td>\n",
       "      <td>DELTA 1.2 K12</td>\n",
       "      <td>1</td>\n",
       "      <td>3920</td>\n",
       "      <td>Petrol</td>\n",
       "      <td>Manual</td>\n",
       "      <td>2020</td>\n",
       "      <td>659399</td>\n",
       "    </tr>\n",
       "    <tr>\n",
       "      <th>1</th>\n",
       "      <td>Maruti</td>\n",
       "      <td>Ignis</td>\n",
       "      <td>SIGMA 1.2 K12</td>\n",
       "      <td>1</td>\n",
       "      <td>2206</td>\n",
       "      <td>Petrol</td>\n",
       "      <td>Manual</td>\n",
       "      <td>2020</td>\n",
       "      <td>525699</td>\n",
       "    </tr>\n",
       "    <tr>\n",
       "      <th>2</th>\n",
       "      <td>Maruti</td>\n",
       "      <td>S-Cross</td>\n",
       "      <td>VXI</td>\n",
       "      <td>1</td>\n",
       "      <td>3176</td>\n",
       "      <td>Petrol</td>\n",
       "      <td>NaN</td>\n",
       "      <td>2020</td>\n",
       "      <td>408499</td>\n",
       "    </tr>\n",
       "    <tr>\n",
       "      <th>3</th>\n",
       "      <td>Maruti</td>\n",
       "      <td>Swift</td>\n",
       "      <td>VDI</td>\n",
       "      <td>1</td>\n",
       "      <td>11019</td>\n",
       "      <td>Diesel</td>\n",
       "      <td>Manual</td>\n",
       "      <td>2013</td>\n",
       "      <td>378499</td>\n",
       "    </tr>\n",
       "    <tr>\n",
       "      <th>4</th>\n",
       "      <td>Tata</td>\n",
       "      <td>Nano</td>\n",
       "      <td>XT TWIST</td>\n",
       "      <td>1</td>\n",
       "      <td>26554</td>\n",
       "      <td>Petrol</td>\n",
       "      <td>Manual</td>\n",
       "      <td>2015</td>\n",
       "      <td>123499</td>\n",
       "    </tr>\n",
       "  </tbody>\n",
       "</table>\n",
       "</div>"
      ],
      "text/plain": [
       "     Name Model Name         Variant Owner  Kilometer    Fuel Transmission  \\\n",
       "0  Maruti     Baleno  DELTA 1.2 K12      1       3920  Petrol       Manual   \n",
       "1  Maruti      Ignis  SIGMA 1.2 K12      1       2206  Petrol       Manual   \n",
       "2  Maruti    S-Cross             VXI     1       3176  Petrol          NaN   \n",
       "3  Maruti      Swift            VDI      1      11019  Diesel       Manual   \n",
       "4    Tata       Nano       XT TWIST      1      26554  Petrol       Manual   \n",
       "\n",
       "   Year of Manufacture   Price  \n",
       "0                 2020  659399  \n",
       "1                 2020  525699  \n",
       "2                 2020  408499  \n",
       "3                 2013  378499  \n",
       "4                 2015  123499  "
      ]
     },
     "execution_count": 23,
     "metadata": {},
     "output_type": "execute_result"
    }
   ],
   "source": [
    "ds.head()"
   ]
  },
  {
   "cell_type": "markdown",
   "id": "66047dfd",
   "metadata": {},
   "source": [
    "lets now remove Nan values from the Transmission Column"
   ]
  },
  {
   "cell_type": "code",
   "execution_count": 24,
   "id": "4879cdee",
   "metadata": {},
   "outputs": [],
   "source": [
    "ds['Transmission'].fillna(ds['Transmission'].mode()[0], inplace=True)"
   ]
  },
  {
   "cell_type": "markdown",
   "id": "a26294c0",
   "metadata": {},
   "source": [
    "from above we can see that we have replaced the Nan Values with the mode of the Transmission Column that is  Manual"
   ]
  },
  {
   "cell_type": "markdown",
   "id": "f9e89adc",
   "metadata": {},
   "source": [
    "lets create another column name Age of Cars in our Dataset"
   ]
  },
  {
   "cell_type": "code",
   "execution_count": 25,
   "id": "8e432f6e",
   "metadata": {},
   "outputs": [],
   "source": [
    "ds['Age of Car'] = 2021 - ds['Year of Manufacture']\n",
    "ds.drop('Year of Manufacture',1,inplace=True)"
   ]
  },
  {
   "cell_type": "markdown",
   "id": "89a22dea",
   "metadata": {},
   "source": [
    "# EDA Process"
   ]
  },
  {
   "cell_type": "code",
   "execution_count": 26,
   "id": "079a4cb9",
   "metadata": {},
   "outputs": [
    {
     "data": {
      "text/html": [
       "<div>\n",
       "<style scoped>\n",
       "    .dataframe tbody tr th:only-of-type {\n",
       "        vertical-align: middle;\n",
       "    }\n",
       "\n",
       "    .dataframe tbody tr th {\n",
       "        vertical-align: top;\n",
       "    }\n",
       "\n",
       "    .dataframe thead th {\n",
       "        text-align: right;\n",
       "    }\n",
       "</style>\n",
       "<table border=\"1\" class=\"dataframe\">\n",
       "  <thead>\n",
       "    <tr style=\"text-align: right;\">\n",
       "      <th></th>\n",
       "      <th>Name</th>\n",
       "      <th>Model Name</th>\n",
       "      <th>Variant</th>\n",
       "      <th>Owner</th>\n",
       "      <th>Kilometer</th>\n",
       "      <th>Fuel</th>\n",
       "      <th>Transmission</th>\n",
       "      <th>Price</th>\n",
       "      <th>Age of Car</th>\n",
       "    </tr>\n",
       "  </thead>\n",
       "  <tbody>\n",
       "    <tr>\n",
       "      <th>0</th>\n",
       "      <td>Maruti</td>\n",
       "      <td>Baleno</td>\n",
       "      <td>DELTA 1.2 K12</td>\n",
       "      <td>1</td>\n",
       "      <td>3920</td>\n",
       "      <td>Petrol</td>\n",
       "      <td>Manual</td>\n",
       "      <td>659399</td>\n",
       "      <td>1</td>\n",
       "    </tr>\n",
       "    <tr>\n",
       "      <th>1</th>\n",
       "      <td>Maruti</td>\n",
       "      <td>Ignis</td>\n",
       "      <td>SIGMA 1.2 K12</td>\n",
       "      <td>1</td>\n",
       "      <td>2206</td>\n",
       "      <td>Petrol</td>\n",
       "      <td>Manual</td>\n",
       "      <td>525699</td>\n",
       "      <td>1</td>\n",
       "    </tr>\n",
       "    <tr>\n",
       "      <th>2</th>\n",
       "      <td>Maruti</td>\n",
       "      <td>S-Cross</td>\n",
       "      <td>VXI</td>\n",
       "      <td>1</td>\n",
       "      <td>3176</td>\n",
       "      <td>Petrol</td>\n",
       "      <td>Manual</td>\n",
       "      <td>408499</td>\n",
       "      <td>1</td>\n",
       "    </tr>\n",
       "    <tr>\n",
       "      <th>3</th>\n",
       "      <td>Maruti</td>\n",
       "      <td>Swift</td>\n",
       "      <td>VDI</td>\n",
       "      <td>1</td>\n",
       "      <td>11019</td>\n",
       "      <td>Diesel</td>\n",
       "      <td>Manual</td>\n",
       "      <td>378499</td>\n",
       "      <td>8</td>\n",
       "    </tr>\n",
       "    <tr>\n",
       "      <th>4</th>\n",
       "      <td>Tata</td>\n",
       "      <td>Nano</td>\n",
       "      <td>XT TWIST</td>\n",
       "      <td>1</td>\n",
       "      <td>26554</td>\n",
       "      <td>Petrol</td>\n",
       "      <td>Manual</td>\n",
       "      <td>123499</td>\n",
       "      <td>6</td>\n",
       "    </tr>\n",
       "  </tbody>\n",
       "</table>\n",
       "</div>"
      ],
      "text/plain": [
       "     Name Model Name         Variant Owner  Kilometer    Fuel Transmission  \\\n",
       "0  Maruti     Baleno  DELTA 1.2 K12      1       3920  Petrol       Manual   \n",
       "1  Maruti      Ignis  SIGMA 1.2 K12      1       2206  Petrol       Manual   \n",
       "2  Maruti    S-Cross             VXI     1       3176  Petrol       Manual   \n",
       "3  Maruti      Swift            VDI      1      11019  Diesel       Manual   \n",
       "4    Tata       Nano       XT TWIST      1      26554  Petrol       Manual   \n",
       "\n",
       "    Price  Age of Car  \n",
       "0  659399           1  \n",
       "1  525699           1  \n",
       "2  408499           1  \n",
       "3  378499           8  \n",
       "4  123499           6  "
      ]
     },
     "execution_count": 26,
     "metadata": {},
     "output_type": "execute_result"
    }
   ],
   "source": [
    "ds.head()"
   ]
  },
  {
   "cell_type": "code",
   "execution_count": 27,
   "id": "97c7d8f4",
   "metadata": {},
   "outputs": [
    {
     "name": "stdout",
     "output_type": "stream",
     "text": [
      "Maruti              2431\n",
      "Hyundai             1078\n",
      "Honda                428\n",
      "Toyota               297\n",
      "Volkswagen           182\n",
      "Mahindra             164\n",
      "Ford                 160\n",
      "Renault              155\n",
      "Tata                 109\n",
      "Skoda                 53\n",
      "Chevrolet             35\n",
      "Mercedes              32\n",
      "BMW                   28\n",
      "Audi                  25\n",
      "Nissan                25\n",
      "Datsun                24\n",
      "MG                    18\n",
      "KIA                   16\n",
      "Jeep                  12\n",
      "Fiat                  10\n",
      "Mitsubishi             6\n",
      "Ssangyong              5\n",
      "Landrover              4\n",
      "Jaguar                 4\n",
      "Mini                   3\n",
      "Other Brands           2\n",
      "Royal Enfield          1\n",
      "Hindustan Motors       1\n",
      "Force Motors           1\n",
      "ISUZU                  1\n",
      "Others                 1\n",
      "Bajaj                  1\n",
      "Name: Name, dtype: int64\n"
     ]
    },
    {
     "data": {
      "image/png": "[encoded data removed]",
      "text/plain": [
       "<Figure size 2160x1080 with 1 Axes>"
      ]
     },
     "metadata": {
      "needs_background": "light"
     },
     "output_type": "display_data"
    }
   ],
   "source": [
    "plt.figure(figsize=(30,15))\n",
    "sns.countplot(ds['Name'], palette='light:b')\n",
    "print(ds['Name'].value_counts())"
   ]
  },
  {
   "cell_type": "markdown",
   "id": "30541e5b",
   "metadata": {},
   "source": [
    "from above graph we can see that most data is from Maruti Company followed by Hyundai"
   ]
  },
  {
   "cell_type": "code",
   "execution_count": 28,
   "id": "1f5fd76f",
   "metadata": {},
   "outputs": [
    {
     "name": "stdout",
     "output_type": "stream",
     "text": [
      "1    3932\n",
      "2    1190\n",
      "3     168\n",
      "4      19\n",
      "5       3\n",
      "Name: Owner, dtype: int64\n"
     ]
    },
    {
     "data": {
      "image/png": "[encoded data removed]",
      "text/plain": [
       "<Figure size 720x360 with 1 Axes>"
      ]
     },
     "metadata": {
      "needs_background": "light"
     },
     "output_type": "display_data"
    }
   ],
   "source": [
    "plt.figure(figsize=(10,5))\n",
    "sns.countplot(ds['Owner'], palette='viridis')\n",
    "print(ds['Owner'].value_counts())"
   ]
  },
  {
   "cell_type": "markdown",
   "id": "a236a9ea",
   "metadata": {},
   "source": [
    "from above we can see that in our dataset the car which are present has been Sold by 1st Owner followed by 2nd Owner"
   ]
  },
  {
   "cell_type": "code",
   "execution_count": 29,
   "id": "65b087ba",
   "metadata": {},
   "outputs": [
    {
     "name": "stdout",
     "output_type": "stream",
     "text": [
      "Petrol           3157\n",
      "Diesel           1942\n",
      "Petrol + CNG      178\n",
      "Petrol + LPG       17\n",
      "CNG & Hybrids      16\n",
      "LPG                 2\n",
      "Name: Fuel, dtype: int64\n"
     ]
    },
    {
     "data": {
      "image/png": "[encoded data removed]",
      "text/plain": [
       "<Figure size 864x432 with 1 Axes>"
      ]
     },
     "metadata": {
      "needs_background": "light"
     },
     "output_type": "display_data"
    }
   ],
   "source": [
    "plt.figure(figsize=(12,6))\n",
    "sns.countplot(ds['Fuel'], palette='icefire')\n",
    "print(ds['Fuel'].value_counts())"
   ]
  },
  {
   "cell_type": "markdown",
   "id": "e1dd5408",
   "metadata": {},
   "source": [
    "from above we can see that most of the Cars in our dataset has Fuel type as Petrol followed By Diesel and We also has some Hybrid Cars in our dataset"
   ]
  },
  {
   "cell_type": "code",
   "execution_count": 30,
   "id": "58225563",
   "metadata": {},
   "outputs": [
    {
     "name": "stdout",
     "output_type": "stream",
     "text": [
      "Manual       4714\n",
      "Automatic     598\n",
      "Name: Transmission, dtype: int64\n"
     ]
    },
    {
     "data": {
      "image/png": "[encoded data removed]",
      "text/plain": [
       "<Figure size 864x432 with 1 Axes>"
      ]
     },
     "metadata": {
      "needs_background": "light"
     },
     "output_type": "display_data"
    }
   ],
   "source": [
    "plt.figure(figsize=(12,6))\n",
    "sns.countplot(ds['Transmission'], palette='coolwarm')\n",
    "print(ds['Transmission'].value_counts())"
   ]
  },
  {
   "cell_type": "markdown",
   "id": "6f353ec1",
   "metadata": {},
   "source": [
    "from above we can see that most of the Cars in our dataset has Manual Transmission"
   ]
  },
  {
   "cell_type": "code",
   "execution_count": 31,
   "id": "761a6c81",
   "metadata": {},
   "outputs": [
    {
     "data": {
      "text/plain": [
       "<seaborn.axisgrid.FacetGrid at 0x1a611d5d130>"
      ]
     },
     "execution_count": 31,
     "metadata": {},
     "output_type": "execute_result"
    },
    {
     "data": {
      "text/plain": [
       "<Figure size 864x432 with 0 Axes>"
      ]
     },
     "metadata": {},
     "output_type": "display_data"
    },
    {
     "data": {
      "image/png": "[encoded data removed]",
      "text/plain": [
       "<Figure size 360x360 with 1 Axes>"
      ]
     },
     "metadata": {
      "needs_background": "light"
     },
     "output_type": "display_data"
    }
   ],
   "source": [
    "plt.figure(figsize=(12,6))\n",
    "sns.displot(ds['Age of Car'])"
   ]
  },
  {
   "cell_type": "markdown",
   "id": "90af8e82",
   "metadata": {},
   "source": [
    "from above we can see that most of the cars in our dataset are 7 years old"
   ]
  },
  {
   "cell_type": "code",
   "execution_count": 32,
   "id": "c9776287",
   "metadata": {},
   "outputs": [
    {
     "data": {
      "text/plain": [
       "<AxesSubplot:xlabel='Kilometer'>"
      ]
     },
     "execution_count": 32,
     "metadata": {},
     "output_type": "execute_result"
    },
    {
     "data": {
      "image/png": "[encoded data removed]",
      "text/plain": [
       "<Figure size 720x360 with 1 Axes>"
      ]
     },
     "metadata": {
      "needs_background": "light"
     },
     "output_type": "display_data"
    }
   ],
   "source": [
    "plt.figure(figsize=(10,5))\n",
    "sns.scatterplot(ds['Kilometer'],ds.index)"
   ]
  },
  {
   "cell_type": "markdown",
   "id": "0454ffd0",
   "metadata": {},
   "source": [
    "from above graph we can see that most of our cars has used for less than 300000 kilometers and there are some of them which has used for more that 500000 kilometers they can be outliers we will fix them in Data Preprocessing Part"
   ]
  },
  {
   "cell_type": "code",
   "execution_count": 33,
   "id": "ddc43e19",
   "metadata": {},
   "outputs": [
    {
     "data": {
      "text/plain": [
       "<seaborn.axisgrid.FacetGrid at 0x1a61227af10>"
      ]
     },
     "execution_count": 33,
     "metadata": {},
     "output_type": "execute_result"
    },
    {
     "data": {
      "text/plain": [
       "<Figure size 720x360 with 0 Axes>"
      ]
     },
     "metadata": {},
     "output_type": "display_data"
    },
    {
     "data": {
      "image/png": "[encoded data removed]",
      "text/plain": [
       "<Figure size 360x360 with 1 Axes>"
      ]
     },
     "metadata": {
      "needs_background": "light"
     },
     "output_type": "display_data"
    }
   ],
   "source": [
    "plt.figure(figsize=(10,5))\n",
    "sns.displot(ds['Price'])"
   ]
  },
  {
   "cell_type": "markdown",
   "id": "94f9569c",
   "metadata": {},
   "source": [
    "from above graph we can see that most of the cars in the data set is between 0.5 million to 1 million Rupees and some of the Cars are priced over 6 million"
   ]
  },
  {
   "cell_type": "code",
   "execution_count": 34,
   "id": "97c06490",
   "metadata": {},
   "outputs": [
    {
     "data": {
      "text/html": [
       "<div>\n",
       "<style scoped>\n",
       "    .dataframe tbody tr th:only-of-type {\n",
       "        vertical-align: middle;\n",
       "    }\n",
       "\n",
       "    .dataframe tbody tr th {\n",
       "        vertical-align: top;\n",
       "    }\n",
       "\n",
       "    .dataframe thead th {\n",
       "        text-align: right;\n",
       "    }\n",
       "</style>\n",
       "<table border=\"1\" class=\"dataframe\">\n",
       "  <thead>\n",
       "    <tr style=\"text-align: right;\">\n",
       "      <th></th>\n",
       "      <th>Name</th>\n",
       "      <th>Model Name</th>\n",
       "      <th>Variant</th>\n",
       "      <th>Owner</th>\n",
       "      <th>Kilometer</th>\n",
       "      <th>Fuel</th>\n",
       "      <th>Transmission</th>\n",
       "      <th>Price</th>\n",
       "      <th>Age of Car</th>\n",
       "    </tr>\n",
       "  </thead>\n",
       "  <tbody>\n",
       "    <tr>\n",
       "      <th>0</th>\n",
       "      <td>Maruti</td>\n",
       "      <td>Baleno</td>\n",
       "      <td>DELTA 1.2 K12</td>\n",
       "      <td>1</td>\n",
       "      <td>3920</td>\n",
       "      <td>Petrol</td>\n",
       "      <td>Manual</td>\n",
       "      <td>659399</td>\n",
       "      <td>1</td>\n",
       "    </tr>\n",
       "    <tr>\n",
       "      <th>1</th>\n",
       "      <td>Maruti</td>\n",
       "      <td>Ignis</td>\n",
       "      <td>SIGMA 1.2 K12</td>\n",
       "      <td>1</td>\n",
       "      <td>2206</td>\n",
       "      <td>Petrol</td>\n",
       "      <td>Manual</td>\n",
       "      <td>525699</td>\n",
       "      <td>1</td>\n",
       "    </tr>\n",
       "    <tr>\n",
       "      <th>2</th>\n",
       "      <td>Maruti</td>\n",
       "      <td>S-Cross</td>\n",
       "      <td>VXI</td>\n",
       "      <td>1</td>\n",
       "      <td>3176</td>\n",
       "      <td>Petrol</td>\n",
       "      <td>Manual</td>\n",
       "      <td>408499</td>\n",
       "      <td>1</td>\n",
       "    </tr>\n",
       "    <tr>\n",
       "      <th>3</th>\n",
       "      <td>Maruti</td>\n",
       "      <td>Swift</td>\n",
       "      <td>VDI</td>\n",
       "      <td>1</td>\n",
       "      <td>11019</td>\n",
       "      <td>Diesel</td>\n",
       "      <td>Manual</td>\n",
       "      <td>378499</td>\n",
       "      <td>8</td>\n",
       "    </tr>\n",
       "    <tr>\n",
       "      <th>4</th>\n",
       "      <td>Tata</td>\n",
       "      <td>Nano</td>\n",
       "      <td>XT TWIST</td>\n",
       "      <td>1</td>\n",
       "      <td>26554</td>\n",
       "      <td>Petrol</td>\n",
       "      <td>Manual</td>\n",
       "      <td>123499</td>\n",
       "      <td>6</td>\n",
       "    </tr>\n",
       "  </tbody>\n",
       "</table>\n",
       "</div>"
      ],
      "text/plain": [
       "     Name Model Name         Variant Owner  Kilometer    Fuel Transmission  \\\n",
       "0  Maruti     Baleno  DELTA 1.2 K12      1       3920  Petrol       Manual   \n",
       "1  Maruti      Ignis  SIGMA 1.2 K12      1       2206  Petrol       Manual   \n",
       "2  Maruti    S-Cross             VXI     1       3176  Petrol       Manual   \n",
       "3  Maruti      Swift            VDI      1      11019  Diesel       Manual   \n",
       "4    Tata       Nano       XT TWIST      1      26554  Petrol       Manual   \n",
       "\n",
       "    Price  Age of Car  \n",
       "0  659399           1  \n",
       "1  525699           1  \n",
       "2  408499           1  \n",
       "3  378499           8  \n",
       "4  123499           6  "
      ]
     },
     "execution_count": 34,
     "metadata": {},
     "output_type": "execute_result"
    }
   ],
   "source": [
    "ds.head()"
   ]
  },
  {
   "cell_type": "code",
   "execution_count": 35,
   "id": "10251611",
   "metadata": {},
   "outputs": [
    {
     "data": {
      "text/plain": [
       "<AxesSubplot:xlabel='Name', ylabel='Price'>"
      ]
     },
     "execution_count": 35,
     "metadata": {},
     "output_type": "execute_result"
    },
    {
     "data": {
      "image/png": "[encoded data removed]",
      "text/plain": [
       "<Figure size 2160x1080 with 1 Axes>"
      ]
     },
     "metadata": {
      "needs_background": "light"
     },
     "output_type": "display_data"
    }
   ],
   "source": [
    "plt.figure(figsize = (30,15))\n",
    "sns.barplot(ds['Name'],ds['Price'], palette='rocket')"
   ]
  },
  {
   "cell_type": "markdown",
   "id": "b4c91662",
   "metadata": {},
   "source": [
    "from above we can see that Toyota, Jaguar, Skoda, Honda has better selling Price in the market than other Car Companies"
   ]
  },
  {
   "cell_type": "code",
   "execution_count": 36,
   "id": "6e54afb7",
   "metadata": {},
   "outputs": [
    {
     "data": {
      "text/plain": [
       "<AxesSubplot:xlabel='Owner', ylabel='Price'>"
      ]
     },
     "execution_count": 36,
     "metadata": {},
     "output_type": "execute_result"
    },
    {
     "data": {
      "image/png": "[encoded data removed]",
      "text/plain": [
       "<Figure size 720x360 with 1 Axes>"
      ]
     },
     "metadata": {
      "needs_background": "light"
     },
     "output_type": "display_data"
    }
   ],
   "source": [
    "plt.figure(figsize = (10,5))\n",
    "sns.barplot(ds['Owner'],ds['Price'], palette='rocket_r')"
   ]
  },
  {
   "cell_type": "raw",
   "id": "ca3ea2ea",
   "metadata": {},
   "source": [
    "from above we can see that selling price of 2 owner is Highest followed by 1 owner\n",
    "we can also see if the owner exceeds 2 then the selling price goes down drastically"
   ]
  },
  {
   "cell_type": "code",
   "execution_count": 37,
   "id": "7afc830d",
   "metadata": {},
   "outputs": [
    {
     "data": {
      "text/plain": [
       "<AxesSubplot:xlabel='Fuel', ylabel='Price'>"
      ]
     },
     "execution_count": 37,
     "metadata": {},
     "output_type": "execute_result"
    },
    {
     "data": {
      "image/png": "[encoded data removed]",
      "text/plain": [
       "<Figure size 720x360 with 1 Axes>"
      ]
     },
     "metadata": {
      "needs_background": "light"
     },
     "output_type": "display_data"
    }
   ],
   "source": [
    "plt.figure(figsize = (10,5))\n",
    "sns.barplot(ds['Fuel'],ds['Price'], palette='ch:start=.2,rot=-.3')"
   ]
  },
  {
   "cell_type": "markdown",
   "id": "7329fc7f",
   "metadata": {},
   "source": [
    "from above we can see Diesel engine has higher selling price as compared to other type of Engines"
   ]
  },
  {
   "cell_type": "code",
   "execution_count": 38,
   "id": "ce9bcbb8",
   "metadata": {},
   "outputs": [
    {
     "data": {
      "text/plain": [
       "<AxesSubplot:xlabel='Transmission', ylabel='Price'>"
      ]
     },
     "execution_count": 38,
     "metadata": {},
     "output_type": "execute_result"
    },
    {
     "data": {
      "image/png": "[encoded data removed]",
      "text/plain": [
       "<Figure size 720x720 with 1 Axes>"
      ]
     },
     "metadata": {
      "needs_background": "light"
     },
     "output_type": "display_data"
    }
   ],
   "source": [
    "plt.figure(figsize = (10,10))\n",
    "sns.barplot(ds['Transmission'],ds['Price'], palette='viridis')"
   ]
  },
  {
   "cell_type": "markdown",
   "id": "721b2ac9",
   "metadata": {},
   "source": [
    "from above we can see that Automatic Transmission has Higher price than Manual Transmission i.e Technology has Higher price"
   ]
  },
  {
   "cell_type": "code",
   "execution_count": 39,
   "id": "b7513778",
   "metadata": {},
   "outputs": [
    {
     "data": {
      "text/plain": [
       "<AxesSubplot:xlabel='Age of Car', ylabel='Price'>"
      ]
     },
     "execution_count": 39,
     "metadata": {},
     "output_type": "execute_result"
    },
    {
     "data": {
      "image/png": "[encoded data removed]",
      "text/plain": [
       "<Figure size 720x720 with 1 Axes>"
      ]
     },
     "metadata": {
      "needs_background": "light"
     },
     "output_type": "display_data"
    }
   ],
   "source": [
    "plt.figure(figsize = (10,10))\n",
    "sns.barplot(ds['Age of Car'],ds['Price'], palette='vlag')"
   ]
  },
  {
   "cell_type": "markdown",
   "id": "e9bacedd",
   "metadata": {},
   "source": [
    "from above we can see that as the age of the car increases the price of the car decreases its natural but we have cares which is 25 but the selling value of the car is high we will see if it is a ourlier or not and then we will fix it"
   ]
  },
  {
   "cell_type": "code",
   "execution_count": 40,
   "id": "2b8d79bc",
   "metadata": {},
   "outputs": [
    {
     "data": {
      "text/plain": [
       "<seaborn.axisgrid.PairGrid at 0x1a611ec2e20>"
      ]
     },
     "execution_count": 40,
     "metadata": {},
     "output_type": "execute_result"
    },
    {
     "data": {
      "image/png": "[encoded data removed]",
      "text/plain": [
       "<Figure size 540x540 with 12 Axes>"
      ]
     },
     "metadata": {
      "needs_background": "light"
     },
     "output_type": "display_data"
    }
   ],
   "source": [
    "sns.pairplot(ds)"
   ]
  },
  {
   "cell_type": "code",
   "execution_count": 41,
   "id": "e2da728b",
   "metadata": {},
   "outputs": [
    {
     "data": {
      "text/html": [
       "<div>\n",
       "<style scoped>\n",
       "    .dataframe tbody tr th:only-of-type {\n",
       "        vertical-align: middle;\n",
       "    }\n",
       "\n",
       "    .dataframe tbody tr th {\n",
       "        vertical-align: top;\n",
       "    }\n",
       "\n",
       "    .dataframe thead th {\n",
       "        text-align: right;\n",
       "    }\n",
       "</style>\n",
       "<table border=\"1\" class=\"dataframe\">\n",
       "  <thead>\n",
       "    <tr style=\"text-align: right;\">\n",
       "      <th></th>\n",
       "      <th>Name</th>\n",
       "      <th>Model Name</th>\n",
       "      <th>Variant</th>\n",
       "      <th>Owner</th>\n",
       "      <th>Kilometer</th>\n",
       "      <th>Fuel</th>\n",
       "      <th>Transmission</th>\n",
       "      <th>Price</th>\n",
       "      <th>Age of Car</th>\n",
       "    </tr>\n",
       "  </thead>\n",
       "  <tbody>\n",
       "    <tr>\n",
       "      <th>0</th>\n",
       "      <td>Maruti</td>\n",
       "      <td>Baleno</td>\n",
       "      <td>DELTA 1.2 K12</td>\n",
       "      <td>1</td>\n",
       "      <td>3920</td>\n",
       "      <td>Petrol</td>\n",
       "      <td>Manual</td>\n",
       "      <td>659399</td>\n",
       "      <td>1</td>\n",
       "    </tr>\n",
       "    <tr>\n",
       "      <th>1</th>\n",
       "      <td>Maruti</td>\n",
       "      <td>Ignis</td>\n",
       "      <td>SIGMA 1.2 K12</td>\n",
       "      <td>1</td>\n",
       "      <td>2206</td>\n",
       "      <td>Petrol</td>\n",
       "      <td>Manual</td>\n",
       "      <td>525699</td>\n",
       "      <td>1</td>\n",
       "    </tr>\n",
       "    <tr>\n",
       "      <th>2</th>\n",
       "      <td>Maruti</td>\n",
       "      <td>S-Cross</td>\n",
       "      <td>VXI</td>\n",
       "      <td>1</td>\n",
       "      <td>3176</td>\n",
       "      <td>Petrol</td>\n",
       "      <td>Manual</td>\n",
       "      <td>408499</td>\n",
       "      <td>1</td>\n",
       "    </tr>\n",
       "    <tr>\n",
       "      <th>3</th>\n",
       "      <td>Maruti</td>\n",
       "      <td>Swift</td>\n",
       "      <td>VDI</td>\n",
       "      <td>1</td>\n",
       "      <td>11019</td>\n",
       "      <td>Diesel</td>\n",
       "      <td>Manual</td>\n",
       "      <td>378499</td>\n",
       "      <td>8</td>\n",
       "    </tr>\n",
       "    <tr>\n",
       "      <th>4</th>\n",
       "      <td>Tata</td>\n",
       "      <td>Nano</td>\n",
       "      <td>XT TWIST</td>\n",
       "      <td>1</td>\n",
       "      <td>26554</td>\n",
       "      <td>Petrol</td>\n",
       "      <td>Manual</td>\n",
       "      <td>123499</td>\n",
       "      <td>6</td>\n",
       "    </tr>\n",
       "  </tbody>\n",
       "</table>\n",
       "</div>"
      ],
      "text/plain": [
       "     Name Model Name         Variant Owner  Kilometer    Fuel Transmission  \\\n",
       "0  Maruti     Baleno  DELTA 1.2 K12      1       3920  Petrol       Manual   \n",
       "1  Maruti      Ignis  SIGMA 1.2 K12      1       2206  Petrol       Manual   \n",
       "2  Maruti    S-Cross             VXI     1       3176  Petrol       Manual   \n",
       "3  Maruti      Swift            VDI      1      11019  Diesel       Manual   \n",
       "4    Tata       Nano       XT TWIST      1      26554  Petrol       Manual   \n",
       "\n",
       "    Price  Age of Car  \n",
       "0  659399           1  \n",
       "1  525699           1  \n",
       "2  408499           1  \n",
       "3  378499           8  \n",
       "4  123499           6  "
      ]
     },
     "execution_count": 41,
     "metadata": {},
     "output_type": "execute_result"
    }
   ],
   "source": [
    "ds.head()"
   ]
  },
  {
   "cell_type": "markdown",
   "id": "7d31ac1e",
   "metadata": {},
   "source": [
    "### What we Understand from Exploratory Data Analysis"
   ]
  },
  {
   "cell_type": "markdown",
   "id": "d50cfb59",
   "metadata": {},
   "source": [
    "#### 1) From Car Company Graph we Understand that Car Companies Like Skoda, Mercedes, Jaguar, Toyota, Honda has Higher Selling Price as they are big companies more Customers are attracted to them so the selling price of this Company Cars are the Highest, These Car Companaies also has good Customer Service so most of the People tends to buy this Cars.\n",
    "#### 2) From Owner vs Price we can understand that as the number of owner increases the price of the Car decrease\n",
    "#### 3) From Fuel vs Price we can see that the price is higher for Diesel car than Petrol Because most of the People in India wants less runnning cost and using diesel as a fuel the running cost Decreases as Price of Diesel is cheaper than Petrol so Car which uses Diesel as Fuel has Higher Selling Price.\n",
    "#### 4) From Transmission vs Price we can see that the price of Automatic transmission is Higher than the Manual as in Automatic Transmission user don't need to Switch gear which is less tiring to the driver and it is easy to ride in city, traffic roads than the Manual gear cars\n",
    "#### 5) From Age vs Price we see that newer the car higher is the selling price as the age of the car increases the selling price of the car decreases."
   ]
  },
  {
   "cell_type": "markdown",
   "id": "00aad467",
   "metadata": {},
   "source": [
    "# Data Preprocessing"
   ]
  },
  {
   "cell_type": "code",
   "execution_count": 42,
   "id": "4a498add",
   "metadata": {},
   "outputs": [
    {
     "data": {
      "text/html": [
       "<div>\n",
       "<style scoped>\n",
       "    .dataframe tbody tr th:only-of-type {\n",
       "        vertical-align: middle;\n",
       "    }\n",
       "\n",
       "    .dataframe tbody tr th {\n",
       "        vertical-align: top;\n",
       "    }\n",
       "\n",
       "    .dataframe thead th {\n",
       "        text-align: right;\n",
       "    }\n",
       "</style>\n",
       "<table border=\"1\" class=\"dataframe\">\n",
       "  <thead>\n",
       "    <tr style=\"text-align: right;\">\n",
       "      <th></th>\n",
       "      <th>Name</th>\n",
       "      <th>Model Name</th>\n",
       "      <th>Variant</th>\n",
       "      <th>Owner</th>\n",
       "      <th>Kilometer</th>\n",
       "      <th>Fuel</th>\n",
       "      <th>Transmission</th>\n",
       "      <th>Price</th>\n",
       "      <th>Age of Car</th>\n",
       "    </tr>\n",
       "  </thead>\n",
       "  <tbody>\n",
       "    <tr>\n",
       "      <th>0</th>\n",
       "      <td>Maruti</td>\n",
       "      <td>Baleno</td>\n",
       "      <td>DELTA 1.2 K12</td>\n",
       "      <td>1</td>\n",
       "      <td>3920</td>\n",
       "      <td>Petrol</td>\n",
       "      <td>Manual</td>\n",
       "      <td>659399</td>\n",
       "      <td>1</td>\n",
       "    </tr>\n",
       "    <tr>\n",
       "      <th>1</th>\n",
       "      <td>Maruti</td>\n",
       "      <td>Ignis</td>\n",
       "      <td>SIGMA 1.2 K12</td>\n",
       "      <td>1</td>\n",
       "      <td>2206</td>\n",
       "      <td>Petrol</td>\n",
       "      <td>Manual</td>\n",
       "      <td>525699</td>\n",
       "      <td>1</td>\n",
       "    </tr>\n",
       "    <tr>\n",
       "      <th>2</th>\n",
       "      <td>Maruti</td>\n",
       "      <td>S-Cross</td>\n",
       "      <td>VXI</td>\n",
       "      <td>1</td>\n",
       "      <td>3176</td>\n",
       "      <td>Petrol</td>\n",
       "      <td>Manual</td>\n",
       "      <td>408499</td>\n",
       "      <td>1</td>\n",
       "    </tr>\n",
       "    <tr>\n",
       "      <th>3</th>\n",
       "      <td>Maruti</td>\n",
       "      <td>Swift</td>\n",
       "      <td>VDI</td>\n",
       "      <td>1</td>\n",
       "      <td>11019</td>\n",
       "      <td>Diesel</td>\n",
       "      <td>Manual</td>\n",
       "      <td>378499</td>\n",
       "      <td>8</td>\n",
       "    </tr>\n",
       "    <tr>\n",
       "      <th>4</th>\n",
       "      <td>Tata</td>\n",
       "      <td>Nano</td>\n",
       "      <td>XT TWIST</td>\n",
       "      <td>1</td>\n",
       "      <td>26554</td>\n",
       "      <td>Petrol</td>\n",
       "      <td>Manual</td>\n",
       "      <td>123499</td>\n",
       "      <td>6</td>\n",
       "    </tr>\n",
       "  </tbody>\n",
       "</table>\n",
       "</div>"
      ],
      "text/plain": [
       "     Name Model Name         Variant Owner  Kilometer    Fuel Transmission  \\\n",
       "0  Maruti     Baleno  DELTA 1.2 K12      1       3920  Petrol       Manual   \n",
       "1  Maruti      Ignis  SIGMA 1.2 K12      1       2206  Petrol       Manual   \n",
       "2  Maruti    S-Cross             VXI     1       3176  Petrol       Manual   \n",
       "3  Maruti      Swift            VDI      1      11019  Diesel       Manual   \n",
       "4    Tata       Nano       XT TWIST      1      26554  Petrol       Manual   \n",
       "\n",
       "    Price  Age of Car  \n",
       "0  659399           1  \n",
       "1  525699           1  \n",
       "2  408499           1  \n",
       "3  378499           8  \n",
       "4  123499           6  "
      ]
     },
     "execution_count": 42,
     "metadata": {},
     "output_type": "execute_result"
    }
   ],
   "source": [
    "ds.head()"
   ]
  },
  {
   "cell_type": "markdown",
   "id": "89f02e04",
   "metadata": {},
   "source": [
    "# Before Removing Outlier Density Plot"
   ]
  },
  {
   "cell_type": "code",
   "execution_count": 43,
   "id": "006386e1",
   "metadata": {},
   "outputs": [
    {
     "data": {
      "text/plain": [
       "<AxesSubplot:xlabel='Kilometer', ylabel='Density'>"
      ]
     },
     "execution_count": 43,
     "metadata": {},
     "output_type": "execute_result"
    },
    {
     "data": {
      "image/png": "[encoded data removed]",
      "text/plain": [
       "<Figure size 432x288 with 1 Axes>"
      ]
     },
     "metadata": {
      "needs_background": "light"
     },
     "output_type": "display_data"
    }
   ],
   "source": [
    "sns.distplot(ds['Kilometer'])"
   ]
  },
  {
   "cell_type": "code",
   "execution_count": 44,
   "id": "d8e95599",
   "metadata": {},
   "outputs": [
    {
     "data": {
      "text/plain": [
       "<AxesSubplot:xlabel='Price', ylabel='Density'>"
      ]
     },
     "execution_count": 44,
     "metadata": {},
     "output_type": "execute_result"
    },
    {
     "data": {
      "image/png": "[encoded data removed]",
      "text/plain": [
       "<Figure size 432x288 with 1 Axes>"
      ]
     },
     "metadata": {
      "needs_background": "light"
     },
     "output_type": "display_data"
    }
   ],
   "source": [
    "sns.distplot(ds['Price'])"
   ]
  },
  {
   "cell_type": "code",
   "execution_count": 45,
   "id": "adc48b09",
   "metadata": {},
   "outputs": [
    {
     "data": {
      "text/plain": [
       "<AxesSubplot:xlabel='Age of Car', ylabel='Density'>"
      ]
     },
     "execution_count": 45,
     "metadata": {},
     "output_type": "execute_result"
    },
    {
     "data": {
      "image/png": "[encoded data removed]",
      "text/plain": [
       "<Figure size 432x288 with 1 Axes>"
      ]
     },
     "metadata": {
      "needs_background": "light"
     },
     "output_type": "display_data"
    }
   ],
   "source": [
    "sns.distplot(ds['Age of Car'])"
   ]
  },
  {
   "cell_type": "markdown",
   "id": "6772f222",
   "metadata": {},
   "source": [
    "from above graphs we can see that the columns Age of the Car, Price of the Car and Kilometers of the Car are left skewed so lets fix this by removing the outliers from these columns"
   ]
  },
  {
   "cell_type": "code",
   "execution_count": 46,
   "id": "40ee0474",
   "metadata": {},
   "outputs": [],
   "source": [
    "def Inter(col):\n",
    "    IQR = ds[col].quantile(0.75) - ds[col].quantile(0.25)\n",
    "    lower = ds[col].quantile(0.25)  - (IQR*3)\n",
    "    upper = ds[col].quantile(0.75) + (IQR*3)\n",
    "    return (lower, upper)"
   ]
  },
  {
   "cell_type": "code",
   "execution_count": 47,
   "id": "cff8011b",
   "metadata": {},
   "outputs": [
    {
     "data": {
      "text/html": [
       "<div>\n",
       "<style scoped>\n",
       "    .dataframe tbody tr th:only-of-type {\n",
       "        vertical-align: middle;\n",
       "    }\n",
       "\n",
       "    .dataframe tbody tr th {\n",
       "        vertical-align: top;\n",
       "    }\n",
       "\n",
       "    .dataframe thead th {\n",
       "        text-align: right;\n",
       "    }\n",
       "</style>\n",
       "<table border=\"1\" class=\"dataframe\">\n",
       "  <thead>\n",
       "    <tr style=\"text-align: right;\">\n",
       "      <th></th>\n",
       "      <th>Name</th>\n",
       "      <th>Model Name</th>\n",
       "      <th>Variant</th>\n",
       "      <th>Owner</th>\n",
       "      <th>Kilometer</th>\n",
       "      <th>Fuel</th>\n",
       "      <th>Transmission</th>\n",
       "      <th>Price</th>\n",
       "      <th>Age of Car</th>\n",
       "    </tr>\n",
       "  </thead>\n",
       "  <tbody>\n",
       "    <tr>\n",
       "      <th>0</th>\n",
       "      <td>Maruti</td>\n",
       "      <td>Baleno</td>\n",
       "      <td>DELTA 1.2 K12</td>\n",
       "      <td>1</td>\n",
       "      <td>3920</td>\n",
       "      <td>Petrol</td>\n",
       "      <td>Manual</td>\n",
       "      <td>659399</td>\n",
       "      <td>1</td>\n",
       "    </tr>\n",
       "    <tr>\n",
       "      <th>1</th>\n",
       "      <td>Maruti</td>\n",
       "      <td>Ignis</td>\n",
       "      <td>SIGMA 1.2 K12</td>\n",
       "      <td>1</td>\n",
       "      <td>2206</td>\n",
       "      <td>Petrol</td>\n",
       "      <td>Manual</td>\n",
       "      <td>525699</td>\n",
       "      <td>1</td>\n",
       "    </tr>\n",
       "    <tr>\n",
       "      <th>2</th>\n",
       "      <td>Maruti</td>\n",
       "      <td>S-Cross</td>\n",
       "      <td>VXI</td>\n",
       "      <td>1</td>\n",
       "      <td>3176</td>\n",
       "      <td>Petrol</td>\n",
       "      <td>Manual</td>\n",
       "      <td>408499</td>\n",
       "      <td>1</td>\n",
       "    </tr>\n",
       "    <tr>\n",
       "      <th>3</th>\n",
       "      <td>Maruti</td>\n",
       "      <td>Swift</td>\n",
       "      <td>VDI</td>\n",
       "      <td>1</td>\n",
       "      <td>11019</td>\n",
       "      <td>Diesel</td>\n",
       "      <td>Manual</td>\n",
       "      <td>378499</td>\n",
       "      <td>8</td>\n",
       "    </tr>\n",
       "    <tr>\n",
       "      <th>4</th>\n",
       "      <td>Tata</td>\n",
       "      <td>Nano</td>\n",
       "      <td>XT TWIST</td>\n",
       "      <td>1</td>\n",
       "      <td>26554</td>\n",
       "      <td>Petrol</td>\n",
       "      <td>Manual</td>\n",
       "      <td>123499</td>\n",
       "      <td>6</td>\n",
       "    </tr>\n",
       "  </tbody>\n",
       "</table>\n",
       "</div>"
      ],
      "text/plain": [
       "     Name Model Name         Variant Owner  Kilometer    Fuel Transmission  \\\n",
       "0  Maruti     Baleno  DELTA 1.2 K12      1       3920  Petrol       Manual   \n",
       "1  Maruti      Ignis  SIGMA 1.2 K12      1       2206  Petrol       Manual   \n",
       "2  Maruti    S-Cross             VXI     1       3176  Petrol       Manual   \n",
       "3  Maruti      Swift            VDI      1      11019  Diesel       Manual   \n",
       "4    Tata       Nano       XT TWIST      1      26554  Petrol       Manual   \n",
       "\n",
       "    Price  Age of Car  \n",
       "0  659399           1  \n",
       "1  525699           1  \n",
       "2  408499           1  \n",
       "3  378499           8  \n",
       "4  123499           6  "
      ]
     },
     "execution_count": 47,
     "metadata": {},
     "output_type": "execute_result"
    }
   ],
   "source": [
    "ds.head()"
   ]
  },
  {
   "cell_type": "code",
   "execution_count": 48,
   "id": "eacf8e9c",
   "metadata": {},
   "outputs": [],
   "source": [
    "for i in ds.columns.drop(['Name','Model Name','Variant','Fuel','Transmission','Owner','Age of Car'], 1):\n",
    "    lower, upper = Inter(i)\n",
    "    if upper > 0:\n",
    "        ds.loc[ds[i] >= upper, i] = upper"
   ]
  },
  {
   "cell_type": "markdown",
   "id": "797f0972",
   "metadata": {},
   "source": [
    "# After Removing Outlier Density Plot"
   ]
  },
  {
   "cell_type": "code",
   "execution_count": 49,
   "id": "12029d29",
   "metadata": {},
   "outputs": [
    {
     "data": {
      "text/plain": [
       "<AxesSubplot:xlabel='Kilometer', ylabel='Density'>"
      ]
     },
     "execution_count": 49,
     "metadata": {},
     "output_type": "execute_result"
    },
    {
     "data": {
      "image/png": "[encoded data removed]",
      "text/plain": [
       "<Figure size 432x288 with 1 Axes>"
      ]
     },
     "metadata": {
      "needs_background": "light"
     },
     "output_type": "display_data"
    }
   ],
   "source": [
    "sns.distplot(ds['Kilometer'], color='red')"
   ]
  },
  {
   "cell_type": "code",
   "execution_count": 50,
   "id": "ae2bc04b",
   "metadata": {},
   "outputs": [
    {
     "data": {
      "text/plain": [
       "<AxesSubplot:xlabel='Age of Car', ylabel='Density'>"
      ]
     },
     "execution_count": 50,
     "metadata": {},
     "output_type": "execute_result"
    },
    {
     "data": {
      "image/png": "[encoded data removed]",
      "text/plain": [
       "<Figure size 432x288 with 1 Axes>"
      ]
     },
     "metadata": {
      "needs_background": "light"
     },
     "output_type": "display_data"
    }
   ],
   "source": [
    "sns.distplot(ds['Age of Car'], color='cyan')"
   ]
  },
  {
   "cell_type": "code",
   "execution_count": 51,
   "id": "e09953fd",
   "metadata": {},
   "outputs": [
    {
     "data": {
      "text/plain": [
       "<AxesSubplot:xlabel='Price', ylabel='Density'>"
      ]
     },
     "execution_count": 51,
     "metadata": {},
     "output_type": "execute_result"
    },
    {
     "data": {
      "image/png": "[encoded data removed]",
      "text/plain": [
       "<Figure size 432x288 with 1 Axes>"
      ]
     },
     "metadata": {
      "needs_background": "light"
     },
     "output_type": "display_data"
    }
   ],
   "source": [
    "sns.distplot(ds['Price'])"
   ]
  },
  {
   "cell_type": "markdown",
   "id": "eaef91c5",
   "metadata": {},
   "source": [
    "as we have replaced the outlier data with Inter Quantile range now we can see that our data is slightly normally distributed lets now use skewness removal of our data"
   ]
  },
  {
   "cell_type": "code",
   "execution_count": 52,
   "id": "8e00aa2d",
   "metadata": {},
   "outputs": [
    {
     "data": {
      "text/plain": [
       "Owner         1.878240\n",
       "Kilometer     1.139533\n",
       "Price         1.624414\n",
       "Age of Car    0.524183\n",
       "dtype: float64"
      ]
     },
     "execution_count": 52,
     "metadata": {},
     "output_type": "execute_result"
    }
   ],
   "source": [
    "ds.skew()"
   ]
  },
  {
   "cell_type": "markdown",
   "id": "5c0f5928",
   "metadata": {},
   "source": [
    "from above we can see the Skewness of the data"
   ]
  },
  {
   "cell_type": "code",
   "execution_count": 53,
   "id": "2b3cabb6",
   "metadata": {},
   "outputs": [],
   "source": [
    "for i in ds.columns.drop(['Name','Model Name','Variant','Fuel','Transmission','Owner','Price','Age of Car'], 1):\n",
    "    if ds[i].skew() > 0.5:\n",
    "        ds[i] = np.cbrt(ds[i])\n",
    "    elif ds[i].skew() > -0.5:\n",
    "        ds[i] = np.cbrt(ds[i])"
   ]
  },
  {
   "cell_type": "code",
   "execution_count": 54,
   "id": "8104f094",
   "metadata": {},
   "outputs": [
    {
     "data": {
      "text/plain": [
       "Owner         1.878240\n",
       "Kilometer    -0.282093\n",
       "Price         1.624414\n",
       "Age of Car    0.524183\n",
       "dtype: float64"
      ]
     },
     "execution_count": 54,
     "metadata": {},
     "output_type": "execute_result"
    }
   ],
   "source": [
    "ds.skew()"
   ]
  },
  {
   "cell_type": "code",
   "execution_count": 55,
   "id": "346d3b4d",
   "metadata": {},
   "outputs": [
    {
     "data": {
      "text/plain": [
       "<AxesSubplot:xlabel='Kilometer', ylabel='Density'>"
      ]
     },
     "execution_count": 55,
     "metadata": {},
     "output_type": "execute_result"
    },
    {
     "data": {
      "image/png": "[encoded data removed]",
      "text/plain": [
       "<Figure size 432x288 with 1 Axes>"
      ]
     },
     "metadata": {
      "needs_background": "light"
     },
     "output_type": "display_data"
    }
   ],
   "source": [
    "sns.distplot(ds['Kilometer'], color='green')"
   ]
  },
  {
   "cell_type": "code",
   "execution_count": 56,
   "id": "cccf26a4",
   "metadata": {},
   "outputs": [
    {
     "data": {
      "text/plain": [
       "<AxesSubplot:xlabel='Age of Car', ylabel='Density'>"
      ]
     },
     "execution_count": 56,
     "metadata": {},
     "output_type": "execute_result"
    },
    {
     "data": {
      "image/png": "[encoded data removed]",
      "text/plain": [
       "<Figure size 432x288 with 1 Axes>"
      ]
     },
     "metadata": {
      "needs_background": "light"
     },
     "output_type": "display_data"
    }
   ],
   "source": [
    "sns.distplot(ds['Age of Car'], color='blue')"
   ]
  },
  {
   "cell_type": "markdown",
   "id": "c750f7e7",
   "metadata": {},
   "source": [
    "from above we can see that we have almost converted our dataset to Normally distributed data nnow we are good to go to perform Machine Learning Algorithm to our Data"
   ]
  },
  {
   "cell_type": "markdown",
   "id": "8edf23c5",
   "metadata": {},
   "source": [
    "As we have Categorical Varibles in the Dataset so we will Convert them to Numeric using Label Encoder"
   ]
  },
  {
   "cell_type": "code",
   "execution_count": 57,
   "id": "9c2ab9c3",
   "metadata": {},
   "outputs": [],
   "source": [
    "le = LabelEncoder()"
   ]
  },
  {
   "cell_type": "markdown",
   "id": "3ef787c1",
   "metadata": {},
   "source": [
    "lets Seperate our Depenedent and Independent Variable and Save them in X and Y varibale"
   ]
  },
  {
   "cell_type": "code",
   "execution_count": 58,
   "id": "e383ba6a",
   "metadata": {},
   "outputs": [],
   "source": [
    "X = ds.drop('Price',1)\n",
    "Y = ds['Price']"
   ]
  },
  {
   "cell_type": "code",
   "execution_count": 59,
   "id": "16f9e61f",
   "metadata": {},
   "outputs": [],
   "source": [
    "Xnew = X.apply(le.fit_transform)"
   ]
  },
  {
   "cell_type": "markdown",
   "id": "d2a345ba",
   "metadata": {},
   "source": [
    "lets now do min max Scaler to Scale the all the independent varible between 0-1"
   ]
  },
  {
   "cell_type": "code",
   "execution_count": 60,
   "id": "3e3ab4cb",
   "metadata": {},
   "outputs": [],
   "source": [
    "MS = MinMaxScaler()"
   ]
  },
  {
   "cell_type": "code",
   "execution_count": 61,
   "id": "e211e662",
   "metadata": {},
   "outputs": [],
   "source": [
    "Xnew = MS.fit_transform(Xnew)"
   ]
  },
  {
   "cell_type": "code",
   "execution_count": 62,
   "id": "e118d2d9",
   "metadata": {},
   "outputs": [],
   "source": [
    "Xnew = pd.DataFrame(Xnew, columns=X.columns)"
   ]
  },
  {
   "cell_type": "markdown",
   "id": "60e8d875",
   "metadata": {},
   "source": [
    "as we got all the values lets now build our model and see which one performs better"
   ]
  },
  {
   "cell_type": "code",
   "execution_count": 63,
   "id": "adf7adc2",
   "metadata": {},
   "outputs": [],
   "source": [
    "X_train, X_test, Y_train, Y_test = train_test_split(Xnew, Y, test_size=0.22, random_state=42)"
   ]
  },
  {
   "cell_type": "markdown",
   "id": "3ac97170",
   "metadata": {},
   "source": [
    "We are first doing at Random State 42 then we will find the best Random State"
   ]
  },
  {
   "cell_type": "code",
   "execution_count": 64,
   "id": "063e18dc",
   "metadata": {},
   "outputs": [
    {
     "name": "stdout",
     "output_type": "stream",
     "text": [
      "R2 Score: 0.49144918571556884\n",
      "Mean Square Error: 44764334836.1101\n",
      "Mean Absolute Error: 148114.2961516372\n"
     ]
    }
   ],
   "source": [
    "li = LinearRegression()\n",
    "li.fit(X_train,Y_train)\n",
    "pred = li.predict(X_test)\n",
    "print(\"R2 Score:\",r2_score(Y_test, pred))\n",
    "print(\"Mean Square Error:\", mean_squared_error(Y_test, pred))\n",
    "print(\"Mean Absolute Error:\", mean_absolute_error(Y_test,pred))"
   ]
  },
  {
   "cell_type": "code",
   "execution_count": 65,
   "id": "1748a14b",
   "metadata": {},
   "outputs": [
    {
     "name": "stdout",
     "output_type": "stream",
     "text": [
      "R2 Score: 0.49186143282965267\n",
      "Mean Square Error: 44728047473.408615\n",
      "Mean Abosulte Error: 147964.302766076\n"
     ]
    }
   ],
   "source": [
    "ridge = Ridge()\n",
    "ridge.fit(X_train, Y_train)\n",
    "pred = ridge.predict(X_test)\n",
    "print(\"R2 Score:\", r2_score(Y_test, pred))\n",
    "print(\"Mean Square Error:\", mean_squared_error(Y_test, pred))\n",
    "print(\"Mean Abosulte Error:\", mean_absolute_error(Y_test, pred))"
   ]
  },
  {
   "cell_type": "markdown",
   "id": "4116ef4e",
   "metadata": {},
   "source": [
    "from above we can see we are getting 49% for both Linear Regression and Ridge Regression lets now find the best model and Best Random State for that model"
   ]
  },
  {
   "cell_type": "code",
   "execution_count": 66,
   "id": "69d685c9",
   "metadata": {},
   "outputs": [],
   "source": [
    "models = [LinearRegression(), Lasso(), Ridge(), DecisionTreeRegressor(), RandomForestRegressor(), AdaBoostRegressor(), SVR(), KNeighborsRegressor(), XGBRegressor(), XGBRFRegressor()]"
   ]
  },
  {
   "cell_type": "code",
   "execution_count": 67,
   "id": "4d56e255",
   "metadata": {},
   "outputs": [
    {
     "name": "stdout",
     "output_type": "stream",
     "text": [
      "Maximum Accuracy is 0.8538326814399522, at Random State 13 for model XGBRegressor(base_score=0.5, booster='gbtree', colsample_bylevel=1,\n",
      "             colsample_bynode=1, colsample_bytree=1, gamma=0, gpu_id=-1,\n",
      "             importance_type='gain', interaction_constraints='',\n",
      "             learning_rate=0.300000012, max_delta_step=0, max_depth=6,\n",
      "             min_child_weight=1, missing=nan, monotone_constraints='()',\n",
      "             n_estimators=100, n_jobs=16, num_parallel_tree=1, random_state=0,\n",
      "             reg_alpha=0, reg_lambda=1, scale_pos_weight=1, subsample=1,\n",
      "             tree_method='exact', validate_parameters=1, verbosity=None)\n"
     ]
    }
   ],
   "source": [
    "maxacc = 0\n",
    "maxrs = 0\n",
    "model = 0\n",
    "for i in range(0,100):\n",
    "    X_train, X_test, Y_train, Y_test = train_test_split(Xnew, Y, test_size=0.22, random_state=i)\n",
    "    for j in models:\n",
    "        j.fit(X_train, Y_train)\n",
    "        pred = j.predict(X_test)\n",
    "        acc = r2_score(Y_test, pred)\n",
    "        if acc > maxacc:\n",
    "            maxacc = acc\n",
    "            maxrs = i\n",
    "            model = j\n",
    "            \n",
    "print(\"Maximum Accuracy is {}, at Random State {} for model {}\".format(maxacc, maxrs, model))"
   ]
  },
  {
   "cell_type": "markdown",
   "id": "cac98f36",
   "metadata": {},
   "source": [
    "from above we can see we got 85% accuracy at Random State 13 so we will use random State 13 for all the model and see the accuracy score"
   ]
  },
  {
   "cell_type": "code",
   "execution_count": 68,
   "id": "73236662",
   "metadata": {},
   "outputs": [],
   "source": [
    "X_train,X_test,Y_train,Y_test = train_test_split(Xnew, Y, test_size=0.22, random_state=13)"
   ]
  },
  {
   "cell_type": "markdown",
   "id": "83df2a67",
   "metadata": {},
   "source": [
    "# Selecting best model"
   ]
  },
  {
   "cell_type": "code",
   "execution_count": 69,
   "id": "2ed91286",
   "metadata": {},
   "outputs": [
    {
     "name": "stdout",
     "output_type": "stream",
     "text": [
      "Linear Regression\n",
      "Accuracy Score: 48.76351711438808\n",
      "Mean Squared Error:  43792349308.29863\n",
      "Mean absolute errro:  150607.43754493276\n",
      "Cross Val Score: 47.52084642849058\n"
     ]
    }
   ],
   "source": [
    "print(\"Linear Regression\")\n",
    "lr = LinearRegression()\n",
    "lr.fit(X_train, Y_train)\n",
    "predlr = lr.predict(X_test)\n",
    "acclr = r2_score(Y_test, predlr)*100\n",
    "print(\"Accuracy Score:\", acclr)\n",
    "print(\"Mean Squared Error: \",mean_squared_error(Y_test, predlr))\n",
    "print(\"Mean absolute errro: \", mean_absolute_error(Y_test, predlr))\n",
    "scorelr = cross_val_score(lr, Xnew, Y, cv=5)\n",
    "scorelr = scorelr.mean()*100\n",
    "print(\"Cross Val Score:\", scorelr.mean())"
   ]
  },
  {
   "cell_type": "code",
   "execution_count": 70,
   "id": "fe1e90bc",
   "metadata": {},
   "outputs": [
    {
     "name": "stdout",
     "output_type": "stream",
     "text": [
      "Lasso\n",
      "Accuracy Score: 48.763687876496284\n",
      "Mean Sqaured Erro: 43792203356.16705\n",
      "Mean Absolute Error:  150606.1056498363\n",
      "Cross Val Score: 47.5209730731013\n"
     ]
    }
   ],
   "source": [
    "print(\"Lasso\")\n",
    "lasso = Lasso()\n",
    "lasso.fit(X_train, Y_train)\n",
    "predlass = lasso.predict(X_test)\n",
    "acclass = r2_score(Y_test, predlass)*100\n",
    "print(\"Accuracy Score:\", acclass)\n",
    "print(\"Mean Sqaured Erro:\", mean_squared_error(Y_test, predlass))\n",
    "print(\"Mean Absolute Error: \" ,mean_absolute_error(Y_test, predlass))\n",
    "scorelass = cross_val_score(lasso, Xnew, Y, cv=5)\n",
    "scorelass = scorelass.mean()*100\n",
    "print(\"Cross Val Score:\", scorelass)"
   ]
  },
  {
   "cell_type": "code",
   "execution_count": 71,
   "id": "f60c821f",
   "metadata": {},
   "outputs": [
    {
     "name": "stdout",
     "output_type": "stream",
     "text": [
      "Ridge\n",
      "Accuracy Score: 48.71780409182153\n",
      "Mean Squared Error: 43831420699.21829\n",
      "Mean Absolute Error:  150493.82882916054\n",
      "Cross Val Score: 47.53266844807754\n"
     ]
    }
   ],
   "source": [
    "print(\"Ridge\")\n",
    "ridge = Ridge()\n",
    "ridge.fit(X_train ,Y_train)\n",
    "predrid = ridge.predict(X_test)\n",
    "accrid = r2_score(Y_test, predrid)*100\n",
    "print(\"Accuracy Score:\", accrid)\n",
    "print(\"Mean Squared Error:\", mean_squared_error(Y_test, predrid))\n",
    "print(\"Mean Absolute Error: \", mean_absolute_error(Y_test, predrid))\n",
    "scorerid = cross_val_score(ridge, Xnew, Y, cv = 5)\n",
    "scorerid = scorerid.mean()*100\n",
    "print(\"Cross Val Score:\", scorerid)"
   ]
  },
  {
   "cell_type": "code",
   "execution_count": 72,
   "id": "db89094d",
   "metadata": {},
   "outputs": [
    {
     "name": "stdout",
     "output_type": "stream",
     "text": [
      "Decision Tree Regressor\n",
      "Accuracy SCore:  64.32219736813884\n",
      "Mean Squared Error:  30494185147.235245\n",
      "Mean Absolute Error:  91014.87938408897\n",
      "Cross Val Score:  58.144757759955034\n"
     ]
    }
   ],
   "source": [
    "print(\"Decision Tree Regressor\")\n",
    "dtr = DecisionTreeRegressor()\n",
    "dtr.fit(X_train, Y_train)\n",
    "predtr = dtr.predict(X_test)\n",
    "accdtr = r2_score(Y_test, predtr)*100\n",
    "print(\"Accuracy SCore: \", accdtr)\n",
    "print(\"Mean Squared Error: \",mean_squared_error(Y_test, predtr))\n",
    "print(\"Mean Absolute Error: \", mean_absolute_error(Y_test, predtr))\n",
    "scoredtr = cross_val_score(dtr ,Xnew, Y, cv = 5)\n",
    "scoredtr = scoredtr.mean()*100\n",
    "print(\"Cross Val Score: \", scoredtr)"
   ]
  },
  {
   "cell_type": "code",
   "execution_count": 73,
   "id": "d0b0e18e",
   "metadata": {},
   "outputs": [
    {
     "name": "stdout",
     "output_type": "stream",
     "text": [
      "Random Forest Regressor\n",
      "Accuracy Score:  82.76299307955807\n",
      "Mean Squared Error:  14732647238.39051\n",
      "Mean Absolute Error:  72515.68013686912\n",
      "Cross Val Score:  0.7696349681822412\n"
     ]
    }
   ],
   "source": [
    "print(\"Random Forest Regressor\")\n",
    "rfr = RandomForestRegressor()\n",
    "rfr.fit(X_train, Y_train)\n",
    "predrfr = rfr.predict(X_test)\n",
    "accrfr = r2_score(Y_test, predrfr)*100\n",
    "print(\"Accuracy Score: \", accrfr)\n",
    "print(\"Mean Squared Error: \", mean_squared_error(Y_test, predrfr))\n",
    "print(\"Mean Absolute Error: \", mean_absolute_error(Y_test, predrfr))\n",
    "scorerfr = cross_val_score(rfr, Xnew, Y ,cv = 5)\n",
    "scorerfr = scorerfr.mean()\n",
    "print(\"Cross Val Score: \", scorerfr)"
   ]
  },
  {
   "cell_type": "code",
   "execution_count": 74,
   "id": "4f29f8e9",
   "metadata": {},
   "outputs": [
    {
     "name": "stdout",
     "output_type": "stream",
     "text": [
      "Adaboost Regressor\n",
      "Accuracy Score:  44.07010896055251\n",
      "Mean squared Error:  47803853567.44248\n",
      "Mean Absolute Error:  174179.83068214104\n",
      "Cross Val Score:  35.5639209035389\n"
     ]
    }
   ],
   "source": [
    "print(\"Adaboost Regressor\")\n",
    "adb = AdaBoostRegressor()\n",
    "adb.fit(X_train, Y_train)\n",
    "predadb = adb.predict(X_test)\n",
    "accadb = r2_score(Y_test, predadb)*100\n",
    "print(\"Accuracy Score: \", accadb)\n",
    "print(\"Mean squared Error: \", mean_squared_error(Y_test, predadb))\n",
    "print(\"Mean Absolute Error: \", mean_absolute_error(Y_test, predadb))\n",
    "scoreadb = cross_val_score(adb, Xnew, Y, cv = 5)\n",
    "scoreadb = scoreadb.mean()*100\n",
    "print(\"Cross Val Score: \", scoreadb)"
   ]
  },
  {
   "cell_type": "code",
   "execution_count": 75,
   "id": "94062248",
   "metadata": {},
   "outputs": [
    {
     "name": "stdout",
     "output_type": "stream",
     "text": [
      "SVR\n",
      "Accuracy score:  -9.645034799092556\n",
      "Mean Squared Error:  93714739838.06165\n",
      "Mean Absolute Error:  204330.2956840092\n",
      "Cross Val score:  -9.652383150541963\n"
     ]
    }
   ],
   "source": [
    "print(\"SVR\")\n",
    "svr = SVR()\n",
    "svr.fit(X_train, Y_train)\n",
    "predsvr = svr.predict(X_test)\n",
    "accsvr = r2_score(Y_test, predsvr)*100\n",
    "print(\"Accuracy score: \", accsvr)\n",
    "print(\"Mean Squared Error: \", mean_squared_error(Y_test, predsvr))\n",
    "print(\"Mean Absolute Error: \", mean_absolute_error(Y_test, predsvr))\n",
    "scoresvr = cross_val_score(svr, Xnew, Y, cv= 5)\n",
    "scoresvr = scoresvr.mean()*100\n",
    "print(\"Cross Val score: \", scoresvr)"
   ]
  },
  {
   "cell_type": "code",
   "execution_count": 76,
   "id": "d3b5ef5d",
   "metadata": {},
   "outputs": [
    {
     "name": "stdout",
     "output_type": "stream",
     "text": [
      "Kneighbors Regressor\n",
      "Accuracy Score:  67.98204134773158\n",
      "Mean Squared Error:  27366078826.47124\n",
      "Mean Absolute Error:  104047.65748502994\n",
      "Cross Val Score:  65.76449282740914\n"
     ]
    }
   ],
   "source": [
    "print(\"Kneighbors Regressor\")\n",
    "knn = KNeighborsRegressor()\n",
    "knn.fit(X_train, Y_train)\n",
    "predknn = knn.predict(X_test)\n",
    "accknn = r2_score(Y_test, predknn)*100\n",
    "print(\"Accuracy Score: \", accknn)\n",
    "print(\"Mean Squared Error: \", mean_squared_error(Y_test, predknn))\n",
    "print(\"Mean Absolute Error: \", mean_absolute_error(Y_test, predknn))\n",
    "scoreknn = cross_val_score(knn, Xnew, Y, cv = 5)\n",
    "scoreknn = scoreknn.mean()*100\n",
    "print(\"Cross Val Score: \", scoreknn)"
   ]
  },
  {
   "cell_type": "code",
   "execution_count": 77,
   "id": "6c6912df",
   "metadata": {},
   "outputs": [
    {
     "name": "stdout",
     "output_type": "stream",
     "text": [
      "XGBRegressor\n",
      "Accuracy SCore:  85.38326814399522\n",
      "Mean Squared Error:  12493071169.872366\n",
      "Mean Absolute Error:  70363.56330865055\n",
      "Cross Val Score:  77.80252891328638\n"
     ]
    }
   ],
   "source": [
    "print(\"XGBRegressor\")\n",
    "xgb = XGBRegressor()\n",
    "xgb.fit(X_train, Y_train)\n",
    "predxgb = xgb.predict(X_test)\n",
    "accxgb = r2_score(Y_test, predxgb)*100\n",
    "print(\"Accuracy SCore: \", accxgb)\n",
    "print(\"Mean Squared Error: \", mean_squared_error(Y_test, predxgb))\n",
    "print(\"Mean Absolute Error: \", mean_absolute_error(Y_test, predxgb))\n",
    "scorexgb = cross_val_score(xgb, Xnew, Y, cv =5)\n",
    "scorexgb = scorexgb.mean()*100\n",
    "print(\"Cross Val Score: \", scorexgb)"
   ]
  },
  {
   "cell_type": "code",
   "execution_count": 78,
   "id": "11a9aea3",
   "metadata": {},
   "outputs": [
    {
     "name": "stdout",
     "output_type": "stream",
     "text": [
      "XGBRRegressor\n",
      "Accuracy Score:  70.79899385064219\n",
      "Mean Squared Error:  24958400526.854996\n",
      "Mean Absolute Error:  106641.89721449958\n",
      "Cross Val Score:  65.08852559611896\n"
     ]
    }
   ],
   "source": [
    "print(\"XGBRRegressor\")\n",
    "xgbr = XGBRFRegressor()\n",
    "xgbr.fit(X_train, Y_train)\n",
    "predxgbr = xgbr.predict(X_test)\n",
    "accxgbr = r2_score(Y_test, predxgbr)*100\n",
    "print(\"Accuracy Score: \", accxgbr)\n",
    "print(\"Mean Squared Error: \", mean_squared_error(Y_test, predxgbr))\n",
    "print(\"Mean Absolute Error: \", mean_absolute_error(Y_test, predxgbr))\n",
    "scorexgbr = cross_val_score(xgbr, Xnew, Y, cv= 5)\n",
    "scorexgbr = scorexgbr.mean()*100\n",
    "print(\"Cross Val Score: \", scorexgbr)"
   ]
  },
  {
   "cell_type": "markdown",
   "id": "1b078db9",
   "metadata": {},
   "source": [
    "from above we can see that Random Forest, Decision Tree , Kneighbors Regressor and XGBRegressor has performed really we so we will do Hyper Parameter tuning for all this Algorithm and find the best model for this Problem"
   ]
  },
  {
   "cell_type": "code",
   "execution_count": 79,
   "id": "3c063247",
   "metadata": {},
   "outputs": [],
   "source": [
    "parameterdtr = {\n",
    "    'criterion':['mse','mae'],\n",
    "    'splitter':['best','random'],\n",
    "    'max_depth':[1,2,3],\n",
    "    'max_features':['auto','sqrt','log2']\n",
    "}"
   ]
  },
  {
   "cell_type": "code",
   "execution_count": 80,
   "id": "2524173a",
   "metadata": {},
   "outputs": [
    {
     "name": "stdout",
     "output_type": "stream",
     "text": [
      "Accuracy Score:  46.275085577195\n",
      "Mean Squared Error:  45919237356.99308\n",
      "Mean Absolute Error:  148532.70896160894\n"
     ]
    }
   ],
   "source": [
    "gscvdtr = GridSearchCV(dtr, parameterdtr)\n",
    "gscvdtr.fit(X_train, Y_train)\n",
    "predgscvdtr = gscvdtr.best_estimator_.predict(X_test)\n",
    "accgscvdtr = r2_score(Y_test, predgscvdtr)*100\n",
    "print(\"Accuracy Score: \", accgscvdtr)\n",
    "print(\"Mean Squared Error: \", mean_squared_error(Y_test, predgscvdtr))\n",
    "print(\"Mean Absolute Error: \", mean_absolute_error(Y_test, predgscvdtr))"
   ]
  },
  {
   "cell_type": "code",
   "execution_count": 81,
   "id": "e7a5d21b",
   "metadata": {},
   "outputs": [],
   "source": [
    "parameterrfr = {\n",
    "    'n_estimators':[200],\n",
    "    'criterion':['mse','mae'],\n",
    "    'max_depth':[200],\n",
    "    'max_features':['auto','sqrt','log2']\n",
    "}"
   ]
  },
  {
   "cell_type": "code",
   "execution_count": 82,
   "id": "cb49a169",
   "metadata": {},
   "outputs": [
    {
     "name": "stdout",
     "output_type": "stream",
     "text": [
      "Accuracy Score:  81.92630923093868\n",
      "Mean Squared Error:  15447769535.936842\n",
      "Mean Absolute Error:  76880.49086398631\n"
     ]
    }
   ],
   "source": [
    "gscvrfr = GridSearchCV(rfr, parameterrfr)\n",
    "gscvrfr.fit(X_train, Y_train)\n",
    "predgscvrfr = gscvrfr.best_estimator_.predict(X_test)\n",
    "accgscvrfr = r2_score(Y_test, predgscvrfr)*100\n",
    "print(\"Accuracy Score: \", accgscvrfr)\n",
    "print(\"Mean Squared Error: \", mean_squared_error(Y_test, predgscvrfr))\n",
    "print(\"Mean Absolute Error: \", mean_absolute_error(Y_test, predgscvrfr))"
   ]
  },
  {
   "cell_type": "code",
   "execution_count": 83,
   "id": "b1c0aef2",
   "metadata": {},
   "outputs": [],
   "source": [
    "parameterknn = {\n",
    "    'weights':['uniform','distance'],\n",
    "    'algorithm':['auto','ball_tree','kd_tree','brute'],\n",
    "}"
   ]
  },
  {
   "cell_type": "code",
   "execution_count": 84,
   "id": "df3aa2dd",
   "metadata": {},
   "outputs": [
    {
     "name": "stdout",
     "output_type": "stream",
     "text": [
      "Accuracy Score:  70.88728991547593\n",
      "Mean Squared Error:  24882932971.394955\n",
      "Mean Absolute Error:  97714.38377991118\n"
     ]
    }
   ],
   "source": [
    "gscvknn = GridSearchCV(knn, parameterknn)\n",
    "gscvknn.fit(X_train, Y_train)\n",
    "predgscvknn = gscvknn.best_estimator_.predict(X_test)\n",
    "accgscvknn = r2_score(Y_test, predgscvknn)*100\n",
    "print(\"Accuracy Score: \", accgscvknn)\n",
    "print(\"Mean Squared Error: \", mean_squared_error(Y_test, predgscvknn))\n",
    "print(\"Mean Absolute Error: \", mean_absolute_error(Y_test, predgscvknn))"
   ]
  },
  {
   "cell_type": "code",
   "execution_count": 85,
   "id": "8e809050",
   "metadata": {},
   "outputs": [],
   "source": [
    "parameterxgb = {'nthread':[4],\n",
    "                'verbosity':[0],\n",
    "              'objective':['reg:linear'],\n",
    "              'learning_rate': [.03, 0.05, .07],\n",
    "              'max_depth': [5, 6, 7],\n",
    "              'min_child_weight': [4],\n",
    "              'silent': [1],\n",
    "              'subsample': [0.7],\n",
    "              'colsample_bytree': [0.7],\n",
    "              'n_estimators': [500]}"
   ]
  },
  {
   "cell_type": "code",
   "execution_count": 86,
   "id": "085fd6de",
   "metadata": {},
   "outputs": [
    {
     "name": "stdout",
     "output_type": "stream",
     "text": [
      "Accuracy Score:  85.97986442797554\n",
      "Mean Squared Error:  11983154185.085817\n",
      "Mean Absolute Error:  68536.57198994867\n"
     ]
    }
   ],
   "source": [
    "gscvxgb = GridSearchCV(xgb, parameterxgb)\n",
    "gscvxgb.fit(X_train, Y_train)\n",
    "predgscvxgb = gscvxgb.best_estimator_.predict(X_test)\n",
    "accgscvxgb = r2_score(Y_test, predgscvxgb)*100\n",
    "print(\"Accuracy Score: \", accgscvxgb)\n",
    "print(\"Mean Squared Error: \", mean_squared_error(Y_test, predgscvxgb))\n",
    "print(\"Mean Absolute Error: \", mean_absolute_error(Y_test, predgscvxgb))"
   ]
  },
  {
   "cell_type": "markdown",
   "id": "d6c64901",
   "metadata": {},
   "source": [
    "from above we can see that XGBRegressor has the highest accuracy, lowest error amongst all the Algorithms so we will choose this algorithm as the best and save it for Furtehr Use "
   ]
  },
  {
   "cell_type": "markdown",
   "id": "cc45eff3",
   "metadata": {},
   "source": [
    "The Highest Accuracy Score we Got is 86% for XGBRegressor and we will save this model now with the help of Joblib for Further Use"
   ]
  },
  {
   "cell_type": "code",
   "execution_count": 87,
   "id": "f544bb6c",
   "metadata": {},
   "outputs": [
    {
     "data": {
      "text/plain": [
       "['Car_price.pkl']"
      ]
     },
     "execution_count": 87,
     "metadata": {},
     "output_type": "execute_result"
    }
   ],
   "source": [
    "joblib.dump(gscvxgb.best_estimator_,'Car_price.pkl')"
   ]
  },
  {
   "cell_type": "markdown",
   "id": "1dbaba23",
   "metadata": {},
   "source": [
    "We have saved our model in car_price.pkl and we can use it to predict the price of the cars"
   ]
  },
  {
   "cell_type": "code",
   "execution_count": null,
   "id": "79e845ca",
   "metadata": {},
   "outputs": [],
   "source": []
  }
 ],
 "metadata": {
  "kernelspec": {
   "display_name": "Python 3",
   "language": "python",
   "name": "python3"
  },
  "language_info": {
   "codemirror_mode": {
    "name": "ipython",
    "version": 3
   },
   "file_extension": ".py",
   "mimetype": "text/x-python",
   "name": "python",
   "nbconvert_exporter": "python",
   "pygments_lexer": "ipython3",
   "version": "3.8.8"
  }
 },
 "nbformat": 4,
 "nbformat_minor": 5
}
