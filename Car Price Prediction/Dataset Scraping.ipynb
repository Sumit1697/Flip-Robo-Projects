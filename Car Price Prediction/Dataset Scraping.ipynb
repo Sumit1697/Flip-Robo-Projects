{
 "cells": [
  {
   "cell_type": "code",
   "execution_count": 1,
   "id": "be827cd7",
   "metadata": {},
   "outputs": [],
   "source": [
    "import pandas as pd\n",
    "import numpy as np\n",
    "from selenium import webdriver\n",
    "from selenium.common.exceptions import *\n",
    "from selenium.webdriver.common.action_chains import ActionChains\n",
    "import time\n",
    "import re\n",
    "import seaborn as sns\n",
    "import glob\n",
    "from sklearn.utils import shuffle"
   ]
  },
  {
   "cell_type": "code",
   "execution_count": 2,
   "id": "3b83fd72",
   "metadata": {},
   "outputs": [],
   "source": [
    "driver = webdriver.Chrome(r\"S:\\chromedriver_win32\\chromedriver.exe\")"
   ]
  },
  {
   "cell_type": "markdown",
   "id": "a0b427de",
   "metadata": {},
   "source": [
    "# Cars24"
   ]
  },
  {
   "cell_type": "code",
   "execution_count": 3,
   "id": "ed2e4592",
   "metadata": {},
   "outputs": [],
   "source": [
    "def url():\n",
    "    url = input(\"Please enter the url you want to go: \")\n",
    "    driver.get(url)\n",
    "    close = driver.find_element_by_xpath(\"//div[@class='float-right TBxAN']\").click()\n",
    "    time.sleep(2)\n",
    "    usedcar = driver.find_element_by_xpath(\"//ul[@class='float-right _1yq3e']/li[3]\").click()"
   ]
  },
  {
   "cell_type": "code",
   "execution_count": 4,
   "id": "a2c2ac50",
   "metadata": {},
   "outputs": [
    {
     "name": "stdout",
     "output_type": "stream",
     "text": [
      "Please enter the url you want to go: https://www.cars24.com/\n"
     ]
    }
   ],
   "source": [
    "url()"
   ]
  },
  {
   "cell_type": "code",
   "execution_count": 5,
   "id": "f7201fb3",
   "metadata": {},
   "outputs": [],
   "source": [
    "def scroll(driver, timeout):\n",
    "    scroll_pause_time = timeout\n",
    "\n",
    "    \n",
    "    last_height = driver.execute_script(\"return document.body.scrollHeight\")\n",
    "\n",
    "    while True:\n",
    "        \n",
    "        driver.execute_script(\"window.scrollTo(0, document.body.scrollHeight);\")\n",
    "\n",
    "        \n",
    "        time.sleep(scroll_pause_time)\n",
    "\n",
    "        \n",
    "        new_height = driver.execute_script(\"return document.body.scrollHeight\")\n",
    "        if new_height == last_height:\n",
    "            \n",
    "            break\n",
    "        last_height = new_height\n",
    "        \n",
    "    driver.execute_script(\"scrollBy(0,-500000);\")"
   ]
  },
  {
   "cell_type": "code",
   "execution_count": 6,
   "id": "d2b39958",
   "metadata": {},
   "outputs": [],
   "source": [
    "scroll(driver, 2)"
   ]
  },
  {
   "cell_type": "code",
   "execution_count": 7,
   "id": "18d8b6f3",
   "metadata": {},
   "outputs": [],
   "source": [
    "Name = []\n",
    "Model = []\n",
    "Owner = []\n",
    "Kilo = []\n",
    "Fuel = []\n",
    "Trans = []\n",
    "Year = []\n",
    "Price = []"
   ]
  },
  {
   "cell_type": "code",
   "execution_count": 8,
   "id": "0fe1dd61",
   "metadata": {},
   "outputs": [],
   "source": [
    "def Cars24():\n",
    "    try:\n",
    "        name = driver.find_elements_by_xpath(\"//h2[@class='_3FpCg']\")\n",
    "        for i in name:\n",
    "            Name.append(i.text)\n",
    "        trans = driver.find_elements_by_xpath(\"//p[@class='cvakB']/span\")\n",
    "        for j in trans:\n",
    "            Trans.append(j.text)\n",
    "        model = driver.find_elements_by_xpath(\"//p[@class='cvakB']\")\n",
    "        for k in model:\n",
    "            Model.append(k.text)\n",
    "        kilo = driver.find_elements_by_xpath(\"//ul[@class='bVR0c']/li[1]\")\n",
    "        for l in kilo:\n",
    "            Kilo.append(l.text)\n",
    "        owner = driver.find_elements_by_xpath(\"//ul[@class='bVR0c']/li[2]\")\n",
    "        for m in owner:\n",
    "            Owner.append(m.text)\n",
    "        fuel = driver.find_elements_by_xpath(\"//ul[@class='bVR0c']/li[3]\")\n",
    "        for n in fuel:\n",
    "            Fuel.append(n.text)\n",
    "        year = driver.find_elements_by_xpath(\"//h2[@class='_3FpCg']\")\n",
    "        for o in year:\n",
    "            Year.append(o.text)\n",
    "        price = driver.find_elements_by_xpath(\"//div[@class='_7udZZ']\")\n",
    "        for p in price:\n",
    "            Price.append(p.text)\n",
    "    except:\n",
    "        pass"
   ]
  },
  {
   "cell_type": "code",
   "execution_count": 9,
   "id": "efc12b88",
   "metadata": {},
   "outputs": [],
   "source": [
    "Cars24()"
   ]
  },
  {
   "cell_type": "code",
   "execution_count": 10,
   "id": "399221da",
   "metadata": {},
   "outputs": [],
   "source": [
    "driver.get(\"https://www.cars24.com/\")\n",
    "driver.find_element_by_xpath(\"//p[@class='_1OR7d']\").click()\n",
    "time.sleep(3)\n",
    "driver.find_element_by_xpath(\"//li[@data-title='Mumbai']\").click()\n",
    "time.sleep(2)\n",
    "driver.find_element_by_xpath(\"//ul[@class='float-right _1yq3e']/li[2]\").click()"
   ]
  },
  {
   "cell_type": "code",
   "execution_count": 11,
   "id": "dc4887ac",
   "metadata": {},
   "outputs": [],
   "source": [
    "scroll(driver, 2)"
   ]
  },
  {
   "cell_type": "code",
   "execution_count": 12,
   "id": "414abd55",
   "metadata": {},
   "outputs": [],
   "source": [
    "Cars24()"
   ]
  },
  {
   "cell_type": "code",
   "execution_count": 13,
   "id": "dba23fd8",
   "metadata": {},
   "outputs": [],
   "source": [
    "driver.get(\"https://www.cars24.com/\")\n",
    "driver.find_element_by_xpath(\"//p[@class='_1OR7d']\").click()\n",
    "time.sleep(3)\n",
    "driver.find_element_by_xpath(\"//li[@data-title='Kolkata']\").click()\n",
    "time.sleep(2)\n",
    "driver.find_element_by_xpath(\"//ul[@class='float-right _1yq3e']/li[2]\").click()"
   ]
  },
  {
   "cell_type": "code",
   "execution_count": 14,
   "id": "aeadc659",
   "metadata": {},
   "outputs": [],
   "source": [
    "scroll(driver, 2)"
   ]
  },
  {
   "cell_type": "code",
   "execution_count": 15,
   "id": "4acccae4",
   "metadata": {},
   "outputs": [],
   "source": [
    "Cars24()"
   ]
  },
  {
   "cell_type": "code",
   "execution_count": 16,
   "id": "9ad3443e",
   "metadata": {},
   "outputs": [],
   "source": [
    "driver.get(\"https://www.cars24.com/\")\n",
    "driver.find_element_by_xpath(\"//p[@class='_1OR7d']\").click()\n",
    "time.sleep(3)\n",
    "driver.find_element_by_xpath(\"//li[@data-title='Chennai']\").click()\n",
    "time.sleep(2)\n",
    "driver.find_element_by_xpath(\"//ul[@class='float-right _1yq3e']/li[2]\").click()"
   ]
  },
  {
   "cell_type": "code",
   "execution_count": 17,
   "id": "a1b99046",
   "metadata": {},
   "outputs": [],
   "source": [
    "scroll(driver, 2)"
   ]
  },
  {
   "cell_type": "code",
   "execution_count": 18,
   "id": "b60d2d3f",
   "metadata": {},
   "outputs": [],
   "source": [
    "Cars24()"
   ]
  },
  {
   "cell_type": "code",
   "execution_count": 19,
   "id": "049e31d8",
   "metadata": {},
   "outputs": [],
   "source": [
    "driver.get(\"https://www.cars24.com/\")\n",
    "driver.find_element_by_xpath(\"//p[@class='_1OR7d']\").click()\n",
    "time.sleep(3)\n",
    "driver.find_element_by_xpath(\"//li[@data-title='Hyderabad']\").click()\n",
    "time.sleep(2)\n",
    "driver.find_element_by_xpath(\"//ul[@class='float-right _1yq3e']/li[2]\").click()"
   ]
  },
  {
   "cell_type": "code",
   "execution_count": 20,
   "id": "618f4a26",
   "metadata": {},
   "outputs": [],
   "source": [
    "scroll(driver, 2)"
   ]
  },
  {
   "cell_type": "code",
   "execution_count": 21,
   "id": "f88e1392",
   "metadata": {},
   "outputs": [],
   "source": [
    "Cars24()"
   ]
  },
  {
   "cell_type": "code",
   "execution_count": 22,
   "id": "b41156ca",
   "metadata": {},
   "outputs": [],
   "source": [
    "Clean_name = []\n",
    "for i in Name:\n",
    "    Clean_name.append(i[4:])"
   ]
  },
  {
   "cell_type": "code",
   "execution_count": 24,
   "id": "0932e003",
   "metadata": {},
   "outputs": [],
   "source": [
    "Names = []\n",
    "Clean_Name = []\n",
    "for i in Clean_name:\n",
    "    Names.append(i.split())\n",
    "for j in Names:\n",
    "    Clean_Name.append(j[0])"
   ]
  },
  {
   "cell_type": "code",
   "execution_count": 26,
   "id": "818f7818",
   "metadata": {},
   "outputs": [],
   "source": [
    "Clean_Variant = []\n",
    "for i in Model:\n",
    "    Clean_Variant.append(i.replace('Manual','').replace('Automatic',''))"
   ]
  },
  {
   "cell_type": "code",
   "execution_count": 27,
   "id": "959a650c",
   "metadata": {},
   "outputs": [],
   "source": [
    "Clean_owner = []\n",
    "for i in Owner:\n",
    "    Clean_owner.append(i.replace('st Owner','').replace('nd Owner', '').replace('rd Owner','').replace('th Owner',''))"
   ]
  },
  {
   "cell_type": "code",
   "execution_count": 28,
   "id": "b213a2d2",
   "metadata": {},
   "outputs": [],
   "source": [
    "Clean_kilo = []\n",
    "for i in Kilo:\n",
    "    Clean_kilo.append(i.replace('km','').replace(',',''))"
   ]
  },
  {
   "cell_type": "code",
   "execution_count": 29,
   "id": "a41d7774",
   "metadata": {},
   "outputs": [],
   "source": [
    "Clean_trans = []\n",
    "for i in Trans:\n",
    "    Clean_trans.append(i.replace(' ','NA'))"
   ]
  },
  {
   "cell_type": "code",
   "execution_count": 30,
   "id": "30c6af6e",
   "metadata": {},
   "outputs": [],
   "source": [
    "Clean_year = []\n",
    "for i in Year:\n",
    "    Clean_year.append(i[:4])"
   ]
  },
  {
   "cell_type": "code",
   "execution_count": 31,
   "id": "e0de6436",
   "metadata": {},
   "outputs": [],
   "source": [
    "Clean_price = []\n",
    "for i in Price:\n",
    "    Clean_price.append(i.replace('₹','').replace(',',''))"
   ]
  },
  {
   "cell_type": "code",
   "execution_count": 32,
   "id": "943a54af",
   "metadata": {},
   "outputs": [],
   "source": [
    "Clean_model = []\n",
    "models = []\n",
    "for i in Clean_name:\n",
    "    models.append(i.split())\n",
    "for j in models:\n",
    "    Clean_model.append(j[1])"
   ]
  },
  {
   "cell_type": "code",
   "execution_count": 33,
   "id": "c3530965",
   "metadata": {},
   "outputs": [],
   "source": [
    "data = {\n",
    "    'Name':Clean_Name,\n",
    "    'Model Name': Clean_model,\n",
    "    'Variant':Clean_Variant,\n",
    "    'Owner':Clean_owner,\n",
    "    'Kilometer':Clean_kilo,\n",
    "    'Fuel':Fuel,\n",
    "    'Transmission':Clean_trans,\n",
    "    'Year of Manufacture':Clean_year,\n",
    "    'Price':Clean_price\n",
    "}"
   ]
  },
  {
   "cell_type": "code",
   "execution_count": 34,
   "id": "2396984c",
   "metadata": {},
   "outputs": [],
   "source": [
    "Cars24 = pd.DataFrame.from_dict(data)"
   ]
  },
  {
   "cell_type": "code",
   "execution_count": 35,
   "id": "d38053a2",
   "metadata": {},
   "outputs": [],
   "source": [
    "Cars24 = Cars24.replace(r'^\\s*$', np.NaN, regex=True)"
   ]
  },
  {
   "cell_type": "code",
   "execution_count": 36,
   "id": "359c8435",
   "metadata": {},
   "outputs": [
    {
     "data": {
      "text/html": [
       "<div>\n",
       "<style scoped>\n",
       "    .dataframe tbody tr th:only-of-type {\n",
       "        vertical-align: middle;\n",
       "    }\n",
       "\n",
       "    .dataframe tbody tr th {\n",
       "        vertical-align: top;\n",
       "    }\n",
       "\n",
       "    .dataframe thead th {\n",
       "        text-align: right;\n",
       "    }\n",
       "</style>\n",
       "<table border=\"1\" class=\"dataframe\">\n",
       "  <thead>\n",
       "    <tr style=\"text-align: right;\">\n",
       "      <th></th>\n",
       "      <th>Name</th>\n",
       "      <th>Model Name</th>\n",
       "      <th>Variant</th>\n",
       "      <th>Owner</th>\n",
       "      <th>Kilometer</th>\n",
       "      <th>Fuel</th>\n",
       "      <th>Transmission</th>\n",
       "      <th>Year of Manufacture</th>\n",
       "      <th>Price</th>\n",
       "    </tr>\n",
       "  </thead>\n",
       "  <tbody>\n",
       "    <tr>\n",
       "      <th>0</th>\n",
       "      <td>Maruti</td>\n",
       "      <td>Baleno</td>\n",
       "      <td>DELTA 1.2 K12</td>\n",
       "      <td>1</td>\n",
       "      <td>3920</td>\n",
       "      <td>Petrol</td>\n",
       "      <td>Manual</td>\n",
       "      <td>2020</td>\n",
       "      <td>659399</td>\n",
       "    </tr>\n",
       "    <tr>\n",
       "      <th>1</th>\n",
       "      <td>Maruti</td>\n",
       "      <td>IGNIS</td>\n",
       "      <td>SIGMA 1.2 K12</td>\n",
       "      <td>1</td>\n",
       "      <td>2206</td>\n",
       "      <td>Petrol</td>\n",
       "      <td>Manual</td>\n",
       "      <td>2020</td>\n",
       "      <td>525699</td>\n",
       "    </tr>\n",
       "    <tr>\n",
       "      <th>2</th>\n",
       "      <td>Maruti</td>\n",
       "      <td>S</td>\n",
       "      <td>VXI</td>\n",
       "      <td>1</td>\n",
       "      <td>3176</td>\n",
       "      <td>Petrol</td>\n",
       "      <td>NaN</td>\n",
       "      <td>2020</td>\n",
       "      <td>408499</td>\n",
       "    </tr>\n",
       "    <tr>\n",
       "      <th>3</th>\n",
       "      <td>Maruti</td>\n",
       "      <td>Swift</td>\n",
       "      <td>VDI</td>\n",
       "      <td>1</td>\n",
       "      <td>11019</td>\n",
       "      <td>Diesel</td>\n",
       "      <td>Manual</td>\n",
       "      <td>2013</td>\n",
       "      <td>378499</td>\n",
       "    </tr>\n",
       "    <tr>\n",
       "      <th>4</th>\n",
       "      <td>Tata</td>\n",
       "      <td>Nano</td>\n",
       "      <td>XT TWIST</td>\n",
       "      <td>1</td>\n",
       "      <td>26554</td>\n",
       "      <td>Petrol</td>\n",
       "      <td>Manual</td>\n",
       "      <td>2015</td>\n",
       "      <td>123499</td>\n",
       "    </tr>\n",
       "    <tr>\n",
       "      <th>...</th>\n",
       "      <td>...</td>\n",
       "      <td>...</td>\n",
       "      <td>...</td>\n",
       "      <td>...</td>\n",
       "      <td>...</td>\n",
       "      <td>...</td>\n",
       "      <td>...</td>\n",
       "      <td>...</td>\n",
       "      <td>...</td>\n",
       "    </tr>\n",
       "    <tr>\n",
       "      <th>4908</th>\n",
       "      <td>Hyundai</td>\n",
       "      <td>i10</td>\n",
       "      <td>MAGNA 1.2</td>\n",
       "      <td>1</td>\n",
       "      <td>74739</td>\n",
       "      <td>Petrol</td>\n",
       "      <td>Manual</td>\n",
       "      <td>2010</td>\n",
       "      <td>292899</td>\n",
       "    </tr>\n",
       "    <tr>\n",
       "      <th>4909</th>\n",
       "      <td>Honda</td>\n",
       "      <td>City</td>\n",
       "      <td>SV MT PETROL</td>\n",
       "      <td>1</td>\n",
       "      <td>71593</td>\n",
       "      <td>Petrol</td>\n",
       "      <td>Manual</td>\n",
       "      <td>2015</td>\n",
       "      <td>539199</td>\n",
       "    </tr>\n",
       "    <tr>\n",
       "      <th>4910</th>\n",
       "      <td>Maruti</td>\n",
       "      <td>Swift</td>\n",
       "      <td>VXI 1.2 BS IV</td>\n",
       "      <td>1</td>\n",
       "      <td>69673</td>\n",
       "      <td>Petrol</td>\n",
       "      <td>Manual</td>\n",
       "      <td>2016</td>\n",
       "      <td>531299</td>\n",
       "    </tr>\n",
       "    <tr>\n",
       "      <th>4911</th>\n",
       "      <td>Hyundai</td>\n",
       "      <td>i20</td>\n",
       "      <td>1.4 SX</td>\n",
       "      <td>1</td>\n",
       "      <td>57997</td>\n",
       "      <td>Diesel</td>\n",
       "      <td>Manual</td>\n",
       "      <td>2016</td>\n",
       "      <td>660699</td>\n",
       "    </tr>\n",
       "    <tr>\n",
       "      <th>4912</th>\n",
       "      <td>Maruti</td>\n",
       "      <td>Vitara</td>\n",
       "      <td>VDI AMT</td>\n",
       "      <td>1</td>\n",
       "      <td>40871</td>\n",
       "      <td>Diesel</td>\n",
       "      <td>Manual</td>\n",
       "      <td>2019</td>\n",
       "      <td>967199</td>\n",
       "    </tr>\n",
       "  </tbody>\n",
       "</table>\n",
       "<p>4913 rows × 9 columns</p>\n",
       "</div>"
      ],
      "text/plain": [
       "         Name Model Name         Variant Owner Kilometer    Fuel Transmission  \\\n",
       "0      Maruti     Baleno  DELTA 1.2 K12      1     3920   Petrol       Manual   \n",
       "1      Maruti      IGNIS  SIGMA 1.2 K12      1     2206   Petrol       Manual   \n",
       "2      Maruti          S             VXI     1     3176   Petrol          NaN   \n",
       "3      Maruti      Swift            VDI      1    11019   Diesel       Manual   \n",
       "4        Tata       Nano       XT TWIST      1    26554   Petrol       Manual   \n",
       "...       ...        ...             ...   ...       ...     ...          ...   \n",
       "4908  Hyundai        i10      MAGNA 1.2      1    74739   Petrol       Manual   \n",
       "4909    Honda       City   SV MT PETROL      1    71593   Petrol       Manual   \n",
       "4910   Maruti      Swift  VXI 1.2 BS IV      1    69673   Petrol       Manual   \n",
       "4911  Hyundai        i20         1.4 SX      1    57997   Diesel       Manual   \n",
       "4912   Maruti     Vitara        VDI AMT      1    40871   Diesel       Manual   \n",
       "\n",
       "     Year of Manufacture   Price  \n",
       "0                   2020  659399  \n",
       "1                   2020  525699  \n",
       "2                   2020  408499  \n",
       "3                   2013  378499  \n",
       "4                   2015  123499  \n",
       "...                  ...     ...  \n",
       "4908                2010  292899  \n",
       "4909                2015  539199  \n",
       "4910                2016  531299  \n",
       "4911                2016  660699  \n",
       "4912                2019  967199  \n",
       "\n",
       "[4913 rows x 9 columns]"
      ]
     },
     "execution_count": 36,
     "metadata": {},
     "output_type": "execute_result"
    }
   ],
   "source": [
    "Cars24"
   ]
  },
  {
   "cell_type": "code",
   "execution_count": 37,
   "id": "e3c1b74e",
   "metadata": {},
   "outputs": [],
   "source": [
    "Cars24.to_csv(\"Cars24data.csv\", encoding='utf-8')"
   ]
  },
  {
   "cell_type": "markdown",
   "id": "4370e3b2",
   "metadata": {},
   "source": [
    "# OLX"
   ]
  },
  {
   "cell_type": "code",
   "execution_count": 38,
   "id": "2a1621cb",
   "metadata": {},
   "outputs": [],
   "source": [
    "def Url():\n",
    "    url = input(\"Please enter the url you want to go: \")\n",
    "    driver.get(url)\n",
    "    item = input(\"Please enter the thing you want to search: \")\n",
    "    search = driver.find_element_by_xpath(\"//form[@class='rui-1Azjs _20jkh']/fieldset/div/input\")\n",
    "    search.send_keys(item)\n",
    "    driver.find_element_by_xpath(\"//div[@class='_3b3oR']\").click()\n",
    "    time.sleep(2)"
   ]
  },
  {
   "cell_type": "code",
   "execution_count": 39,
   "id": "515e9ca4",
   "metadata": {},
   "outputs": [
    {
     "name": "stdout",
     "output_type": "stream",
     "text": [
      "Please enter the url you want to go: https://www.olx.in/\n",
      "Please enter the thing you want to search: Cars\n"
     ]
    }
   ],
   "source": [
    "Url()"
   ]
  },
  {
   "cell_type": "code",
   "execution_count": 40,
   "id": "724f7356",
   "metadata": {},
   "outputs": [],
   "source": [
    "Link = []\n",
    "Name = []\n",
    "Model = []\n",
    "Owner = []\n",
    "Kilo = []\n",
    "Fuel = []\n",
    "Trans = []\n",
    "Year = []\n",
    "Price = []\n",
    "Variant = []"
   ]
  },
  {
   "cell_type": "code",
   "execution_count": 41,
   "id": "5e95ca63",
   "metadata": {},
   "outputs": [],
   "source": [
    "class FullOlx:\n",
    "    \n",
    "    def LoadMore():\n",
    "        try:\n",
    "            for i in range(0,30):\n",
    "                driver.find_element_by_xpath(\"//button[@class='rui-39-wj rui-3evoE rui-1JPTg']\").click()\n",
    "                time.sleep(3)\n",
    "            driver.execute_script(\"scrollBy(0,-500000);\")\n",
    "        except:\n",
    "            pass\n",
    "    \n",
    "    def Links():\n",
    "        try:\n",
    "            link = driver.find_elements_by_xpath(\"//li[@class='EIR5N']/a\")\n",
    "            for j in link:\n",
    "                Link.append(j.get_attribute('href'))\n",
    "        except:\n",
    "            pass\n",
    "        \n",
    "    def OlxScrape():\n",
    "        for i in Link:\n",
    "            try:\n",
    "                driver.get(i)\n",
    "                time.sleep(3)\n",
    "                name = driver.find_element_by_xpath(\"//span[@data-aut-id='value_make']\")\n",
    "                Name.append(name.text)\n",
    "                model = driver.find_element_by_xpath(\"//span[@data-aut-id='value_model']\")\n",
    "                Model.append(model.text)\n",
    "                owner = driver.find_element_by_xpath(\"//span[@data-aut-id='value_first_owner']\")\n",
    "                Owner.append(owner.text)\n",
    "                kilo = driver.find_element_by_xpath(\"//span[@data-aut-id='value_mileage']\")\n",
    "                Kilo.append(kilo.text)\n",
    "                fuel = driver.find_element_by_xpath(\"//span[@data-aut-id='value_petrol']\")\n",
    "                Fuel.append(fuel.text)\n",
    "                trans = driver.find_element_by_xpath(\"//span[@data-aut-id='value_transmission']\")\n",
    "                Trans.append(trans.text)\n",
    "                year = driver.find_element_by_xpath(\"//span[@data-aut-id='value_year']\")\n",
    "                Year.append(year.text)\n",
    "                price = driver.find_element_by_xpath(\"//section[@class='_2wMiF']/span[1]\")\n",
    "                Price.append(price.text)\n",
    "                variant = driver.find_element_by_xpath(\"//span[@data-aut-id='value_variant']\")\n",
    "                Variant.append(variant.text)\n",
    "            except:\n",
    "                continue"
   ]
  },
  {
   "cell_type": "code",
   "execution_count": 42,
   "id": "17219541",
   "metadata": {},
   "outputs": [],
   "source": [
    "Fo = FullOlx"
   ]
  },
  {
   "cell_type": "code",
   "execution_count": 43,
   "id": "4a3a214c",
   "metadata": {},
   "outputs": [],
   "source": [
    "Fo.LoadMore()"
   ]
  },
  {
   "cell_type": "code",
   "execution_count": 44,
   "id": "3780a29f",
   "metadata": {},
   "outputs": [],
   "source": [
    "Fo.Links()"
   ]
  },
  {
   "cell_type": "code",
   "execution_count": 45,
   "id": "d01dedf8",
   "metadata": {},
   "outputs": [],
   "source": [
    "Fo.OlxScrape()"
   ]
  },
  {
   "cell_type": "code",
   "execution_count": 46,
   "id": "30027009",
   "metadata": {},
   "outputs": [
    {
     "name": "stdout",
     "output_type": "stream",
     "text": [
      "431\n",
      "430\n",
      "412\n",
      "412\n",
      "411\n",
      "406\n",
      "406\n",
      "406\n",
      "399\n"
     ]
    }
   ],
   "source": [
    "print(len(Name))\n",
    "print(len(Model))\n",
    "print(len(Owner))\n",
    "print(len(Kilo))\n",
    "print(len(Fuel))\n",
    "print(len(Trans))\n",
    "print(len(Year))\n",
    "print(len(Price))\n",
    "print(len(Variant))"
   ]
  },
  {
   "cell_type": "code",
   "execution_count": 47,
   "id": "bf7698f1",
   "metadata": {},
   "outputs": [],
   "source": [
    "Clean_Owner = []\n",
    "for i in Owner:\n",
    "    Clean_Owner.append(i.replace('st','').replace('nd','').replace('rd','').replace('th',''))"
   ]
  },
  {
   "cell_type": "code",
   "execution_count": 48,
   "id": "f783f601",
   "metadata": {},
   "outputs": [],
   "source": [
    "Clean_Kilo = []\n",
    "for i in Kilo:\n",
    "    Clean_Kilo.append(i.replace('km','').replace(',',''))"
   ]
  },
  {
   "cell_type": "code",
   "execution_count": 49,
   "id": "e5d09890",
   "metadata": {},
   "outputs": [],
   "source": [
    "Clean_Price = []\n",
    "for i in Price:\n",
    "    Clean_Price.append(i.replace('₹','').replace(' ','').replace(',',''))"
   ]
  },
  {
   "cell_type": "code",
   "execution_count": 50,
   "id": "3728b96b",
   "metadata": {},
   "outputs": [],
   "source": [
    "data = {\n",
    "    'Name':Name,\n",
    "    'Model Name': Model,\n",
    "    'Variant':Variant,\n",
    "    'Owner':Clean_Owner,\n",
    "    'Kilometer':Clean_Kilo,\n",
    "    'Fuel':Fuel,\n",
    "    'Transmission':Trans,\n",
    "    'Year of Manufacture':Year,\n",
    "    'Price':Clean_Price\n",
    "}"
   ]
  },
  {
   "cell_type": "code",
   "execution_count": 51,
   "id": "a7fb7ec5",
   "metadata": {},
   "outputs": [],
   "source": [
    "olx = pd.DataFrame.from_dict(data, orient='index').transpose()"
   ]
  },
  {
   "cell_type": "code",
   "execution_count": 52,
   "id": "3ff5749b",
   "metadata": {},
   "outputs": [],
   "source": [
    "olx.dropna(inplace=True)"
   ]
  },
  {
   "cell_type": "code",
   "execution_count": 54,
   "id": "a128bb18",
   "metadata": {},
   "outputs": [],
   "source": [
    "olx.to_csv('olx.csv', encoding='utf-8')"
   ]
  },
  {
   "cell_type": "code",
   "execution_count": 55,
   "id": "c885628b",
   "metadata": {},
   "outputs": [],
   "source": [
    "path = r'S:\\Data Science Projects\\Flip Robo\\Car Price Prediction' # use your path\n",
    "all_files = glob.glob(path + \"/*.csv\")\n",
    "\n",
    "li = []\n",
    "\n",
    "for filename in all_files:\n",
    "    df = pd.read_csv(filename, index_col=None, header=0)\n",
    "    li.append(df)\n",
    "\n",
    "frame = pd.concat(li, axis=0, ignore_index=True)"
   ]
  },
  {
   "cell_type": "code",
   "execution_count": 56,
   "id": "6dc585ac",
   "metadata": {},
   "outputs": [],
   "source": [
    "frame.drop('Unnamed: 0',1,inplace=True)"
   ]
  },
  {
   "cell_type": "code",
   "execution_count": 57,
   "id": "4bee97a0",
   "metadata": {},
   "outputs": [],
   "source": [
    "frame.to_csv('Dataset.csv', encoding='utf-8')"
   ]
  }
 ],
 "metadata": {
  "kernelspec": {
   "display_name": "Python 3",
   "language": "python",
   "name": "python3"
  },
  "language_info": {
   "codemirror_mode": {
    "name": "ipython",
    "version": 3
   },
   "file_extension": ".py",
   "mimetype": "text/x-python",
   "name": "python",
   "nbconvert_exporter": "python",
   "pygments_lexer": "ipython3",
   "version": "3.8.8"
  }
 },
 "nbformat": 4,
 "nbformat_minor": 5
}
